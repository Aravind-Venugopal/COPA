{
 "cells": [
  {
   "cell_type": "markdown",
   "metadata": {},
   "source": [
    "## COPA Enhanced Search Usability Testing\n",
    "\n",
    "This script is used to generate HTML pages with re-ranked search results for COPA project's modeling test. The code will change the search results' order by modifying the original search HTML pages. By doing so, COPA's re-ranking model can be tested by surveying several COPA members and leting them score the new search result panel. "
   ]
  },
  {
   "cell_type": "markdown",
   "metadata": {},
   "source": [
    "### Import Packages"
   ]
  },
  {
   "cell_type": "code",
   "execution_count": 0,
   "metadata": {
    "colab": {},
    "colab_type": "code",
    "id": "5cDreIAqRVuD"
   },
   "outputs": [],
   "source": [
    "import pandas as pd\n",
    "import bs4 as bs\n",
    "import re\n",
    "import requests\n",
    "from selenium import webdriver\n",
    "from tqdm import tqdm_notebook as tqdm\n",
    "from time import sleep\n",
    "from os import listdir\n",
    "from os.path import isfile, join, isdir\n",
    "import random\n",
    "import itertools\n",
    "from pywebcopy import save_webpage"
   ]
  },
  {
   "cell_type": "markdown",
   "metadata": {
    "colab_type": "text",
    "id": "Gsfivz50RVuH"
   },
   "source": [
    "### Generate HTML Test Panels"
   ]
  },
  {
   "cell_type": "code",
   "execution_count": 0,
   "metadata": {
    "colab": {},
    "colab_type": "code",
    "id": "pfEGL8jkRVuI"
   },
   "outputs": [],
   "source": [
    "# import the existing list for test links\n",
    "test_links = pd.read_csv('./test_links.csv')"
   ]
  },
  {
   "cell_type": "code",
   "execution_count": 0,
   "metadata": {
    "colab": {},
    "colab_type": "code",
    "id": "775GlqpZRVuL"
   },
   "outputs": [],
   "source": [
    "# get all files from the specified path with ratio in the filename\n",
    "mypath = '/Users/jeloretizo/Documents/MSBA/Practicum Project/COPA-Usability-Testing'\n",
    "ratio_files = [f for f in listdir(mypath) if isfile(join(mypath,\n",
    "                                                         f)) and ('ratio' in f)]"
   ]
  },
  {
   "cell_type": "code",
   "execution_count": 0,
   "metadata": {
    "colab": {},
    "colab_type": "code",
    "id": "vFkShFGfRVuN"
   },
   "outputs": [],
   "source": [
    "# list all test search queries prescribed by the MIP\n",
    "query_strings = ['brakes during taxi',\n",
    "                 'capture glide slope above',\n",
    "                 'stall under hood',\n",
    "                 'find flight instructor',\n",
    "                 'oxygen altitude',\n",
    "                 'file nasa report',\n",
    "                 'loose fairing noise',\n",
    "                 'loose seat belt',\n",
    "                 'power off landing',\n",
    "                 'music volume low']"
   ]
  },
  {
   "cell_type": "code",
   "execution_count": 0,
   "metadata": {
    "colab": {},
    "colab_type": "code",
    "id": "_tw3xfDGRVuP"
   },
   "outputs": [],
   "source": [
    "# four test HTML panels' name\n",
    "panel_labels = ['Panel1.html', 'Panel2.html', 'Panel3.html', 'Panel4.html']"
   ]
  },
  {
   "cell_type": "code",
   "execution_count": 0,
   "metadata": {
    "colab": {},
    "colab_type": "code",
    "id": "8NQx-rWvRVuT"
   },
   "outputs": [],
   "source": [
    "def get_id(link):\n",
    "    \"\"\"Returns result id\n",
    "\n",
    "    This function parses the id from a the url link passed as argument.\n",
    "    \"\"\"\n",
    "\n",
    "    res_id = re.findall(r'\\/[0-9]+\\/[0-9]+|\\/[\\d]+$', link)[0]\n",
    "    return res_id"
   ]
  },
  {
   "cell_type": "code",
   "execution_count": 0,
   "metadata": {
    "colab": {},
    "colab_type": "code",
    "id": "dmAR6WheRVuV"
   },
   "outputs": [],
   "source": [
    "def get_href_id(html):\n",
    "    \"\"\"Returns the id for a search result\n",
    "\n",
    "    This function looks for the search-link class in the html file given and passes the value of the href to \n",
    "    another helper function called get_id. The function takes html as an input.\n",
    "    \"\"\"\n",
    "\n",
    "    href = html.find(class_='search-link')['href']\n",
    "    return get_id(href)"
   ]
  },
  {
   "cell_type": "code",
   "execution_count": 0,
   "metadata": {
    "colab": {},
    "colab_type": "code",
    "id": "7dgLc8gkRVuR"
   },
   "outputs": [],
   "source": [
    "def get_rerank_list(soup, rerank):\n",
    "    \"\"\"Returns reordered list of search results\n",
    "\n",
    "    This function reranks search results according to the order prescribed by the model. It receives two inputs; \n",
    "    soup refers to the parsed html page and rerank contains the new order of the search results.\n",
    "    \"\"\"\n",
    "\n",
    "    # get all html groups with class fps-result\n",
    "    all_items = soup.find_all(class_='fps-result')\n",
    "    html_links = pd.DataFrame(all_items).reset_index()\n",
    "    html_links = html_links.rename(columns={'index': 'old_rank'})\n",
    "    html_links['id'] = html_links[3].apply(lambda x: get_href_id(x))\n",
    "\n",
    "    rerank = rerank.reset_index(drop=True).reset_index()\n",
    "    rerank = rerank.rename(columns={'index': 'New Rank'})\n",
    "    for ID in html_links['id']:\n",
    "        try:\n",
    "            new_rank = rerank.loc[rerank['url-id'].str.contains(ID)].index[0]\n",
    "        except:\n",
    "            new_rank = None\n",
    "        html_links.loc[html_links['id'] == ID, 'New Rank'] = new_rank\n",
    "\n",
    "    new_order = list(html_links.sort_values('New Rank',\n",
    "                                            ascending=True)['old_rank'])\n",
    "    final_order = [all_items[index]\n",
    "                   for index in new_order] \n",
    "    return final_order"
   ]
  },
  {
   "cell_type": "code",
   "execution_count": 0,
   "metadata": {
    "colab": {
     "referenced_widgets": [
      "30aa6c9367e145d4bfdc3b4f45aa1a8c"
     ]
    },
    "colab_type": "code",
    "id": "dkJ-YceqRVuY",
    "outputId": "6683f187-f61f-4930-9e5a-8c7cfc445b28",
    "scrolled": false
   },
   "outputs": [
    {
     "name": "stderr",
     "output_type": "stream",
     "text": [
      "/Library/Frameworks/Python.framework/Versions/3.7/lib/python3.7/site-packages/ipykernel_launcher.py:1: TqdmDeprecationWarning: This function will be removed in tqdm==5.0.0\n",
      "Please use `tqdm.notebook.tqdm` instead of `tqdm.tqdm_notebook`\n",
      "  \"\"\"Entry point for launching an IPython kernel.\n"
     ]
    },
    {
     "data": {
      "application/vnd.jupyter.widget-view+json": {
       "model_id": "30aa6c9367e145d4bfdc3b4f45aa1a8c",
       "version_major": 2,
       "version_minor": 0
      },
      "text/plain": [
       "HBox(children=(FloatProgress(value=0.0, max=10.0), HTML(value='')))"
      ]
     },
     "metadata": {
      "tags": []
     },
     "output_type": "display_data"
    },
    {
     "name": "stdout",
     "output_type": "stream",
     "text": [
      "brakes during taxi  -- Control Panel Printed in: Panel1.html\n",
      "brakes during taxi  -- Model Ratio:  ratio_comb3.csv  -- Printed in:  Panel2.html\n",
      "brakes during taxi  -- Model Ratio:  ratio_comb2.csv  -- Printed in:  Panel3.html\n",
      "brakes during taxi  -- Model Ratio:  ratio_comb1.csv  -- Printed in:  Panel4.html\n",
      "capture glide slope above  -- Control Panel Printed in: Panel2.html\n",
      "capture glide slope above  -- Model Ratio:  ratio_comb3.csv  -- Printed in:  Panel3.html\n",
      "capture glide slope above  -- Model Ratio:  ratio_comb2.csv  -- Printed in:  Panel4.html\n",
      "capture glide slope above  -- Model Ratio:  ratio_comb1.csv  -- Printed in:  Panel1.html\n",
      "stall under hood  -- Control Panel Printed in: Panel2.html\n",
      "stall under hood  -- Model Ratio:  ratio_comb3.csv  -- Printed in:  Panel1.html\n",
      "stall under hood  -- Model Ratio:  ratio_comb2.csv  -- Printed in:  Panel3.html\n",
      "stall under hood  -- Model Ratio:  ratio_comb1.csv  -- Printed in:  Panel4.html\n",
      "find flight instructor  -- Control Panel Printed in: Panel3.html\n",
      "find flight instructor  -- Model Ratio:  ratio_comb3.csv  -- Printed in:  Panel2.html\n",
      "find flight instructor  -- Model Ratio:  ratio_comb2.csv  -- Printed in:  Panel1.html\n",
      "find flight instructor  -- Model Ratio:  ratio_comb1.csv  -- Printed in:  Panel4.html\n",
      "oxygen altitude  -- Control Panel Printed in: Panel3.html\n",
      "oxygen altitude  -- Model Ratio:  ratio_comb3.csv  -- Printed in:  Panel4.html\n",
      "oxygen altitude  -- Model Ratio:  ratio_comb2.csv  -- Printed in:  Panel2.html\n",
      "oxygen altitude  -- Model Ratio:  ratio_comb1.csv  -- Printed in:  Panel1.html\n",
      "file nasa report  -- Control Panel Printed in: Panel2.html\n",
      "file nasa report  -- Model Ratio:  ratio_comb3.csv  -- Printed in:  Panel4.html\n",
      "file nasa report  -- Model Ratio:  ratio_comb2.csv  -- Printed in:  Panel1.html\n",
      "file nasa report  -- Model Ratio:  ratio_comb1.csv  -- Printed in:  Panel3.html\n",
      "loose fairing noise  -- Control Panel Printed in: Panel2.html\n",
      "loose fairing noise  -- Model Ratio:  ratio_comb3.csv  -- Printed in:  Panel1.html\n",
      "loose fairing noise  -- Model Ratio:  ratio_comb2.csv  -- Printed in:  Panel3.html\n",
      "loose fairing noise  -- Model Ratio:  ratio_comb1.csv  -- Printed in:  Panel4.html\n",
      "loose seat belt  -- Control Panel Printed in: Panel2.html\n",
      "loose seat belt  -- Model Ratio:  ratio_comb3.csv  -- Printed in:  Panel1.html\n",
      "loose seat belt  -- Model Ratio:  ratio_comb2.csv  -- Printed in:  Panel3.html\n",
      "loose seat belt  -- Model Ratio:  ratio_comb1.csv  -- Printed in:  Panel4.html\n",
      "power off landing  -- Control Panel Printed in: Panel1.html\n",
      "power off landing  -- Model Ratio:  ratio_comb3.csv  -- Printed in:  Panel4.html\n",
      "power off landing  -- Model Ratio:  ratio_comb2.csv  -- Printed in:  Panel2.html\n",
      "power off landing  -- Model Ratio:  ratio_comb1.csv  -- Printed in:  Panel3.html\n",
      "music volume low  -- Control Panel Printed in: Panel2.html\n",
      "music volume low  -- Model Ratio:  ratio_comb3.csv  -- Printed in:  Panel1.html\n",
      "music volume low  -- Model Ratio:  ratio_comb2.csv  -- Printed in:  Panel3.html\n",
      "music volume low  -- Model Ratio:  ratio_comb1.csv  -- Printed in:  Panel4.html\n",
      "\n"
     ]
    }
   ],
   "source": [
    "# iterate through all query strings\n",
    "for query in tqdm(query_strings):  # change i to query\n",
    "\n",
    "    # randomize panel labels\n",
    "    random_panels = random.sample(panel_labels, 4)\n",
    "    folder_name = query.title().replace(' ', '')\n",
    "    query_path = mypath + '/' + folder_name + '/'\n",
    "\n",
    "    files = [f for f in listdir(query_path) if (query in f) and (isdir(join(query_path,\n",
    "                                                                            f)) == False)]  \n",
    "    if len(files) == 1:\n",
    "        with open('./{}/{}'.format(folder_name, files[0]), 'r') as open_file:\n",
    "            soup = bs.BeautifulSoup(open_file, 'html.parser')\n",
    "\n",
    "            # save the original search in a new html panel\n",
    "            print(query, ' -- Control Panel Printed in:', random_panels[3])\n",
    "            with open('./{}/{}'.format(folder_name, random_panels[3]), 'w') as output_file:\n",
    "\n",
    "                test_links.loc[(test_links['0'] == folder_name) &\n",
    "                               (test_links['1'] == random_panels[3]),\n",
    "                               'Panel Type'] = 'Control'\n",
    "                \n",
    "                output_file.write(str(soup))\n",
    "                output_file.close()\n",
    "\n",
    "            # iterate through each model ratio file and generate \n",
    "            for model_number, ratio_file in enumerate(ratio_files, start=0):\n",
    "                \n",
    "                ratio = pd.read_csv('./' + ratio_file)\n",
    "                ratio['url-id'] = ratio['url'].apply(lambda x: get_id(x))\n",
    "                temp_var = ratio.loc[ratio['Query'] == query]\n",
    "                final_list = get_rerank_list(soup, temp_var)\n",
    "\n",
    "                # reopen original base html file\n",
    "                with open('./{}/{}'.format(folder_name, files[0]), 'r') as open_file:\n",
    "                    soup = bs.BeautifulSoup(open_file, 'html.parser')\n",
    "\n",
    "                # perform replacement of elements based on final list\n",
    "                for k in range(len(final_list)):\n",
    "                    soup.find_all(\n",
    "                        class_='fps-result')[k].replace_with(final_list[k])\n",
    "\n",
    "                # print out panel information and record the same on the experimental design document\n",
    "                print(query, ' -- Model Ratio: ', ratio_file,\n",
    "                      ' -- Printed in: ', random_panels[model_number])\n",
    "                test_links.loc[(test_links['0'] == folder_name) & (test_links['1'] == random_panels[model_number]),\n",
    "                               'Panel Type'] = ratio_file\n",
    "\n",
    "                # save the new test panel as html\n",
    "                with open('./{}/{}'.format(folder_name, random_panels[model_number]), 'w') as output_file:\n",
    "                    output_file.write(str(soup))\n",
    "                    output_file.close()"
   ]
  },
  {
   "cell_type": "code",
   "execution_count": 0,
   "metadata": {
    "colab": {},
    "colab_type": "code",
    "id": "OEBHMFznRVub"
   },
   "outputs": [],
   "source": [
    "# save the generated experimental design to a csv\n",
    "test_links.to_csv('./experimental_design.csv', index=False)"
   ]
  }
 ],
 "metadata": {
  "colab": {
   "collapsed_sections": [],
   "name": "Test Plan Script.ipynb",
   "provenance": []
  },
  "kernelspec": {
   "display_name": "Python 3",
   "language": "python",
   "name": "python3"
  },
  "language_info": {
   "codemirror_mode": {
    "name": "ipython",
    "version": 3
   },
   "file_extension": ".py",
   "mimetype": "text/x-python",
   "name": "python",
   "nbconvert_exporter": "python",
   "pygments_lexer": "ipython3",
   "version": "3.7.2"
  },
  "toc": {
   "base_numbering": 1,
   "nav_menu": {},
   "number_sections": true,
   "sideBar": true,
   "skip_h1_title": false,
   "title_cell": "Table of Contents",
   "title_sidebar": "Contents",
   "toc_cell": false,
   "toc_position": {},
   "toc_section_display": true,
   "toc_window_display": false
  },
  "varInspector": {
   "cols": {
    "lenName": 16,
    "lenType": 16,
    "lenVar": 40
   },
   "kernels_config": {
    "python": {
     "delete_cmd_postfix": "",
     "delete_cmd_prefix": "del ",
     "library": "var_list.py",
     "varRefreshCmd": "print(var_dic_list())"
    },
    "r": {
     "delete_cmd_postfix": ") ",
     "delete_cmd_prefix": "rm(",
     "library": "var_list.r",
     "varRefreshCmd": "cat(var_dic_list()) "
    }
   },
   "oldHeight": 122,
   "position": {
    "height": "40px",
    "left": "1069px",
    "right": "20px",
    "top": "120px",
    "width": "350px"
   },
   "types_to_exclude": [
    "module",
    "function",
    "builtin_function_or_method",
    "instance",
    "_Feature"
   ],
   "varInspector_section_display": "none",
   "window_display": true
  }
 },
 "nbformat": 4,
 "nbformat_minor": 1
}
