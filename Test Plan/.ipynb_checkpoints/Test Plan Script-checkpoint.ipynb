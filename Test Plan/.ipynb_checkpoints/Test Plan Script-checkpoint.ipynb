{
 "cells": [
  {
   "cell_type": "code",
   "execution_count": 331,
   "metadata": {},
   "outputs": [],
   "source": [
    "import pandas as pd\n",
    "import bs4 as bs\n",
    "import re\n",
    "import requests\n",
    "from selenium import webdriver\n",
    "from tqdm import tqdm_notebook as tqdm\n",
    "from time import sleep"
   ]
  },
  {
   "cell_type": "markdown",
   "metadata": {},
   "source": [
    "## Original Search Results"
   ]
  },
  {
   "cell_type": "code",
   "execution_count": 47,
   "metadata": {},
   "outputs": [],
   "source": [
    "# import list of search strings\n",
    "search_list = pd.read_csv('./sample_list.csv', skiprows=2)"
   ]
  },
  {
   "cell_type": "code",
   "execution_count": 93,
   "metadata": {},
   "outputs": [],
   "source": [
    "# change spaces to %20 as prescribed in the new search url and store on list\n",
    "query_list = search_list['Query'].str.replace(' ', '%20')\n",
    "query_list = list(set(query_list))"
   ]
  },
  {
   "cell_type": "code",
   "execution_count": 94,
   "metadata": {},
   "outputs": [],
   "source": [
    "# define query url\n",
    "query_url = 'https://forum.cirruspilots.org/search?q='"
   ]
  },
  {
   "cell_type": "code",
   "execution_count": 138,
   "metadata": {},
   "outputs": [],
   "source": [
    "# define site login function\n",
    "def site_login():\n",
    "    '''\n",
    "    This is a helper function that logins to cirruspilots.org\n",
    "    '''\n",
    "    driver.get('https://passport.cirruspilots.org/')\n",
    "    driver.find_element_by_id(\n",
    "        'dnn_ctr_Login_Login_DNN_txtUsername').send_keys('jloretizo')\n",
    "    driver.find_element_by_id(\n",
    "        'dnn_ctr_Login_Login_DNN_txtPassword').send_keys('cth4h#@EoY*a')\n",
    "    driver.find_element_by_id('login_btn').click()"
   ]
  },
  {
   "cell_type": "code",
   "execution_count": 325,
   "metadata": {},
   "outputs": [],
   "source": [
    "# define the driver and execute login \n",
    "driver = webdriver.Safari()\n",
    "site_login()"
   ]
  },
  {
   "cell_type": "code",
   "execution_count": 326,
   "metadata": {},
   "outputs": [],
   "source": [
    "driver.get('https://www.cirruspilots.org/Forums')"
   ]
  },
  {
   "cell_type": "code",
   "execution_count": 337,
   "metadata": {},
   "outputs": [
    {
     "name": "stderr",
     "output_type": "stream",
     "text": [
      "/Library/Frameworks/Python.framework/Versions/3.7/lib/python3.7/site-packages/ipykernel_launcher.py:3: TqdmDeprecationWarning: This function will be removed in tqdm==5.0.0\n",
      "Please use `tqdm.notebook.tqdm` instead of `tqdm.tqdm_notebook`\n",
      "  This is separate from the ipykernel package so we can avoid doing imports until\n"
     ]
    },
    {
     "data": {
      "application/vnd.jupyter.widget-view+json": {
       "model_id": "c799ca5b7e4f4ea7bebf99165164abf0",
       "version_major": 2,
       "version_minor": 0
      },
      "text/plain": [
       "HBox(children=(FloatProgress(value=0.0, max=10.0), HTML(value='')))"
      ]
     },
     "metadata": {},
     "output_type": "display_data"
    },
    {
     "name": "stdout",
     "output_type": "stream",
     "text": [
      "\n"
     ]
    }
   ],
   "source": [
    "# get the results set\n",
    "results_set = {}\n",
    "for i in tqdm(query_list):\n",
    "    driver.get(query_url + i, )\n",
    "    sleep(2)\n",
    "    soup = bs.BeautifulSoup(driver.page_source, 'html.parser')\n",
    "    links_list = []\n",
    "    for j in soup.find_all(class_='fps-result'):\n",
    "        href = j.find(class_='search-link')['href']\n",
    "        links_list.append(href)\n",
    "    results_set[i] = links_list\n",
    "    sleep(2)"
   ]
  },
  {
   "cell_type": "code",
   "execution_count": 368,
   "metadata": {},
   "outputs": [],
   "source": [
    "def get_post_ids(row):\n",
    "    ref_nums = []\n",
    "    for i in range(len(row)):\n",
    "        try:\n",
    "            num = re.findall(r'\\/[0-9]+\\/[0-9]|\\/[\\d]+$', str(row[i]))[0]\n",
    "        except:\n",
    "            num = None\n",
    "        ref_nums.append(num)\n",
    "    return ref_nums"
   ]
  },
  {
   "cell_type": "code",
   "execution_count": 370,
   "metadata": {},
   "outputs": [],
   "source": [
    "results_df = pd.DataFrame.from_dict(results_set, orient='index')\n",
    "# results_df = results_df.reset_index()\n",
    "results_df['ref_nums'] = results_df.apply(\n",
    "    lambda row: get_post_ids(row), axis=1)"
   ]
  },
  {
   "cell_type": "code",
   "execution_count": 371,
   "metadata": {},
   "outputs": [],
   "source": [
    "# converting links to dictionary\n",
    "links_dict = {}\n",
    "for i in results_df.index:\n",
    "    links_dict[i] = results_df.loc[i]['ref_nums']"
   ]
  },
  {
   "cell_type": "code",
   "execution_count": 388,
   "metadata": {},
   "outputs": [],
   "source": [
    "# stacking and resetting new dataframe\n",
    "link_ids = pd.DataFrame.from_dict(\n",
    "    links_dict, orient='index').stack().reset_index()"
   ]
  },
  {
   "cell_type": "code",
   "execution_count": 389,
   "metadata": {},
   "outputs": [],
   "source": [
    "# column rename and search string renames\n",
    "link_ids['level_0'] = link_ids['level_0'].apply(\n",
    "    lambda x: x.replace('%20', ' '))\n",
    "link_ids = link_ids.rename(columns={'level_0': 'search string', 0: 'id'})"
   ]
  },
  {
   "cell_type": "code",
   "execution_count": 393,
   "metadata": {},
   "outputs": [],
   "source": [
    "# saving data to csv\n",
    "link_ids[['search string', 'id']].to_csv('./search_results.csv', index=False)"
   ]
  },
  {
   "cell_type": "markdown",
   "metadata": {},
   "source": [
    "## New Search Results"
   ]
  },
  {
   "cell_type": "code",
   "execution_count": 4,
   "metadata": {},
   "outputs": [],
   "source": [
    "# open the search html template\n",
    "with open('search.html', 'r') as open_file:\n",
    "    soup = bs.BeautifulSoup(open_file, 'html.parser')"
   ]
  },
  {
   "cell_type": "code",
   "execution_count": 37,
   "metadata": {},
   "outputs": [],
   "source": [
    "# find all content item classes\n",
    "for i in soup.find_all(class_='content-item'):\n",
    "    # change the value of title inside the a tag\n",
    "    i.find(class_='abbreviated-post').find('h4').find('a')['title'] = 'New Title'\n",
    "    # change the href for link\n",
    "    i.find(class_='abbreviated-post').find('h4').find('a')['href'] = 'New Title'\n",
    "    # change text value\n",
    "    i.find(class_='abbreviated-post').find('h4').find('a').string.replace_with(\"No longer bold\")\n",
    "    "
   ]
  },
  {
   "cell_type": "code",
   "execution_count": 38,
   "metadata": {},
   "outputs": [],
   "source": [
    "# save this new html as test panel\n",
    "with open(\"output1.html\", \"w\") as file:\n",
    "    file.write(str(soup))"
   ]
  },
  {
   "cell_type": "code",
   "execution_count": 41,
   "metadata": {},
   "outputs": [
    {
     "data": {
      "text/plain": [
       "<h4 class=\"post-name\"><a class=\"internal-link view-post\" href=\"https://www.cirruspilots.org/copa/safety_programs/f/349/t/159914.aspx\" title=\"New Title\">No longer bold</a></h4>"
      ]
     },
     "execution_count": 41,
     "metadata": {},
     "output_type": "execute_result"
    }
   ],
   "source": [
    "soup.find_all(class_='content-item')[0].find('h4')"
   ]
  },
  {
   "cell_type": "code",
   "execution_count": null,
   "metadata": {},
   "outputs": [],
   "source": []
  }
 ],
 "metadata": {
  "kernelspec": {
   "display_name": "Python 3",
   "language": "python",
   "name": "python3"
  },
  "language_info": {
   "codemirror_mode": {
    "name": "ipython",
    "version": 3
   },
   "file_extension": ".py",
   "mimetype": "text/x-python",
   "name": "python",
   "nbconvert_exporter": "python",
   "pygments_lexer": "ipython3",
   "version": "3.7.2"
  },
  "toc": {
   "base_numbering": 1,
   "nav_menu": {},
   "number_sections": true,
   "sideBar": true,
   "skip_h1_title": false,
   "title_cell": "Table of Contents",
   "title_sidebar": "Contents",
   "toc_cell": false,
   "toc_position": {},
   "toc_section_display": true,
   "toc_window_display": false
  },
  "varInspector": {
   "cols": {
    "lenName": 16,
    "lenType": 16,
    "lenVar": 40
   },
   "kernels_config": {
    "python": {
     "delete_cmd_postfix": "",
     "delete_cmd_prefix": "del ",
     "library": "var_list.py",
     "varRefreshCmd": "print(var_dic_list())"
    },
    "r": {
     "delete_cmd_postfix": ") ",
     "delete_cmd_prefix": "rm(",
     "library": "var_list.r",
     "varRefreshCmd": "cat(var_dic_list()) "
    }
   },
   "position": {
    "height": "144px",
    "left": "1069px",
    "right": "20px",
    "top": "120px",
    "width": "350px"
   },
   "types_to_exclude": [
    "module",
    "function",
    "builtin_function_or_method",
    "instance",
    "_Feature"
   ],
   "window_display": false
  }
 },
 "nbformat": 4,
 "nbformat_minor": 2
}
