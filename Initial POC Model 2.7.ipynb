{
 "cells": [
  {
   "cell_type": "markdown",
   "metadata": {},
   "source": [
    "# POC Model"
   ]
  },
  {
   "cell_type": "markdown",
   "metadata": {},
   "source": [
    "__Install packages__"
   ]
  },
  {
   "cell_type": "code",
   "execution_count": 1,
   "metadata": {},
   "outputs": [
    {
     "name": "stderr",
     "output_type": "stream",
     "text": [
      "C:\\ProgramData\\Anaconda3\\lib\\site-packages\\nltk\\decorators.py:68: DeprecationWarning: `formatargspec` is deprecated since Python 3.5. Use `signature` and the `Signature` object directly\n",
      "  regargs, varargs, varkwargs, defaults, formatvalue=lambda value: \"\"\n",
      "C:\\ProgramData\\Anaconda3\\lib\\site-packages\\nltk\\lm\\counter.py:15: DeprecationWarning: Using or importing the ABCs from 'collections' instead of from 'collections.abc' is deprecated, and in 3.8 it will stop working\n",
      "  from collections import Sequence, defaultdict\n",
      "C:\\ProgramData\\Anaconda3\\lib\\site-packages\\fuzzywuzzy\\fuzz.py:11: UserWarning: Using slow pure-python SequenceMatcher. Install python-Levenshtein to remove this warning\n",
      "  warnings.warn('Using slow pure-python SequenceMatcher. Install python-Levenshtein to remove this warning')\n"
     ]
    }
   ],
   "source": [
    "import re\n",
    "import numpy as np\n",
    "import pandas as pd\n",
    "from pprint import pprint\n",
    "import gensim\n",
    "import gensim.corpora as corpora\n",
    "from gensim.utils import simple_preprocess\n",
    "from gensim.models import CoherenceModel\n",
    "import spacy\n",
    "import pyLDAvis\n",
    "import pyLDAvis.gensim\n",
    "from nltk.corpus import stopwords\n",
    "import glob\n",
    "from datetime import datetime\n",
    "import statistics \n",
    "import pickle\n",
    "import jmespath\n",
    "import json\n",
    "from rake_nltk import Rake\n",
    "from nltk.tokenize import word_tokenize\n",
    "from nltk.tokenize import MWETokenizer\n",
    "from gensim.test.utils import datapath\n",
    "import math\n",
    "from fuzzywuzzy import fuzz \n",
    "from fuzzywuzzy import process\n",
    "from collections import Counter\n",
    "%load_ext autotime"
   ]
  },
  {
   "cell_type": "markdown",
   "metadata": {},
   "source": [
    "### Converting Tree to JSON format"
   ]
  },
  {
   "cell_type": "code",
   "execution_count": 2,
   "metadata": {},
   "outputs": [],
   "source": [
    "# Please run this code cell once only as multiple runs will affect the same file \n",
    "with open('Clean_mind_map.json') as json_file:\n",
    "    data = json.load(json_file)\n",
    "    \n",
    "itemsKeyedById = {i[\"ID\"]: i for i in data}\n",
    "\n",
    "#iterate through each item in the `myJson` list.\n",
    "for item in data[1:]:\n",
    "    #does the item have a parent?\n",
    "    if \"Parent\" in item:\n",
    "        #get the parent item\n",
    "        parent = itemsKeyedById[item['Parent']]\n",
    "        #if the parent item doesn't have a \"children\" member, \n",
    "        #we must create one.\n",
    "        if \"children\" not in parent:\n",
    "            parent[\"children\"] = []\n",
    "        #add the item to its parent's \"children\" list.\n",
    "        parent[\"children\"].append(item)\n",
    "topLevelItems = [item for item in data if \"Parent\" not in item]\n",
    "taxonomy_data = {'data': data}"
   ]
  },
  {
   "cell_type": "code",
   "execution_count": 3,
   "metadata": {},
   "outputs": [],
   "source": [
    "# with open('data.json', 'w') as outfile:\n",
    "#     json.dump(taxonomy_data, outfile)"
   ]
  },
  {
   "cell_type": "markdown",
   "metadata": {},
   "source": [
    "Examples are found on this link: http://jmespath.org/tutorial.html"
   ]
  },
  {
   "cell_type": "code",
   "execution_count": 4,
   "metadata": {},
   "outputs": [],
   "source": [
    "expression = jmespath.compile(\"data[?Title =='Lean of Peak'].children[].Title\")\n",
    "expression.search(data)"
   ]
  },
  {
   "cell_type": "markdown",
   "metadata": {},
   "source": [
    "### Data Sources Integration"
   ]
  },
  {
   "cell_type": "code",
   "execution_count": 162,
   "metadata": {
    "scrolled": false
   },
   "outputs": [
    {
     "data": {
      "text/plain": [
       "['COPA_blog.csv',\n",
       " 'COPA_forum_replies.csv',\n",
       " 'COPA_forum_threads.csv',\n",
       " 'COPA_Wiki.csv']"
      ]
     },
     "execution_count": 162,
     "metadata": {},
     "output_type": "execute_result"
    }
   ],
   "source": [
    "data = []\n",
    "for filename in glob.glob('*.csv'):\n",
    "    data.append(filename)\n",
    "data"
   ]
  },
  {
   "cell_type": "code",
   "execution_count": 163,
   "metadata": {},
   "outputs": [],
   "source": [
    "# magazine = pd.read_csv(data[])\n",
    "# magazine_date_list = list(magazine['Magazine'].unique())\n",
    "# # Get the month of magazine from its name\n",
    "# # Since the the COPA magazines are released monthly, so it only has year and month\n",
    "# # in its date column. In this case we just assume all magazines were released on the \n",
    "# # first day of that month.\n",
    "# magazine_date_dict = {magazine_date_list[0]: '2015-01-01', magazine_date_list[1]: '2019-01-01',\n",
    "#                       magazine_date_list[2]: '2015-07-01', magazine_date_list[3]: '2019-04-01',\n",
    "#                       magazine_date_list[4]: '2019-06-01', magazine_date_list[5]: '2018-01-01',\n",
    "#                       magazine_date_list[6]: '2017-09-01', magazine_date_list[7]: '2016-09-01',\n",
    "#                       magazine_date_list[8]: '2017-11-01', magazine_date_list[9]: '2015-05-01',\n",
    "#                       magazine_date_list[10]: '2015-09-01', magazine_date_list[11]: '2006-09-01', \n",
    "#                       magazine_date_list[12]: '2018-06-01', magazine_date_list[13]: '2019-07-01',\n",
    "#                       magazine_date_list[14]: '2017-04-01', magazine_date_list[15]: '2016-04-01',\n",
    "#                       magazine_date_list[16]: '2018-11-01', magazine_date_list[17]: '2015-09-01',\n",
    "#                       magazine_date_list[18]: '2019-03-01', magazine_date_list[19]: '2006-11-01',\n",
    "#                       magazine_date_list[20]: '2016-01-01', magazine_date_list[21]: '2019-05-01',\n",
    "#                       magazine_date_list[22]: '2016-03-01', magazine_date_list[23]: '2016-05-01',\n",
    "#                       magazine_date_list[24]: '2006-07-01', magazine_date_list[25]: '2017-06-01',\n",
    "#                       magazine_date_list[26]: '2018-07-01', magazine_date_list[27]: '2018-09-01',\n",
    "#                       magazine_date_list[28]: '2017-01-01', magazine_date_list[29]: '2012-11-01'}\n",
    "# magazine['Magazine'] = magazine['Magazine'].map(magazine_date_dict)\n",
    "# magazine.columns = ['Date', 'Title', 'Content', 'Author']\n",
    "# magazine['Like'] = 0\n",
    "# magazine['Comment'] = 0\n",
    "# magazine['Resource'] = 'Magazine'"
   ]
  },
  {
   "cell_type": "code",
   "execution_count": 164,
   "metadata": {},
   "outputs": [
    {
     "data": {
      "text/html": [
       "<div>\n",
       "<style scoped>\n",
       "    .dataframe tbody tr th:only-of-type {\n",
       "        vertical-align: middle;\n",
       "    }\n",
       "\n",
       "    .dataframe tbody tr th {\n",
       "        vertical-align: top;\n",
       "    }\n",
       "\n",
       "    .dataframe thead th {\n",
       "        text-align: right;\n",
       "    }\n",
       "</style>\n",
       "<table border=\"1\" class=\"dataframe\">\n",
       "  <thead>\n",
       "    <tr style=\"text-align: right;\">\n",
       "      <th></th>\n",
       "      <th>Date</th>\n",
       "      <th>UserID</th>\n",
       "      <th>Title</th>\n",
       "      <th>FormattedBody</th>\n",
       "      <th>TotalViews</th>\n",
       "      <th>Source</th>\n",
       "    </tr>\n",
       "  </thead>\n",
       "  <tbody>\n",
       "    <tr>\n",
       "      <td>0</td>\n",
       "      <td>2008-12-21</td>\n",
       "      <td>2256</td>\n",
       "      <td>Cirrus accident discussions</td>\n",
       "      <td>asdf\\r\\n\\r\\n\\r\\n\\r\\nAccident\\r\\nDate\\r\\nLocati...</td>\n",
       "      <td>361</td>\n",
       "      <td>Wiki</td>\n",
       "    </tr>\n",
       "    <tr>\n",
       "      <td>1</td>\n",
       "      <td>2008-12-21</td>\n",
       "      <td>2256</td>\n",
       "      <td>Cirrus Fatal Accident #01 near Sierra Vista, AZ</td>\n",
       "      <td>\\r\\n\\r\\n\\r\\nCirrus Fatal Accident #1Sierra Vis...</td>\n",
       "      <td>169</td>\n",
       "      <td>Wiki</td>\n",
       "    </tr>\n",
       "    <tr>\n",
       "      <td>2</td>\n",
       "      <td>2008-12-21</td>\n",
       "      <td>2256</td>\n",
       "      <td>First page</td>\n",
       "      <td>http://www.cirruspilots.org/wikis/sandbox/add....</td>\n",
       "      <td>294</td>\n",
       "      <td>Wiki</td>\n",
       "    </tr>\n",
       "    <tr>\n",
       "      <td>3</td>\n",
       "      <td>2008-12-21</td>\n",
       "      <td>2256</td>\n",
       "      <td>Test infobox for accidents</td>\n",
       "      <td>\\r\\n\\r\\n\\r\\nCirrus Fatal Accident #40Rock Spri...</td>\n",
       "      <td>57</td>\n",
       "      <td>Wiki</td>\n",
       "    </tr>\n",
       "    <tr>\n",
       "      <td>4</td>\n",
       "      <td>2008-12-21</td>\n",
       "      <td>2256</td>\n",
       "      <td>Cirrus Fatal Accident #33 near Paso Robles, CA</td>\n",
       "      <td>\\r\\n\\r\\n\\r\\nCirrus Fatal Accident #33Paso Robl...</td>\n",
       "      <td>318</td>\n",
       "      <td>Wiki</td>\n",
       "    </tr>\n",
       "  </tbody>\n",
       "</table>\n",
       "</div>"
      ],
      "text/plain": [
       "         Date  UserID                                            Title  \\\n",
       "0  2008-12-21    2256                      Cirrus accident discussions   \n",
       "1  2008-12-21    2256  Cirrus Fatal Accident #01 near Sierra Vista, AZ   \n",
       "2  2008-12-21    2256                                       First page   \n",
       "3  2008-12-21    2256                       Test infobox for accidents   \n",
       "4  2008-12-21    2256   Cirrus Fatal Accident #33 near Paso Robles, CA   \n",
       "\n",
       "                                       FormattedBody  TotalViews Source  \n",
       "0  asdf\\r\\n\\r\\n\\r\\n\\r\\nAccident\\r\\nDate\\r\\nLocati...         361   Wiki  \n",
       "1  \\r\\n\\r\\n\\r\\nCirrus Fatal Accident #1Sierra Vis...         169   Wiki  \n",
       "2  http://www.cirruspilots.org/wikis/sandbox/add....         294   Wiki  \n",
       "3  \\r\\n\\r\\n\\r\\nCirrus Fatal Accident #40Rock Spri...          57   Wiki  \n",
       "4  \\r\\n\\r\\n\\r\\nCirrus Fatal Accident #33Paso Robl...         318   Wiki  "
      ]
     },
     "execution_count": 164,
     "metadata": {},
     "output_type": "execute_result"
    }
   ],
   "source": [
    "wiki = pd.read_csv(data[3])\n",
    "wiki = wiki[['LastModifiedUtcDate','UserId', 'Title', 'FormattedBody', 'TotalViews']]\n",
    "wiki['LastModifiedUtcDate'] = wiki['LastModifiedUtcDate'].apply(lambda x: x[0:10])\n",
    "wiki.columns = ['Date', 'UserID', 'Title', 'FormattedBody', 'TotalViews']\n",
    "wiki['Source'] = 'Wiki'\n",
    "wiki.head()"
   ]
  },
  {
   "cell_type": "code",
   "execution_count": 165,
   "metadata": {},
   "outputs": [
    {
     "data": {
      "text/html": [
       "<div>\n",
       "<style scoped>\n",
       "    .dataframe tbody tr th:only-of-type {\n",
       "        vertical-align: middle;\n",
       "    }\n",
       "\n",
       "    .dataframe tbody tr th {\n",
       "        vertical-align: top;\n",
       "    }\n",
       "\n",
       "    .dataframe thead th {\n",
       "        text-align: right;\n",
       "    }\n",
       "</style>\n",
       "<table border=\"1\" class=\"dataframe\">\n",
       "  <thead>\n",
       "    <tr style=\"text-align: right;\">\n",
       "      <th></th>\n",
       "      <th>Date</th>\n",
       "      <th>UserID</th>\n",
       "      <th>Title</th>\n",
       "      <th>FormattedBody</th>\n",
       "      <th>TotalViews</th>\n",
       "      <th>Source</th>\n",
       "    </tr>\n",
       "  </thead>\n",
       "  <tbody>\n",
       "    <tr>\n",
       "      <td>0</td>\n",
       "      <td>2008-09-16</td>\n",
       "      <td>2438</td>\n",
       "      <td>holds</td>\n",
       "      <td>\\r\\nDuring advanced instruction and in particu...</td>\n",
       "      <td>1345</td>\n",
       "      <td>Blog</td>\n",
       "    </tr>\n",
       "    <tr>\n",
       "      <td>1</td>\n",
       "      <td>2010-12-26</td>\n",
       "      <td>7912</td>\n",
       "      <td>sunday night in anguilla</td>\n",
       "      <td>Well, I survived Christmas Eve and Christmas. ...</td>\n",
       "      <td>856</td>\n",
       "      <td>Blog</td>\n",
       "    </tr>\n",
       "    <tr>\n",
       "      <td>2</td>\n",
       "      <td>2010-12-26</td>\n",
       "      <td>7912</td>\n",
       "      <td>sunday night in anguilla</td>\n",
       "      <td>Well, I survived Christmas Eve and Christmas. ...</td>\n",
       "      <td>856</td>\n",
       "      <td>Blog</td>\n",
       "    </tr>\n",
       "    <tr>\n",
       "      <td>3</td>\n",
       "      <td>2010-10-19</td>\n",
       "      <td>2438</td>\n",
       "      <td>do you know how to do this a top 5 list of ite...</td>\n",
       "      <td>\\r\\nAs an ongoing series of blog posts revolvi...</td>\n",
       "      <td>1747</td>\n",
       "      <td>Blog</td>\n",
       "    </tr>\n",
       "    <tr>\n",
       "      <td>4</td>\n",
       "      <td>2014-02-12</td>\n",
       "      <td>4736</td>\n",
       "      <td>copa sun and fun lunch april 4 2014 lake land fl</td>\n",
       "      <td>Rich Hayes, Governor of COPA South East invite...</td>\n",
       "      <td>285</td>\n",
       "      <td>Blog</td>\n",
       "    </tr>\n",
       "  </tbody>\n",
       "</table>\n",
       "</div>"
      ],
      "text/plain": [
       "         Date  UserID                                              Title  \\\n",
       "0  2008-09-16    2438                                              holds   \n",
       "1  2010-12-26    7912                           sunday night in anguilla   \n",
       "2  2010-12-26    7912                           sunday night in anguilla   \n",
       "3  2010-10-19    2438  do you know how to do this a top 5 list of ite...   \n",
       "4  2014-02-12    4736   copa sun and fun lunch april 4 2014 lake land fl   \n",
       "\n",
       "                                       FormattedBody  TotalViews Source  \n",
       "0  \\r\\nDuring advanced instruction and in particu...        1345   Blog  \n",
       "1  Well, I survived Christmas Eve and Christmas. ...         856   Blog  \n",
       "2  Well, I survived Christmas Eve and Christmas. ...         856   Blog  \n",
       "3  \\r\\nAs an ongoing series of blog posts revolvi...        1747   Blog  \n",
       "4  Rich Hayes, Governor of COPA South East invite...         285   Blog  "
      ]
     },
     "execution_count": 165,
     "metadata": {},
     "output_type": "execute_result"
    }
   ],
   "source": [
    "blog = pd.read_csv(data[0])\n",
    "blog = blog[['PostDate', 'UserId', 'PostName', 'PostBody', 'TotalViews']]\n",
    "blog.columns = ['Date', 'UserID', 'Title', 'FormattedBody', 'TotalViews']\n",
    "blog['Source'] = 'Blog'\n",
    "blog.head()"
   ]
  },
  {
   "cell_type": "code",
   "execution_count": 166,
   "metadata": {},
   "outputs": [
    {
     "data": {
      "text/html": [
       "<div>\n",
       "<style scoped>\n",
       "    .dataframe tbody tr th:only-of-type {\n",
       "        vertical-align: middle;\n",
       "    }\n",
       "\n",
       "    .dataframe tbody tr th {\n",
       "        vertical-align: top;\n",
       "    }\n",
       "\n",
       "    .dataframe thead th {\n",
       "        text-align: right;\n",
       "    }\n",
       "</style>\n",
       "<table border=\"1\" class=\"dataframe\">\n",
       "  <thead>\n",
       "    <tr style=\"text-align: right;\">\n",
       "      <th></th>\n",
       "      <th>Date</th>\n",
       "      <th>UserID</th>\n",
       "      <th>FormattedBody</th>\n",
       "      <th>ThreadId</th>\n",
       "      <th>UserPoints</th>\n",
       "      <th>Source</th>\n",
       "    </tr>\n",
       "  </thead>\n",
       "  <tbody>\n",
       "    <tr>\n",
       "      <td>0</td>\n",
       "      <td>2008-06-25</td>\n",
       "      <td>3870</td>\n",
       "      <td>You are cordially invited to a Cirrus BBQ &amp; Fu...</td>\n",
       "      <td>28054</td>\n",
       "      <td>32</td>\n",
       "      <td>Forum</td>\n",
       "    </tr>\n",
       "    <tr>\n",
       "      <td>1</td>\n",
       "      <td>2005-10-23</td>\n",
       "      <td>4255</td>\n",
       "      <td>Ed,Thank you for the offer. My envelope is on ...</td>\n",
       "      <td>16</td>\n",
       "      <td>239</td>\n",
       "      <td>Forum</td>\n",
       "    </tr>\n",
       "    <tr>\n",
       "      <td>2</td>\n",
       "      <td>2005-10-23</td>\n",
       "      <td>3426</td>\n",
       "      <td>If I come over Tuesday do I get to play Igor t...</td>\n",
       "      <td>16</td>\n",
       "      <td>35</td>\n",
       "      <td>Forum</td>\n",
       "    </tr>\n",
       "    <tr>\n",
       "      <td>3</td>\n",
       "      <td>2005-10-24</td>\n",
       "      <td>2296</td>\n",
       "      <td>Ed, My envelope is on the way also! thanks for...</td>\n",
       "      <td>16</td>\n",
       "      <td>17</td>\n",
       "      <td>Forum</td>\n",
       "    </tr>\n",
       "    <tr>\n",
       "      <td>4</td>\n",
       "      <td>2005-11-04</td>\n",
       "      <td>3586</td>\n",
       "      <td>When I returned home from S FL yesterday, I co...</td>\n",
       "      <td>16</td>\n",
       "      <td>182</td>\n",
       "      <td>Forum</td>\n",
       "    </tr>\n",
       "  </tbody>\n",
       "</table>\n",
       "</div>"
      ],
      "text/plain": [
       "         Date  UserID                                      FormattedBody  \\\n",
       "0  2008-06-25    3870  You are cordially invited to a Cirrus BBQ & Fu...   \n",
       "1  2005-10-23    4255  Ed,Thank you for the offer. My envelope is on ...   \n",
       "2  2005-10-23    3426  If I come over Tuesday do I get to play Igor t...   \n",
       "3  2005-10-24    2296  Ed, My envelope is on the way also! thanks for...   \n",
       "4  2005-11-04    3586  When I returned home from S FL yesterday, I co...   \n",
       "\n",
       "   ThreadId  UserPoints Source  \n",
       "0     28054          32  Forum  \n",
       "1        16         239  Forum  \n",
       "2        16          35  Forum  \n",
       "3        16          17  Forum  \n",
       "4        16         182  Forum  "
      ]
     },
     "execution_count": 166,
     "metadata": {},
     "output_type": "execute_result"
    }
   ],
   "source": [
    "# Load forum replies\n",
    "forum = pd.read_csv(data[1])\n",
    "forum = forum[['ThreadReplyDate', 'UserID', 'FormattedBody', 'ThreadId', 'UserPoints']]\n",
    "forum.columns = ['Date', 'UserID', 'FormattedBody', 'ThreadId', 'UserPoints']\n",
    "forum['Date'] = forum['Date'].apply(lambda x: x.split(' ')[0])\n",
    "forum['Source'] = 'Forum'\n",
    "forum.head()"
   ]
  },
  {
   "cell_type": "code",
   "execution_count": 167,
   "metadata": {},
   "outputs": [
    {
     "data": {
      "text/html": [
       "<div>\n",
       "<style scoped>\n",
       "    .dataframe tbody tr th:only-of-type {\n",
       "        vertical-align: middle;\n",
       "    }\n",
       "\n",
       "    .dataframe tbody tr th {\n",
       "        vertical-align: top;\n",
       "    }\n",
       "\n",
       "    .dataframe thead th {\n",
       "        text-align: right;\n",
       "    }\n",
       "</style>\n",
       "<table border=\"1\" class=\"dataframe\">\n",
       "  <thead>\n",
       "    <tr style=\"text-align: right;\">\n",
       "      <th></th>\n",
       "      <th>Date</th>\n",
       "      <th>UserID</th>\n",
       "      <th>Title</th>\n",
       "      <th>FormattedBody</th>\n",
       "      <th>TotalViews</th>\n",
       "      <th>Source</th>\n",
       "      <th>ThreadId</th>\n",
       "      <th>UserPoints</th>\n",
       "    </tr>\n",
       "  </thead>\n",
       "  <tbody>\n",
       "    <tr>\n",
       "      <td>0</td>\n",
       "      <td>2008-09-16</td>\n",
       "      <td>2438</td>\n",
       "      <td>holds</td>\n",
       "      <td>\\r\\nDuring advanced instruction and in particu...</td>\n",
       "      <td>1345.0</td>\n",
       "      <td>Blog</td>\n",
       "      <td>NaN</td>\n",
       "      <td>NaN</td>\n",
       "    </tr>\n",
       "    <tr>\n",
       "      <td>1</td>\n",
       "      <td>2010-12-26</td>\n",
       "      <td>7912</td>\n",
       "      <td>sunday night in anguilla</td>\n",
       "      <td>Well, I survived Christmas Eve and Christmas. ...</td>\n",
       "      <td>856.0</td>\n",
       "      <td>Blog</td>\n",
       "      <td>NaN</td>\n",
       "      <td>NaN</td>\n",
       "    </tr>\n",
       "    <tr>\n",
       "      <td>2</td>\n",
       "      <td>2010-12-26</td>\n",
       "      <td>7912</td>\n",
       "      <td>sunday night in anguilla</td>\n",
       "      <td>Well, I survived Christmas Eve and Christmas. ...</td>\n",
       "      <td>856.0</td>\n",
       "      <td>Blog</td>\n",
       "      <td>NaN</td>\n",
       "      <td>NaN</td>\n",
       "    </tr>\n",
       "    <tr>\n",
       "      <td>3</td>\n",
       "      <td>2010-10-19</td>\n",
       "      <td>2438</td>\n",
       "      <td>do you know how to do this a top 5 list of ite...</td>\n",
       "      <td>\\r\\nAs an ongoing series of blog posts revolvi...</td>\n",
       "      <td>1747.0</td>\n",
       "      <td>Blog</td>\n",
       "      <td>NaN</td>\n",
       "      <td>NaN</td>\n",
       "    </tr>\n",
       "    <tr>\n",
       "      <td>4</td>\n",
       "      <td>2014-02-12</td>\n",
       "      <td>4736</td>\n",
       "      <td>copa sun and fun lunch april 4 2014 lake land fl</td>\n",
       "      <td>Rich Hayes, Governor of COPA South East invite...</td>\n",
       "      <td>285.0</td>\n",
       "      <td>Blog</td>\n",
       "      <td>NaN</td>\n",
       "      <td>NaN</td>\n",
       "    </tr>\n",
       "  </tbody>\n",
       "</table>\n",
       "</div>"
      ],
      "text/plain": [
       "         Date  UserID                                              Title  \\\n",
       "0  2008-09-16    2438                                              holds   \n",
       "1  2010-12-26    7912                           sunday night in anguilla   \n",
       "2  2010-12-26    7912                           sunday night in anguilla   \n",
       "3  2010-10-19    2438  do you know how to do this a top 5 list of ite...   \n",
       "4  2014-02-12    4736   copa sun and fun lunch april 4 2014 lake land fl   \n",
       "\n",
       "                                       FormattedBody  TotalViews Source  \\\n",
       "0  \\r\\nDuring advanced instruction and in particu...      1345.0   Blog   \n",
       "1  Well, I survived Christmas Eve and Christmas. ...       856.0   Blog   \n",
       "2  Well, I survived Christmas Eve and Christmas. ...       856.0   Blog   \n",
       "3  \\r\\nAs an ongoing series of blog posts revolvi...      1747.0   Blog   \n",
       "4  Rich Hayes, Governor of COPA South East invite...       285.0   Blog   \n",
       "\n",
       "   ThreadId  UserPoints  \n",
       "0       NaN         NaN  \n",
       "1       NaN         NaN  \n",
       "2       NaN         NaN  \n",
       "3       NaN         NaN  \n",
       "4       NaN         NaN  "
      ]
     },
     "execution_count": 167,
     "metadata": {},
     "output_type": "execute_result"
    }
   ],
   "source": [
    "df = pd.concat([blog, forum], ignore_index=True, sort=False)\n",
    "df = pd.concat([df, wiki], ignore_index=True, sort=False)\n",
    "df.head()"
   ]
  },
  {
   "cell_type": "code",
   "execution_count": 168,
   "metadata": {},
   "outputs": [
    {
     "data": {
      "text/html": [
       "<div>\n",
       "<style scoped>\n",
       "    .dataframe tbody tr th:only-of-type {\n",
       "        vertical-align: middle;\n",
       "    }\n",
       "\n",
       "    .dataframe tbody tr th {\n",
       "        vertical-align: top;\n",
       "    }\n",
       "\n",
       "    .dataframe thead th {\n",
       "        text-align: right;\n",
       "    }\n",
       "</style>\n",
       "<table border=\"1\" class=\"dataframe\">\n",
       "  <thead>\n",
       "    <tr style=\"text-align: right;\">\n",
       "      <th></th>\n",
       "      <th>Date</th>\n",
       "      <th>UserID</th>\n",
       "      <th>Title</th>\n",
       "      <th>FormattedBody</th>\n",
       "      <th>TotalViews</th>\n",
       "      <th>Source</th>\n",
       "      <th>ThreadId</th>\n",
       "      <th>UserPoints</th>\n",
       "      <th>SourceScore</th>\n",
       "    </tr>\n",
       "  </thead>\n",
       "  <tbody>\n",
       "    <tr>\n",
       "      <td>0</td>\n",
       "      <td>2008-09-16</td>\n",
       "      <td>2438</td>\n",
       "      <td>holds</td>\n",
       "      <td>\\r\\nDuring advanced instruction and in particu...</td>\n",
       "      <td>1345.0</td>\n",
       "      <td>Blog</td>\n",
       "      <td>NaN</td>\n",
       "      <td>NaN</td>\n",
       "      <td>3</td>\n",
       "    </tr>\n",
       "    <tr>\n",
       "      <td>1</td>\n",
       "      <td>2010-12-26</td>\n",
       "      <td>7912</td>\n",
       "      <td>sunday night in anguilla</td>\n",
       "      <td>Well, I survived Christmas Eve and Christmas. ...</td>\n",
       "      <td>856.0</td>\n",
       "      <td>Blog</td>\n",
       "      <td>NaN</td>\n",
       "      <td>NaN</td>\n",
       "      <td>3</td>\n",
       "    </tr>\n",
       "    <tr>\n",
       "      <td>2</td>\n",
       "      <td>2010-12-26</td>\n",
       "      <td>7912</td>\n",
       "      <td>sunday night in anguilla</td>\n",
       "      <td>Well, I survived Christmas Eve and Christmas. ...</td>\n",
       "      <td>856.0</td>\n",
       "      <td>Blog</td>\n",
       "      <td>NaN</td>\n",
       "      <td>NaN</td>\n",
       "      <td>3</td>\n",
       "    </tr>\n",
       "    <tr>\n",
       "      <td>3</td>\n",
       "      <td>2010-10-19</td>\n",
       "      <td>2438</td>\n",
       "      <td>do you know how to do this a top 5 list of ite...</td>\n",
       "      <td>\\r\\nAs an ongoing series of blog posts revolvi...</td>\n",
       "      <td>1747.0</td>\n",
       "      <td>Blog</td>\n",
       "      <td>NaN</td>\n",
       "      <td>NaN</td>\n",
       "      <td>3</td>\n",
       "    </tr>\n",
       "    <tr>\n",
       "      <td>4</td>\n",
       "      <td>2014-02-12</td>\n",
       "      <td>4736</td>\n",
       "      <td>copa sun and fun lunch april 4 2014 lake land fl</td>\n",
       "      <td>Rich Hayes, Governor of COPA South East invite...</td>\n",
       "      <td>285.0</td>\n",
       "      <td>Blog</td>\n",
       "      <td>NaN</td>\n",
       "      <td>NaN</td>\n",
       "      <td>3</td>\n",
       "    </tr>\n",
       "  </tbody>\n",
       "</table>\n",
       "</div>"
      ],
      "text/plain": [
       "         Date  UserID                                              Title  \\\n",
       "0  2008-09-16    2438                                              holds   \n",
       "1  2010-12-26    7912                           sunday night in anguilla   \n",
       "2  2010-12-26    7912                           sunday night in anguilla   \n",
       "3  2010-10-19    2438  do you know how to do this a top 5 list of ite...   \n",
       "4  2014-02-12    4736   copa sun and fun lunch april 4 2014 lake land fl   \n",
       "\n",
       "                                       FormattedBody  TotalViews Source  \\\n",
       "0  \\r\\nDuring advanced instruction and in particu...      1345.0   Blog   \n",
       "1  Well, I survived Christmas Eve and Christmas. ...       856.0   Blog   \n",
       "2  Well, I survived Christmas Eve and Christmas. ...       856.0   Blog   \n",
       "3  \\r\\nAs an ongoing series of blog posts revolvi...      1747.0   Blog   \n",
       "4  Rich Hayes, Governor of COPA South East invite...       285.0   Blog   \n",
       "\n",
       "   ThreadId  UserPoints  SourceScore  \n",
       "0       NaN         NaN            3  \n",
       "1       NaN         NaN            3  \n",
       "2       NaN         NaN            3  \n",
       "3       NaN         NaN            3  \n",
       "4       NaN         NaN            3  "
      ]
     },
     "execution_count": 168,
     "metadata": {},
     "output_type": "execute_result"
    }
   ],
   "source": [
    "#Ranking the source, blog is the most important source so have 3\n",
    "source_dict = {'Blog': 3, 'Forum': 2, 'Wiki': 1}\n",
    "df['SourceScore'] = df['Source'].map(source_dict)\n",
    "df.head()"
   ]
  },
  {
   "cell_type": "code",
   "execution_count": 169,
   "metadata": {},
   "outputs": [],
   "source": [
    "df[['FormattedBody']] = df[['FormattedBody']].fillna(value='No text.')"
   ]
  },
  {
   "cell_type": "markdown",
   "metadata": {},
   "source": [
    "# Generate Attributes"
   ]
  },
  {
   "cell_type": "markdown",
   "metadata": {},
   "source": [
    "__Generate Recency Score__"
   ]
  },
  {
   "cell_type": "code",
   "execution_count": 170,
   "metadata": {},
   "outputs": [],
   "source": [
    "def  Calculate_RecencyScore(date):\n",
    "    '''\n",
    "    Recency Rate = log( 1 + 1/(days between the post date and current date + 1))\n",
    "    '''\n",
    "    date_datetime = datetime.strptime(date, '%Y-%m-%d').date()\n",
    "    rececncy_rate = math.log10(1/(((datetime.date(datetime.now()))-date_datetime).days+1)+1)\n",
    "    return rececncy_rate\n",
    "    \n",
    "\n",
    "df['RecencyRate'] = df['Date'].map(lambda y: Calculate_RecencyScore(y))"
   ]
  },
  {
   "cell_type": "markdown",
   "metadata": {},
   "source": [
    "__Generate Author Score__"
   ]
  },
  {
   "cell_type": "code",
   "execution_count": 171,
   "metadata": {},
   "outputs": [],
   "source": [
    "author_list = list(df['UserID'].unique())\n",
    "author_score_dict = {}\n",
    "for author in author_list:\n",
    "    author_score = df[df['UserID'] == author]['SourceScore'].sum()\n",
    "    author_score_dict[author] = author_score\n",
    "    \n",
    "df['AuthorScore'] = df['UserID'].map(author_score_dict)"
   ]
  },
  {
   "cell_type": "markdown",
   "metadata": {},
   "source": [
    "__Generate pre-Content Score__"
   ]
  },
  {
   "cell_type": "code",
   "execution_count": 286,
   "metadata": {},
   "outputs": [],
   "source": [
    "#Calculate pre-content score without taking the search query into consideration"
   ]
  },
  {
   "cell_type": "code",
   "execution_count": 182,
   "metadata": {},
   "outputs": [],
   "source": [
    "# This function will assign each row in a dataframe a topic according to the pre-trained topic model.\n",
    "def Assign_Topic(df):\n",
    "    \n",
    "    # Load pre-trained model\n",
    "    filename = 'lda_model.pickle'\n",
    "    infile = open(filename,'rb')\n",
    "    lda_model = pickle.load(infile)\n",
    "\n",
    "    filename = 'id2word.pickle'\n",
    "    infile = open(filename,'rb')\n",
    "    id2word = pickle.load(infile)\n",
    "\n",
    "    stop_words = stopwords.words('english')\n",
    "\n",
    "    data = df.FormattedBody.values.tolist()\n",
    "    data_cleanlist = []\n",
    "    for d in data:\n",
    "        try:\n",
    "            data_cleanlist.append(d.lower())\n",
    "        except:\n",
    "            continue\n",
    "            \n",
    "    # Put contents into model and assign each content to a topic\n",
    "    texts1 = [[word for word in doc.split() if word not in stop_words] for doc in data_cleanlist]\n",
    "    corpus1 = [id2word.doc2bow(text) for text in texts1]\n",
    "    resultlist = lda_model.get_document_topics(corpus1)\n",
    "    \n",
    "    # Build a list containing the topic classification\n",
    "    topic_lst = []\n",
    "    for i, result in enumerate(resultlist):\n",
    "        temp = 0\n",
    "        topic = 0\n",
    "        for j in range(len(result)):\n",
    "            if result[j][1] > temp:\n",
    "                temp = result[j][1]\n",
    "                topic = j\n",
    "        topic_lst.append(topic)\n",
    "        \n",
    "    df['TopicID'] = topic_lst\n",
    "    \n",
    "    return df"
   ]
  },
  {
   "cell_type": "code",
   "execution_count": 285,
   "metadata": {},
   "outputs": [],
   "source": [
    "df_withTopic = Assign_Topic(df)"
   ]
  },
  {
   "cell_type": "code",
   "execution_count": 226,
   "metadata": {},
   "outputs": [],
   "source": [
    "# Generate a dataframe that store the topic id and its keywords-weight dictionary\n",
    "lda_topics = lda_model.print_topics(num_words = 10)\n",
    "topic_dict_lst = []\n",
    "topic_keywords_lst = []\n",
    "\n",
    "for topic in lda_topics:\n",
    "    keywords = re.findall(r'\"(.+?)\"',topic[1])\n",
    "    topic_keywords_lst.append(keywords)\n",
    "    \n",
    "    weights = re.findall(r'([0]\\..+?)\\*',topic[1])\n",
    "    \n",
    "    topic_dict = dict(zip(keywords, weights))\n",
    "    topic_dict_lst.append(topic_dict)"
   ]
  },
  {
   "cell_type": "code",
   "execution_count": 291,
   "metadata": {},
   "outputs": [
    {
     "name": "stdout",
     "output_type": "stream",
     "text": [
      "time: 2min 13s\n"
     ]
    }
   ],
   "source": [
    "# Generate body_words_lst which contains sublists that hold all words in a formattedBody\n",
    "data = df_withTopic.FormattedBody.values.tolist()\n",
    "df_cleanlist = []\n",
    "for d in data:\n",
    "    try:\n",
    "        df_cleanlist.append(d.lower())\n",
    "    except:\n",
    "        continue\n",
    "\n",
    "body_words_lst = [[word for word in doc.split() if word not in stop_words] for doc in df_cleanlist]"
   ]
  },
  {
   "cell_type": "code",
   "execution_count": 293,
   "metadata": {},
   "outputs": [
    {
     "name": "stdout",
     "output_type": "stream",
     "text": [
      "time: 11 s\n"
     ]
    }
   ],
   "source": [
    "# Generate the list of pre-content score\n",
    "topic_id_lst = list(df_withTopic.TopicID)\n",
    "pre_content_score_lst = list()\n",
    "\n",
    "for row_index in range(len(df_withTopic)):\n",
    "    \n",
    "    topic_id = topic_id_lst[row_index]\n",
    "    \n",
    "    keyword_vector = topic_keywords_lst[topic_id]\n",
    "    body_words = body_words_lst[row_index]\n",
    "\n",
    "    words_hit = [word for word in body_words if word in keyword_vector]\n",
    "    frequency_count = Counter(words_hit)\n",
    "    \n",
    "    pre_content_score = 0\n",
    "    for hitted_word in frequency_count.keys():\n",
    "        weight = float(topic_dict_lst[topic_id][hitted_word])\n",
    "        count = frequency_count[hitted_word]\n",
    "        pre_content_score += count*weight\n",
    "    \n",
    "    pre_content_score_lst.append(pre_content_score)"
   ]
  },
  {
   "cell_type": "code",
   "execution_count": 331,
   "metadata": {},
   "outputs": [
    {
     "name": "stdout",
     "output_type": "stream",
     "text": [
      "time: 363 ms\n"
     ]
    }
   ],
   "source": [
    "df_withTopic['PreContentScore'] = pre_content_score_lst\n",
    "df = df_withTopic.copy()"
   ]
  },
  {
   "cell_type": "markdown",
   "metadata": {},
   "source": [
    "__Generate Content Score__"
   ]
  },
  {
   "cell_type": "code",
   "execution_count": 11,
   "metadata": {},
   "outputs": [
    {
     "name": "stdout",
     "output_type": "stream",
     "text": [
      "time: 260 ms\n"
     ]
    }
   ],
   "source": [
    "# Load pre-trained model\n",
    "filename = 'lda_model.pickle'\n",
    "infile = open(filename,'rb')\n",
    "lda_model = pickle.load(infile)\n",
    "\n",
    "filename = 'id2word.pickle'\n",
    "infile = open(filename,'rb')\n",
    "id2word = pickle.load(infile)\n",
    "\n",
    "stop_words = stopwords.words('english')"
   ]
  },
  {
   "cell_type": "code",
   "execution_count": 12,
   "metadata": {},
   "outputs": [
    {
     "name": "stdout",
     "output_type": "stream",
     "text": [
      "time: 1.05 ms\n"
     ]
    }
   ],
   "source": [
    "def topic_match(search_query):\n",
    "    '''\n",
    "    Extract the topic of searching query by LDA model trained by forum posts.\n",
    "    '''\n",
    "    texts1 = [[word for word in doc.lower().split() if word not in stop_words] for doc in [search_query]]\n",
    "    corpus1 = [id2word.doc2bow(t) for t in texts1]\n",
    "    result = lda_model.get_document_topics(corpus1)\n",
    "    LDA_topic = max(result[0], key=lambda x: x[1])[0]\n",
    "    return LDA_topic"
   ]
  },
  {
   "cell_type": "code",
   "execution_count": 14,
   "metadata": {},
   "outputs": [
    {
     "name": "stdout",
     "output_type": "stream",
     "text": [
      "time: 999 µs\n"
     ]
    }
   ],
   "source": [
    "def Calculate_ContentScore(search_query):\n",
    "    \n",
    "    query_topic_id = topic_match(search_query)\n",
    "    df['ContentScore'] = df['PreContentScore']\n",
    "    \n",
    "    # Expand parameter here I choose 5.\n",
    "    df.loc[(df.TopicID == query_topic_id),'ContentScore']= df.loc[(df.TopicID == query_topic_id),'PreContentScore']*5\n",
    "    \n",
    "    return df"
   ]
  },
  {
   "cell_type": "code",
   "execution_count": 15,
   "metadata": {},
   "outputs": [
    {
     "name": "stdout",
     "output_type": "stream",
     "text": [
      "time: 58 ms\n"
     ]
    }
   ],
   "source": [
    "df_withALLScore = Calculate_ContentScore('Cirrus Parachute First Responders')"
   ]
  },
  {
   "cell_type": "markdown",
   "metadata": {},
   "source": [
    "__Calculate All Score__"
   ]
  },
  {
   "cell_type": "code",
   "execution_count": 16,
   "metadata": {
    "scrolled": true
   },
   "outputs": [
    {
     "data": {
      "text/html": [
       "<div>\n",
       "<style scoped>\n",
       "    .dataframe tbody tr th:only-of-type {\n",
       "        vertical-align: middle;\n",
       "    }\n",
       "\n",
       "    .dataframe tbody tr th {\n",
       "        vertical-align: top;\n",
       "    }\n",
       "\n",
       "    .dataframe thead th {\n",
       "        text-align: right;\n",
       "    }\n",
       "</style>\n",
       "<table border=\"1\" class=\"dataframe\">\n",
       "  <thead>\n",
       "    <tr style=\"text-align: right;\">\n",
       "      <th></th>\n",
       "      <th>Unnamed: 0</th>\n",
       "      <th>Date</th>\n",
       "      <th>UserID</th>\n",
       "      <th>Title</th>\n",
       "      <th>FormattedBody</th>\n",
       "      <th>TotalViews</th>\n",
       "      <th>Source</th>\n",
       "      <th>ThreadId</th>\n",
       "      <th>UserPoints</th>\n",
       "      <th>SourceScore</th>\n",
       "      <th>RecencyRate</th>\n",
       "      <th>AuthorScore</th>\n",
       "      <th>TopicID</th>\n",
       "      <th>PreContentScore</th>\n",
       "      <th>ContentScore</th>\n",
       "    </tr>\n",
       "  </thead>\n",
       "  <tbody>\n",
       "    <tr>\n",
       "      <td>0</td>\n",
       "      <td>0</td>\n",
       "      <td>2008-09-16</td>\n",
       "      <td>2438</td>\n",
       "      <td>holds</td>\n",
       "      <td>\\r\\nDuring advanced instruction and in particu...</td>\n",
       "      <td>1345.0</td>\n",
       "      <td>Blog</td>\n",
       "      <td>NaN</td>\n",
       "      <td>NaN</td>\n",
       "      <td>3</td>\n",
       "      <td>0.000104</td>\n",
       "      <td>2504</td>\n",
       "      <td>8</td>\n",
       "      <td>0.000</td>\n",
       "      <td>0.000</td>\n",
       "    </tr>\n",
       "    <tr>\n",
       "      <td>1</td>\n",
       "      <td>1</td>\n",
       "      <td>2010-12-26</td>\n",
       "      <td>7912</td>\n",
       "      <td>sunday night in anguilla</td>\n",
       "      <td>Well, I survived Christmas Eve and Christmas. ...</td>\n",
       "      <td>856.0</td>\n",
       "      <td>Blog</td>\n",
       "      <td>NaN</td>\n",
       "      <td>NaN</td>\n",
       "      <td>3</td>\n",
       "      <td>0.000129</td>\n",
       "      <td>359</td>\n",
       "      <td>2</td>\n",
       "      <td>0.000</td>\n",
       "      <td>0.000</td>\n",
       "    </tr>\n",
       "    <tr>\n",
       "      <td>2</td>\n",
       "      <td>2</td>\n",
       "      <td>2010-12-26</td>\n",
       "      <td>7912</td>\n",
       "      <td>sunday night in anguilla</td>\n",
       "      <td>Well, I survived Christmas Eve and Christmas. ...</td>\n",
       "      <td>856.0</td>\n",
       "      <td>Blog</td>\n",
       "      <td>NaN</td>\n",
       "      <td>NaN</td>\n",
       "      <td>3</td>\n",
       "      <td>0.000129</td>\n",
       "      <td>359</td>\n",
       "      <td>3</td>\n",
       "      <td>0.018</td>\n",
       "      <td>0.018</td>\n",
       "    </tr>\n",
       "    <tr>\n",
       "      <td>3</td>\n",
       "      <td>3</td>\n",
       "      <td>2010-10-19</td>\n",
       "      <td>2438</td>\n",
       "      <td>do you know how to do this a top 5 list of ite...</td>\n",
       "      <td>\\r\\nAs an ongoing series of blog posts revolvi...</td>\n",
       "      <td>1747.0</td>\n",
       "      <td>Blog</td>\n",
       "      <td>NaN</td>\n",
       "      <td>NaN</td>\n",
       "      <td>3</td>\n",
       "      <td>0.000127</td>\n",
       "      <td>2504</td>\n",
       "      <td>5</td>\n",
       "      <td>0.000</td>\n",
       "      <td>0.000</td>\n",
       "    </tr>\n",
       "    <tr>\n",
       "      <td>4</td>\n",
       "      <td>4</td>\n",
       "      <td>2014-02-12</td>\n",
       "      <td>4736</td>\n",
       "      <td>copa sun and fun lunch april 4 2014 lake land fl</td>\n",
       "      <td>Rich Hayes, Governor of COPA South East invite...</td>\n",
       "      <td>285.0</td>\n",
       "      <td>Blog</td>\n",
       "      <td>NaN</td>\n",
       "      <td>NaN</td>\n",
       "      <td>3</td>\n",
       "      <td>0.000196</td>\n",
       "      <td>4851</td>\n",
       "      <td>8</td>\n",
       "      <td>0.038</td>\n",
       "      <td>0.038</td>\n",
       "    </tr>\n",
       "    <tr>\n",
       "      <td>...</td>\n",
       "      <td>...</td>\n",
       "      <td>...</td>\n",
       "      <td>...</td>\n",
       "      <td>...</td>\n",
       "      <td>...</td>\n",
       "      <td>...</td>\n",
       "      <td>...</td>\n",
       "      <td>...</td>\n",
       "      <td>...</td>\n",
       "      <td>...</td>\n",
       "      <td>...</td>\n",
       "      <td>...</td>\n",
       "      <td>...</td>\n",
       "      <td>...</td>\n",
       "      <td>...</td>\n",
       "    </tr>\n",
       "    <tr>\n",
       "      <td>1038897</td>\n",
       "      <td>1038897</td>\n",
       "      <td>2017-11-26</td>\n",
       "      <td>14058</td>\n",
       "      <td>United Kingdom and Ireland - Wiki</td>\n",
       "      <td>No text.</td>\n",
       "      <td>85.0</td>\n",
       "      <td>Wiki</td>\n",
       "      <td>NaN</td>\n",
       "      <td>NaN</td>\n",
       "      <td>1</td>\n",
       "      <td>0.000525</td>\n",
       "      <td>873</td>\n",
       "      <td>0</td>\n",
       "      <td>0.000</td>\n",
       "      <td>0.000</td>\n",
       "    </tr>\n",
       "    <tr>\n",
       "      <td>1038898</td>\n",
       "      <td>1038898</td>\n",
       "      <td>2017-11-30</td>\n",
       "      <td>14058</td>\n",
       "      <td>United Kingdom and Ireland Regional Leadership...</td>\n",
       "      <td>No text.</td>\n",
       "      <td>0.0</td>\n",
       "      <td>Wiki</td>\n",
       "      <td>NaN</td>\n",
       "      <td>NaN</td>\n",
       "      <td>1</td>\n",
       "      <td>0.000527</td>\n",
       "      <td>873</td>\n",
       "      <td>0</td>\n",
       "      <td>0.000</td>\n",
       "      <td>0.000</td>\n",
       "    </tr>\n",
       "    <tr>\n",
       "      <td>1038899</td>\n",
       "      <td>1038899</td>\n",
       "      <td>2018-09-19</td>\n",
       "      <td>19647</td>\n",
       "      <td>NexAir Avionics - Wiki</td>\n",
       "      <td>No text.</td>\n",
       "      <td>3.0</td>\n",
       "      <td>Wiki</td>\n",
       "      <td>NaN</td>\n",
       "      <td>NaN</td>\n",
       "      <td>1</td>\n",
       "      <td>0.000819</td>\n",
       "      <td>2</td>\n",
       "      <td>0</td>\n",
       "      <td>0.000</td>\n",
       "      <td>0.000</td>\n",
       "    </tr>\n",
       "    <tr>\n",
       "      <td>1038900</td>\n",
       "      <td>1038900</td>\n",
       "      <td>2019-01-03</td>\n",
       "      <td>19647</td>\n",
       "      <td>Finance Consult - Wiki</td>\n",
       "      <td>No text.</td>\n",
       "      <td>0.0</td>\n",
       "      <td>Wiki</td>\n",
       "      <td>NaN</td>\n",
       "      <td>NaN</td>\n",
       "      <td>1</td>\n",
       "      <td>0.001023</td>\n",
       "      <td>2</td>\n",
       "      <td>0</td>\n",
       "      <td>0.000</td>\n",
       "      <td>0.000</td>\n",
       "    </tr>\n",
       "    <tr>\n",
       "      <td>1038901</td>\n",
       "      <td>1038901</td>\n",
       "      <td>2019-02-07</td>\n",
       "      <td>5439</td>\n",
       "      <td>Propelling Aviation - Wiki</td>\n",
       "      <td>No text.</td>\n",
       "      <td>0.0</td>\n",
       "      <td>Wiki</td>\n",
       "      <td>NaN</td>\n",
       "      <td>NaN</td>\n",
       "      <td>1</td>\n",
       "      <td>0.001115</td>\n",
       "      <td>23553</td>\n",
       "      <td>0</td>\n",
       "      <td>0.000</td>\n",
       "      <td>0.000</td>\n",
       "    </tr>\n",
       "  </tbody>\n",
       "</table>\n",
       "<p>1038902 rows × 15 columns</p>\n",
       "</div>"
      ],
      "text/plain": [
       "         Unnamed: 0        Date  UserID  \\\n",
       "0                 0  2008-09-16    2438   \n",
       "1                 1  2010-12-26    7912   \n",
       "2                 2  2010-12-26    7912   \n",
       "3                 3  2010-10-19    2438   \n",
       "4                 4  2014-02-12    4736   \n",
       "...             ...         ...     ...   \n",
       "1038897     1038897  2017-11-26   14058   \n",
       "1038898     1038898  2017-11-30   14058   \n",
       "1038899     1038899  2018-09-19   19647   \n",
       "1038900     1038900  2019-01-03   19647   \n",
       "1038901     1038901  2019-02-07    5439   \n",
       "\n",
       "                                                     Title  \\\n",
       "0                                                    holds   \n",
       "1                                 sunday night in anguilla   \n",
       "2                                 sunday night in anguilla   \n",
       "3        do you know how to do this a top 5 list of ite...   \n",
       "4         copa sun and fun lunch april 4 2014 lake land fl   \n",
       "...                                                    ...   \n",
       "1038897                  United Kingdom and Ireland - Wiki   \n",
       "1038898  United Kingdom and Ireland Regional Leadership...   \n",
       "1038899                             NexAir Avionics - Wiki   \n",
       "1038900                             Finance Consult - Wiki   \n",
       "1038901                         Propelling Aviation - Wiki   \n",
       "\n",
       "                                             FormattedBody  TotalViews Source  \\\n",
       "0        \\r\\nDuring advanced instruction and in particu...      1345.0   Blog   \n",
       "1        Well, I survived Christmas Eve and Christmas. ...       856.0   Blog   \n",
       "2        Well, I survived Christmas Eve and Christmas. ...       856.0   Blog   \n",
       "3        \\r\\nAs an ongoing series of blog posts revolvi...      1747.0   Blog   \n",
       "4        Rich Hayes, Governor of COPA South East invite...       285.0   Blog   \n",
       "...                                                    ...         ...    ...   \n",
       "1038897                                           No text.        85.0   Wiki   \n",
       "1038898                                           No text.         0.0   Wiki   \n",
       "1038899                                           No text.         3.0   Wiki   \n",
       "1038900                                           No text.         0.0   Wiki   \n",
       "1038901                                           No text.         0.0   Wiki   \n",
       "\n",
       "         ThreadId  UserPoints  SourceScore  RecencyRate  AuthorScore  TopicID  \\\n",
       "0             NaN         NaN            3     0.000104         2504        8   \n",
       "1             NaN         NaN            3     0.000129          359        2   \n",
       "2             NaN         NaN            3     0.000129          359        3   \n",
       "3             NaN         NaN            3     0.000127         2504        5   \n",
       "4             NaN         NaN            3     0.000196         4851        8   \n",
       "...           ...         ...          ...          ...          ...      ...   \n",
       "1038897       NaN         NaN            1     0.000525          873        0   \n",
       "1038898       NaN         NaN            1     0.000527          873        0   \n",
       "1038899       NaN         NaN            1     0.000819            2        0   \n",
       "1038900       NaN         NaN            1     0.001023            2        0   \n",
       "1038901       NaN         NaN            1     0.001115        23553        0   \n",
       "\n",
       "         PreContentScore  ContentScore  \n",
       "0                  0.000         0.000  \n",
       "1                  0.000         0.000  \n",
       "2                  0.018         0.018  \n",
       "3                  0.000         0.000  \n",
       "4                  0.038         0.038  \n",
       "...                  ...           ...  \n",
       "1038897            0.000         0.000  \n",
       "1038898            0.000         0.000  \n",
       "1038899            0.000         0.000  \n",
       "1038900            0.000         0.000  \n",
       "1038901            0.000         0.000  \n",
       "\n",
       "[1038902 rows x 15 columns]"
      ]
     },
     "execution_count": 16,
     "metadata": {},
     "output_type": "execute_result"
    },
    {
     "name": "stdout",
     "output_type": "stream",
     "text": [
      "time: 23 ms\n"
     ]
    }
   ],
   "source": [
    "df_withALLScore"
   ]
  },
  {
   "cell_type": "markdown",
   "metadata": {},
   "source": [
    "__Normalization__"
   ]
  },
  {
   "cell_type": "code",
   "execution_count": 17,
   "metadata": {},
   "outputs": [
    {
     "name": "stdout",
     "output_type": "stream",
     "text": [
      "time: 47.3 ms\n"
     ]
    }
   ],
   "source": [
    "def Normalization(col):\n",
    "    nomolized_col = (df_withALLScore[col] - df_withALLScore[col].min()) / (df_withALLScore[col].max() - df_withALLScore[col].min())\n",
    "    return nomolized_col\n",
    "\n",
    "df_withALLScore['RecencyRate'] = Normalization('RecencyRate')\n",
    "df_withALLScore['AuthorScore'] = Normalization('AuthorScore')\n",
    "df_withALLScore['ContentScore'] = Normalization('ContentScore')"
   ]
  },
  {
   "cell_type": "code",
   "execution_count": 18,
   "metadata": {
    "scrolled": true
   },
   "outputs": [
    {
     "data": {
      "text/html": [
       "<div>\n",
       "<style scoped>\n",
       "    .dataframe tbody tr th:only-of-type {\n",
       "        vertical-align: middle;\n",
       "    }\n",
       "\n",
       "    .dataframe tbody tr th {\n",
       "        vertical-align: top;\n",
       "    }\n",
       "\n",
       "    .dataframe thead th {\n",
       "        text-align: right;\n",
       "    }\n",
       "</style>\n",
       "<table border=\"1\" class=\"dataframe\">\n",
       "  <thead>\n",
       "    <tr style=\"text-align: right;\">\n",
       "      <th></th>\n",
       "      <th>Unnamed: 0</th>\n",
       "      <th>Date</th>\n",
       "      <th>UserID</th>\n",
       "      <th>Title</th>\n",
       "      <th>FormattedBody</th>\n",
       "      <th>TotalViews</th>\n",
       "      <th>Source</th>\n",
       "      <th>ThreadId</th>\n",
       "      <th>UserPoints</th>\n",
       "      <th>SourceScore</th>\n",
       "      <th>RecencyRate</th>\n",
       "      <th>AuthorScore</th>\n",
       "      <th>TopicID</th>\n",
       "      <th>PreContentScore</th>\n",
       "      <th>ContentScore</th>\n",
       "    </tr>\n",
       "  </thead>\n",
       "  <tbody>\n",
       "    <tr>\n",
       "      <td>0</td>\n",
       "      <td>0</td>\n",
       "      <td>2008-09-16</td>\n",
       "      <td>2438</td>\n",
       "      <td>holds</td>\n",
       "      <td>\\r\\nDuring advanced instruction and in particu...</td>\n",
       "      <td>1345.0</td>\n",
       "      <td>Blog</td>\n",
       "      <td>NaN</td>\n",
       "      <td>NaN</td>\n",
       "      <td>3</td>\n",
       "      <td>0.016162</td>\n",
       "      <td>0.045504</td>\n",
       "      <td>8</td>\n",
       "      <td>0.000</td>\n",
       "      <td>0.000000</td>\n",
       "    </tr>\n",
       "    <tr>\n",
       "      <td>1</td>\n",
       "      <td>1</td>\n",
       "      <td>2010-12-26</td>\n",
       "      <td>7912</td>\n",
       "      <td>sunday night in anguilla</td>\n",
       "      <td>Well, I survived Christmas Eve and Christmas. ...</td>\n",
       "      <td>856.0</td>\n",
       "      <td>Blog</td>\n",
       "      <td>NaN</td>\n",
       "      <td>NaN</td>\n",
       "      <td>3</td>\n",
       "      <td>0.025377</td>\n",
       "      <td>0.006508</td>\n",
       "      <td>2</td>\n",
       "      <td>0.000</td>\n",
       "      <td>0.000000</td>\n",
       "    </tr>\n",
       "    <tr>\n",
       "      <td>2</td>\n",
       "      <td>2</td>\n",
       "      <td>2010-12-26</td>\n",
       "      <td>7912</td>\n",
       "      <td>sunday night in anguilla</td>\n",
       "      <td>Well, I survived Christmas Eve and Christmas. ...</td>\n",
       "      <td>856.0</td>\n",
       "      <td>Blog</td>\n",
       "      <td>NaN</td>\n",
       "      <td>NaN</td>\n",
       "      <td>3</td>\n",
       "      <td>0.025377</td>\n",
       "      <td>0.006508</td>\n",
       "      <td>3</td>\n",
       "      <td>0.018</td>\n",
       "      <td>0.001248</td>\n",
       "    </tr>\n",
       "    <tr>\n",
       "      <td>3</td>\n",
       "      <td>3</td>\n",
       "      <td>2010-10-19</td>\n",
       "      <td>2438</td>\n",
       "      <td>do you know how to do this a top 5 list of ite...</td>\n",
       "      <td>\\r\\nAs an ongoing series of blog posts revolvi...</td>\n",
       "      <td>1747.0</td>\n",
       "      <td>Blog</td>\n",
       "      <td>NaN</td>\n",
       "      <td>NaN</td>\n",
       "      <td>3</td>\n",
       "      <td>0.024455</td>\n",
       "      <td>0.045504</td>\n",
       "      <td>5</td>\n",
       "      <td>0.000</td>\n",
       "      <td>0.000000</td>\n",
       "    </tr>\n",
       "    <tr>\n",
       "      <td>4</td>\n",
       "      <td>4</td>\n",
       "      <td>2014-02-12</td>\n",
       "      <td>4736</td>\n",
       "      <td>copa sun and fun lunch april 4 2014 lake land fl</td>\n",
       "      <td>Rich Hayes, Governor of COPA South East invite...</td>\n",
       "      <td>285.0</td>\n",
       "      <td>Blog</td>\n",
       "      <td>NaN</td>\n",
       "      <td>NaN</td>\n",
       "      <td>3</td>\n",
       "      <td>0.049400</td>\n",
       "      <td>0.088172</td>\n",
       "      <td>8</td>\n",
       "      <td>0.038</td>\n",
       "      <td>0.002635</td>\n",
       "    </tr>\n",
       "    <tr>\n",
       "      <td>...</td>\n",
       "      <td>...</td>\n",
       "      <td>...</td>\n",
       "      <td>...</td>\n",
       "      <td>...</td>\n",
       "      <td>...</td>\n",
       "      <td>...</td>\n",
       "      <td>...</td>\n",
       "      <td>...</td>\n",
       "      <td>...</td>\n",
       "      <td>...</td>\n",
       "      <td>...</td>\n",
       "      <td>...</td>\n",
       "      <td>...</td>\n",
       "      <td>...</td>\n",
       "      <td>...</td>\n",
       "    </tr>\n",
       "    <tr>\n",
       "      <td>1038897</td>\n",
       "      <td>1038897</td>\n",
       "      <td>2017-11-26</td>\n",
       "      <td>14058</td>\n",
       "      <td>United Kingdom and Ireland - Wiki</td>\n",
       "      <td>No text.</td>\n",
       "      <td>85.0</td>\n",
       "      <td>Wiki</td>\n",
       "      <td>NaN</td>\n",
       "      <td>NaN</td>\n",
       "      <td>1</td>\n",
       "      <td>0.167127</td>\n",
       "      <td>0.015853</td>\n",
       "      <td>0</td>\n",
       "      <td>0.000</td>\n",
       "      <td>0.000000</td>\n",
       "    </tr>\n",
       "    <tr>\n",
       "      <td>1038898</td>\n",
       "      <td>1038898</td>\n",
       "      <td>2017-11-30</td>\n",
       "      <td>14058</td>\n",
       "      <td>United Kingdom and Ireland Regional Leadership...</td>\n",
       "      <td>No text.</td>\n",
       "      <td>0.0</td>\n",
       "      <td>Wiki</td>\n",
       "      <td>NaN</td>\n",
       "      <td>NaN</td>\n",
       "      <td>1</td>\n",
       "      <td>0.168041</td>\n",
       "      <td>0.015853</td>\n",
       "      <td>0</td>\n",
       "      <td>0.000</td>\n",
       "      <td>0.000000</td>\n",
       "    </tr>\n",
       "    <tr>\n",
       "      <td>1038899</td>\n",
       "      <td>1038899</td>\n",
       "      <td>2018-09-19</td>\n",
       "      <td>19647</td>\n",
       "      <td>NexAir Avionics - Wiki</td>\n",
       "      <td>No text.</td>\n",
       "      <td>3.0</td>\n",
       "      <td>Wiki</td>\n",
       "      <td>NaN</td>\n",
       "      <td>NaN</td>\n",
       "      <td>1</td>\n",
       "      <td>0.272472</td>\n",
       "      <td>0.000018</td>\n",
       "      <td>0</td>\n",
       "      <td>0.000</td>\n",
       "      <td>0.000000</td>\n",
       "    </tr>\n",
       "    <tr>\n",
       "      <td>1038900</td>\n",
       "      <td>1038900</td>\n",
       "      <td>2019-01-03</td>\n",
       "      <td>19647</td>\n",
       "      <td>Finance Consult - Wiki</td>\n",
       "      <td>No text.</td>\n",
       "      <td>0.0</td>\n",
       "      <td>Wiki</td>\n",
       "      <td>NaN</td>\n",
       "      <td>NaN</td>\n",
       "      <td>1</td>\n",
       "      <td>0.345763</td>\n",
       "      <td>0.000018</td>\n",
       "      <td>0</td>\n",
       "      <td>0.000</td>\n",
       "      <td>0.000000</td>\n",
       "    </tr>\n",
       "    <tr>\n",
       "      <td>1038901</td>\n",
       "      <td>1038901</td>\n",
       "      <td>2019-02-07</td>\n",
       "      <td>5439</td>\n",
       "      <td>Propelling Aviation - Wiki</td>\n",
       "      <td>No text.</td>\n",
       "      <td>0.0</td>\n",
       "      <td>Wiki</td>\n",
       "      <td>NaN</td>\n",
       "      <td>NaN</td>\n",
       "      <td>1</td>\n",
       "      <td>0.378724</td>\n",
       "      <td>0.428171</td>\n",
       "      <td>0</td>\n",
       "      <td>0.000</td>\n",
       "      <td>0.000000</td>\n",
       "    </tr>\n",
       "  </tbody>\n",
       "</table>\n",
       "<p>1038902 rows × 15 columns</p>\n",
       "</div>"
      ],
      "text/plain": [
       "         Unnamed: 0        Date  UserID  \\\n",
       "0                 0  2008-09-16    2438   \n",
       "1                 1  2010-12-26    7912   \n",
       "2                 2  2010-12-26    7912   \n",
       "3                 3  2010-10-19    2438   \n",
       "4                 4  2014-02-12    4736   \n",
       "...             ...         ...     ...   \n",
       "1038897     1038897  2017-11-26   14058   \n",
       "1038898     1038898  2017-11-30   14058   \n",
       "1038899     1038899  2018-09-19   19647   \n",
       "1038900     1038900  2019-01-03   19647   \n",
       "1038901     1038901  2019-02-07    5439   \n",
       "\n",
       "                                                     Title  \\\n",
       "0                                                    holds   \n",
       "1                                 sunday night in anguilla   \n",
       "2                                 sunday night in anguilla   \n",
       "3        do you know how to do this a top 5 list of ite...   \n",
       "4         copa sun and fun lunch april 4 2014 lake land fl   \n",
       "...                                                    ...   \n",
       "1038897                  United Kingdom and Ireland - Wiki   \n",
       "1038898  United Kingdom and Ireland Regional Leadership...   \n",
       "1038899                             NexAir Avionics - Wiki   \n",
       "1038900                             Finance Consult - Wiki   \n",
       "1038901                         Propelling Aviation - Wiki   \n",
       "\n",
       "                                             FormattedBody  TotalViews Source  \\\n",
       "0        \\r\\nDuring advanced instruction and in particu...      1345.0   Blog   \n",
       "1        Well, I survived Christmas Eve and Christmas. ...       856.0   Blog   \n",
       "2        Well, I survived Christmas Eve and Christmas. ...       856.0   Blog   \n",
       "3        \\r\\nAs an ongoing series of blog posts revolvi...      1747.0   Blog   \n",
       "4        Rich Hayes, Governor of COPA South East invite...       285.0   Blog   \n",
       "...                                                    ...         ...    ...   \n",
       "1038897                                           No text.        85.0   Wiki   \n",
       "1038898                                           No text.         0.0   Wiki   \n",
       "1038899                                           No text.         3.0   Wiki   \n",
       "1038900                                           No text.         0.0   Wiki   \n",
       "1038901                                           No text.         0.0   Wiki   \n",
       "\n",
       "         ThreadId  UserPoints  SourceScore  RecencyRate  AuthorScore  TopicID  \\\n",
       "0             NaN         NaN            3     0.016162     0.045504        8   \n",
       "1             NaN         NaN            3     0.025377     0.006508        2   \n",
       "2             NaN         NaN            3     0.025377     0.006508        3   \n",
       "3             NaN         NaN            3     0.024455     0.045504        5   \n",
       "4             NaN         NaN            3     0.049400     0.088172        8   \n",
       "...           ...         ...          ...          ...          ...      ...   \n",
       "1038897       NaN         NaN            1     0.167127     0.015853        0   \n",
       "1038898       NaN         NaN            1     0.168041     0.015853        0   \n",
       "1038899       NaN         NaN            1     0.272472     0.000018        0   \n",
       "1038900       NaN         NaN            1     0.345763     0.000018        0   \n",
       "1038901       NaN         NaN            1     0.378724     0.428171        0   \n",
       "\n",
       "         PreContentScore  ContentScore  \n",
       "0                  0.000      0.000000  \n",
       "1                  0.000      0.000000  \n",
       "2                  0.018      0.001248  \n",
       "3                  0.000      0.000000  \n",
       "4                  0.038      0.002635  \n",
       "...                  ...           ...  \n",
       "1038897            0.000      0.000000  \n",
       "1038898            0.000      0.000000  \n",
       "1038899            0.000      0.000000  \n",
       "1038900            0.000      0.000000  \n",
       "1038901            0.000      0.000000  \n",
       "\n",
       "[1038902 rows x 15 columns]"
      ]
     },
     "execution_count": 18,
     "metadata": {},
     "output_type": "execute_result"
    },
    {
     "name": "stdout",
     "output_type": "stream",
     "text": [
      "time: 19 ms\n"
     ]
    }
   ],
   "source": [
    "df_withALLScore"
   ]
  },
  {
   "cell_type": "code",
   "execution_count": 38,
   "metadata": {
    "scrolled": true
   },
   "outputs": [
    {
     "name": "stdout",
     "output_type": "stream",
     "text": [
      "------------------------------------------The result 1-----------------------------------------\n",
      "NTSB Factual report released.  I did not know this was his first flight after his training to pilot the MU-2.  I don't understand the NTSB's comments about Flight Data Recorder and making a big deal that the FAA is not implementing their guidance to force installation on Turbine aircraft.  This airplane had a Garmin G600.  It records all aspects of the airplane attitude.  This report makes no mention of the NTSB trying to recover that information.  Huh?\n",
      "CEN14FA046\n"
     ]
    },
    {
     "name": "stdout",
     "output_type": "stream",
     "text": [
      "HISTORY OF FLIGHTOn November 10, 2013, about 1546 central standard time, a Mitsubishi MU-2B-25 twin-engine airplane, N856JT, impacted wooded terrain while maneuvering near Owasso, Oklahoma. The commercial pilot, who was the sole occupant of the airplane, sustained fatal injuries. The airplane was destroyed. The airplane was registered to Anasazi Winds, LLC, Tulsa, Oklahoma, and was operated by the pilot under the provisions of 14 Code of Federal Regulations Part 91 as a personal flight. Visual meteorological conditions prevailed for the flight, and an instrument flight plan had been filed. The flight departed Salina Regional Airport (SLN), Salina, Kansas, about 1503 and was en route to Tulsa International Airport (TUL), Tulsa, Oklahoma.After takeoff, the airplane was radar identified by the Kansas City Center (ZKC) sector R66 controller, and the pilot was cleared to climb to 9,000 feet. About 1506, the pilot was cleared to climb to 17,000 feet. The flight proceeded normally, and at 1518, the pilot was instructed to contact the ZKC sector R72 controller. The pilot did so and was issued the Chanute altimeter setting, 30.30 inches of mercury. About 1527, the R72 controller instructed the pilot to descend at his discretion and maintain 10,000 feet. The pilot reported leaving 17,000 feet. About 1532, the R72 controller instructed the pilot to contact Tulsa approach control, and the pilot acknowledged.At 1534:09, the pilot contacted Tulsa approach. He reported leaving 11,600 feet for 10,000 feet and having received automatic terminal information service information Charlie. The controller advised the pilot to expect vectors for a visual approach to TUL runway 18L, and the pilot acknowledged the information. At 1537:46, the controller instructed the pilot to turn 10 degrees left and descend to 6,000 feet. At 1540:07, the controller asked the pilot to turn another 10 degrees left and instructed him to descend to 2,500 feet. The pilot acknowledged the instructions. At 1542:04, the controller advised the pilot that TUL was at the pilot's one o'clock position and 10 miles and asked the pilot to report the airport in sight. The pilot immediately replied, \"In sight.\" The controller cleared the pilot for a visual approach to runway 18L and instructed him to contact TUL tower. The pilot acknowledged both the approach clearance and the frequency change.The pilot contacted TUL tower at 1542:20 and again reported the airport in sight. The tower controller cleared the pilot to land on runway 18L and asked him to reduce speed to 150 knots or less for spacing behind an aircraft that would be departing from runway 18L. The pilot replied that he was reducing speed and acknowledged the runway assignment.After the airplane passed the runway 18L outer marker, the airplane began a left turn. At 1544:48, when the airplane was about 90 degrees from the runway approach path, the tower controller transmitted, \"Mitsubishi six Juliet tango tower.\" The pilot replied, \"I've got a control problem.\" The controller responded, \"Okay uh you can just maneuver there – if you can maneuver to the west and uh do you need assistance now?\" At 1545:06, the pilot replied, \" I've got a left engine shutdown.\" At 1545:11, the tower controller contacted the approach controller to advise him that N856JT had a control problem and that other aircraft might have to be cleared out of the area. At 1545:38, the tower controller transmitted, \"Six Juliet Tango are you uh declaring an emergency uh well we'll declare emergency for runway 18L – you say you have an engine out and souls on board and fuel remaining if you have time.\" The controller made two additional attempts to contact the pilot at 1546:06 and 1546:55, but there was no response. According to the tower's Accident/Incident Notification Record completed after the accident, notification of emergency services occurred about 1546.Radar data showed the airplane complete a 360-degree left turn near the runway 18L outer marker at 1,100 feet mean sea level (msl) then radar contact was lost.Seven witnesses observed the airplane in a shallow left turn; the reported altitudes ranged from 400 to 800 feet above ground level (agl). Four witnesses recalled the landing gear in the extended position during the turn, and two witnesses observed that one engine propeller appeared not to be rotating or slowly rotating. One of the witnesses reported seeing a stream of black exhaust following the airplane and four reported not seeing any smoke. Four of the witnesses reported an unusual engine or propeller noise from the airplane, and four did not comment on the engine or propeller noise. Some of the witnesses observed the airplane in a left turn toward the west before the wings began to rock left and right at a 10-15 degree bank angle. Shortly thereafter, the airplane was seen in a bank to the right followed by a \"hard\" bank to the left. Some of the witnesses observed the airplane spiral toward the ground and disappear from view.PERSONNEL INFORMATIONThe pilot, age 51, held a commercial pilot certificate, with airplane single-engine land, airplane multiengine land, and instrument airplane ratings, and a flight instructor certificate with airplane single-engine land, airplane multi-engine land, and instrument airplane ratings. The pilot's most recent flight instructor renewal was completed on October 6, 2013, when he added an airplane multiengine endorsement. The pilot's most recent Federal Aviation Administration (FAA) third-class medical certificate was dated October 15, 2013, and had no limitations. The pilot's application for his medical certificate indicated no use of any medications and no medical history conditions.According to pilot logbooks recovered at the accident site, which were partially consumed by fire, and other logbooks provided to investigators, the pilot had accumulated at least 2,874.4 total flight hours, of which 1,534.9 were in multiengine airplanes. The pilot accumulated most of his multiengine time in a Cessna 421B, which he owned since 2010.Interviews with individuals who were in contact with the pilot and cellular telephone records were used to construct the pilot's 72-hour history before the accident. No abnormal routines or health issues were reported or noted.Interviews were conducted with three pilots who flew with the accident pilot in the months before the accident. Although interviewed separately and not associated with each other, all three pilots had similar descriptions of the accident pilot. They described the pilot as a very good aviator who was studious and modest regarding his pilot skills. All three attested to the pilot's practice of flying in accordance with manufacturer guidance and meticulously following manufacturer checklists. None of the interviewed pilots recalled the pilot displaying any negative or bad flying habits.Pilot's MU-2B-25 TrainingPiloting a Mitsubishi MU-2B series airplane requires adherence to special training, experience, and operating conditions, which are provided in Special Federal Aviation Regulation (SFAR) No. 108 (published February 6, 2008, and effective February 5, 2009). Pilots cannot act as pilot-in-command (PIC) of an MU-2B series airplane unless they have logged a minimum of 100 flight hours as PIC in multiengine airplanes. For initial training, the SFAR requires a minimum of 20 hours of ground instruction and a minimum of 12 hours of flight instruction, with a minimum of 6 hours accomplished in the airplane, a level C simulator, or a level D simulator. Pilots must also satisfactorily complete a training course final phase check.The accident pilot's MU-2B-25 ground school was conducted November 4-10, 2013, at Professional Flight Training, L.C. (PFT), Salina, Kansas. He was the sole student in the class and the training cadre consisted of one SFAR-certified flight instructor who was the school's owner. The instructor reported that ground school with the pilot took about 32 hours, which was consistent with the time normally allotted to teach new pilots. According to the MU-2B flight instructor, the pilot reported to him that he had no previous MU-2B or turbine airplane flight experience before the SFAR training.The entire flight portion of the pilot's training was conducted in the accident airplane. The first flight was conducted on November 7, 2013, around the local area of Tulsa, Oklahoma. The second flight was conducted between Tulsa and Salina, Kansas. After the airplane landed at SLN, the remaining flights were flown in the local area of Salina. The instructor created training records for each flight, and the maneuvers flown were graded by assigning a rating of one through four, indicating poor, fair, average, and excellent, respectively. The pilot's scores on the first flight were about 2.8, or just below \"average.\" On each subsequent flight, the pilot progressed, with no evidence of regression in any area. On the final flight, his maneuvers were about 3.8, or nearly \"excellent.\"Documentation provided by the instructor recorded the time allotted for training. Two total hour metrics were tracked for each flight: the Hobbs meter time and a block time. The Hobbs time recorded airplane operation with weight off of the landing gear, which was determined by a squat switch on the left main landing gear. The block time recorded the time from when the airplane began taxiing from parking to the runway and the time that it returned to parking. During training, the accident airplane recorded 11.5 hours of Hobbs time and 16 hours 35 minutes of block time.On November 10, 2013, the morning of the accident, the pilot satisfactorily completed the phase check and received an SFAR endorsement in the MU-2B-25. The accident flight from SLN to TUL was the first time the pilot flew as a single pilot in the MU-2B-25 airplane.MU-2B Stall TrainingIn addition to MU-2B ground training, pilots are flight trained in stall recognition and recovery in accordance with flight profiles contained in SFAR No. 108. Pilots must perform approaches to stalls in takeoff, clean, and landing configurations with at least one approach-to-stall maneuver flown while in a 15-30 degree bank turn. Accelerated stalls are performed with both 20-degree and 0 flap configurations. A pilot must recover the airplane at the first indication of a stall, provided by either airframe buffet or the control wheel shaker. The final phase check includes three approach-to-stall maneuvers.The accident pilot flew three training flights during which landing configuration stalls were performed. In addition, he performed a landing configuration stall maneuver during his final phase check flight, which took place on the morning of the accident.The Approach to Stall flight profile in the SFAR indicates that, when stall recognition occurs, the pilot should apply maximum engine power and adjust pitch as necessary to minimize the loss of altitude. The SFAR stall recovery procedure is different than the one outlined in FAA Advisory Circular (AC) 120-109, Stall and Stick Pusher Training, dated August 6, 2012. The AC \"emphasizes reducing the angle of attack (AOA) at the first indication of a stall as the primary means of approach-to-stall or stall recovery.\" The AC changed the flight profiles used for general pilot certification and evaluation but did not alter the flight profiles in the SFAR. A change to the SFAR flight profiles must be accomplished through the notice of proposed rulemaking process. To date, MU-2B instructors and evaluators are required to instruct in the method that emphasizes minimizing altitude loss per the SFAR. The accident pilot's instructor taught the SFAR method but also instructed him on the AC's AOA recovery method.In addition to his exposure to both recovery methods in his MU-2B-25 training, the pilot demonstrated knowledge of both methods of recovery in previous airplanes. The FAA's designated pilot examiner for the pilot's airplane multiengine instructor rating reported that, for a ground instructor topic, the pilot taught stall recovery procedures, explaining both methods appropriately.Single Engine and Minimum Controllable Airspeed (Vmc) TrainingLike stall training, single engine procedures and Vmc awareness training were taught during the pilot's ground and flight training, as required for completion of the SFAR flight phase check. Single engine training was performed using zero thrust on one engine and by shutting down an engine using an airborne Negative Torque Sensor (NTS) system check (the NTS system is described later in this report). A demonstration of Vmc occurred on two training flights, and the pilot performed at least one engine shutdown in flight to demonstrate proficiency with an airborne NTS check. Maneuvers with one engine inoperative and a loss of directional control were performed on three training flights and during the pilot's final flight phase check. This maneuver requires the airplane to be configured with flaps at 20 degrees, the landing gear retracted, one engine set at zero thrust, and the other engine set to takeoff power. The airplane is pitched up to reduce the airspeed. As the airplane slows to Vmc + 10 knots, the instructor blocks the rudder to cause a loss of directional control. At the first indication of a loss of directional control, the pilot reduces airplane pitch and engine power to recover control of the airplane. The pilot had also performed a single engine landing on the morning of the accident during his final phase check.Pilot Training NotesThe pilot's handwritten notes from his SFAR training were found in the airplane but were partially consumed by fire. Included in the pilot notes were the following:- For engine out, center ball- **120 knots, never go below; 1. Takeoff 2. Landing assured- Vxse = 125 knots- Single-engine flight - remain clean configuration until beginning of approach segment. In approach segment, gear up, flaps 5 degrees, then when landing assured, gear down, [flaps] 20 degrees- (5 degrees flaps) Blue line, Vxse 130, Vyse 140MU-2 Pilot ChecklistSFAR No. 108 specifies the use of a pilot checklist (MU-2B-25 (A2PC) YET 06248B) that was accepted by the FAA's Flight Standardization Board (FSB) in 2010. This checklist and the earlier FSB-accepted version are the only checklists accepted for use in MU-2B airplanes during flight operations and training. The expanded checklist accepted in 2010 includes a single page checklist, which is a condensed version of the normal procedures and is commonly known as a quick reference checklist.The flight instructor reported that the pilot routinely flew with the single page checklist in a pouch located to the left side of the pilot's seat. The expanded pilot checklist was normally stowed behind the co-pilot's seat. A fire-damaged copy of the pilot's checklist was discovered in the wreckage located near the aft facing passenger seat just aft of the co-pilot's seat. The single page quick reference checklist was not located in the plastic retaining sleeve of the expanded checklist and was not located elsewhere in the wreckage; it was possibly consumed by fire.Flight Instructor's Training ChecklistPFT developed a training checklist that was not accepted by the FAA's Flight Standardization Board for training or operation of the MU-2B-25 airplane. Each page of the checklist is labeled as the following: \"For Training Purposes Only\", and another page contains the following note: \"This checklist is for training purposes only. For further detail, the FAA-approved airplane flight manual checklist will be the governing authority.\" The training checklist comprised items from the accepted checklist, as well as expanded information for the airplane's ground safety checks and NTS airborne checks. However, the training checklist excluded and/or did not follow most of the SFAR No. 108 accepted checklist content. The checklist was also labeled as applicable to other MU-2B airplane models (MU-2B-40 and MU-2B-60) and did not mention the MU-2B-25.The flight instructor reported using the training checklist solely to accomplish the first flight of training since it contains information that the instructor finds beneficial for pilots new to MU-2B series airplanes. The instructor also reported that pilots normally transition away from the PFT training checklist by the second or third flight. The FAA-accepted checklist was then used for the remainder of training, with the PFT training checklist as a supplemental training aid, if needed.Examination of the airplane wreckage found a partially consumed PFT training checklist melted to the circuit breaker panel to the left of the pilot's seat. Another PFT training checklist was found in the aft portion of the fuselage.Interviews with pilots who previously completed training with the PFT MU-2B instructor reported different experiences concerning the unaccepted training checklist. One former trainee reported never using the PFT checklist in flight and emphasized that only the FAA-accepted checklist was used. Another former trainee used the PFT checklist as the sole checklist for almost every flight. His perception was that the instructor pilot wanted to use the PFT training checklist for every flight.During the course of the investigation, the cockpits of 10 MU-2Bs were examined by a National Transportation Safety Board (NTSB) investigator. Unaccepted checklists were found adjacent to the pilot seats in two airplanes along with the accepted checklist, which was not within the pilot's reach. One airplane had two different checklists on board the airplane within the pilot's reach; however, neither was an accepted checklist. The correct checklist was observed in the remaining seven airplanes.Flight Instructor's QualificationThe instructor who conducted the accident pilot's training was SFAR-endorsed. He estimated that he had flown at least 16,000 hours in MU-2B series airplanes. He began instructing in the MU-2B in 1998 and estimated about 3,000 flight hours as an MU-2B instructor. On August 4, 2013, he renewed his flight instructor's certificate and on August 31, 2013, he completed an MU-2B-20 recurrent training course.AIRCRAFT INFORMATIONThe accident airplane was manufactured in 1973 by Mitsubishi as model MU-2B-25, serial number 306, and was a high-performance, twin-engine, high-wing, turboprop-powered airplane. It was issued a standard airworthiness certificate in the normal category on March 1, 1974, and registered to Anasazi Winds, LLC on September 26, 2013. The airplane was equipped with two 750 shaft horsepower (shp) (maximum continuous power rating of 715 shp) Honeywell TPE331-10AV-511M engines per a supplemental type certificate (STC) and Hartzell Propeller HC-B3TN-5M three-blade, single-acting, constant-speed, hydraulically-actuated propellers with feathering and reversing capability. According to the airplane records and information obtained by a maintenance facility, the most recent inspection was a combined 100 hour/annual inspection completed on September 19, 2013, at a total airframe time of 6,581.4 hours (about 12.9 hours before the accident flight), and the engines had accumulated 936.4 hours since overhaul. Weight and Balance InformationUsing loading and empty weight information based on estimated weights, fuel load, and wreckage documentation, Mitsubishi Heavy Industries, Inc., computed that the weight and center of gravity of the airplane at landing would have been 8,510 pounds and 30.27 percent mean aerodynamic chord, respectively, which was within weight and balance limits. A gross weight of 8,510 pounds was used for the performance calculations discussed further in this report. Avionics InformationThe airplane was configured with a Garmin G600 integrated avionics system, standard engine gauges, and a standard annunciator panel. The Garmin system was installed after the pilot purchased the airplane and before his flight training in the airplane. The pilot chose to install the Garmin system because it was the same system in his Cessna 421B airplane. It was estimated the pilot had 3 years and a minimum of 325 hours flying a G600-equipped airplane.The Garmin G600 is capable of displaying both a primary flight display and a multifunction display. The airspeed indicator is presented in a rolling tape format. The airspeed's numeric display consists of white numbers on a black background located in the middle of the rolling tape.Located on the right side of the tape is a narrow color-coded speed range strip. During installation of the system, select airspeeds are entered into the system to properly display on the speed range tape. At the bottom of the speed range tape, the tape can be colored red until Vso (stall speed in landing configuration), and above Vso, the range is typically white and green, or solid green, to display the airplane's normal operating range. For Vno (maximum speed for normal operations) through Vne (never exceed speed), the range is typically depicted as a caution range in yellow until Vne, where the range tape displays a red and white \"barber pole\" pattern. Vmc is typically depicted as a red horizontal line.Other Cockpit InstrumentationThe engine instrumentation gauges are analog displays, located in the left center portion of the cockpit and arranged in two columns. Each column displays information pertaining to its corresponding engine (for example, the left column's engine torque gauge displays the left engine's torque). The pilot's standby airspeed indicator, located to the left of the G600, has a white arc indicating a flap operating range from 77-175 knots and a green arc indicating a normal operating range from 101-250 knots. Annunciator LightsTwo red master caution lights (LH Engine, RH Engine) and a yellow caution annunciator are located in the center of the instrument panel directly below the glare shield. A corresponding annunciator panel is located to the left of the left seat pilot's left leg and contains a series of caution and warning lights. Stall Warning SystemThe airplane was equipped with a control wheel shaker stall warning system. This system uses a lift transducer on the leading edge of the right wing that actuates based on the airflow over the wing. The transducer sends an electrical signal, which is adjusted for the flap setting. When the airplane is about 4-9 knots above stall speed, a vibration or shaking motion is applied to the control wheel, which is audible in the cockpit.Pilots are exposed to the control wheel shaker through two manners. The control wheel shaker is tested before each flight to ensure proper operation, and pilots likely encounter the control wheel shaker while performing the approach-to-stall maneuvers during SFAR training.Autopilot SystemThe airplane was modified with a Bendix M4D autopilot system per an STC. The M4D is a multiaxis autopilot that controls roll, pitch, yaw, and pitch trim. The autopilot system can be used if one engine is inoperative, provided that the airplane is properly trimmed. This system was integrated with the installed avionics and passed a functional flight check on November 6, 2013. Negative Torque Sensing SystemAccording to the MU-2B-25 Pilots Operating Manual, in addition to the manual feathering system, the NTS system provides automatic propeller drag limiting in the event of an engine failure. If an engine fails in flight, the propeller drives the engine by aerodynamic (negative) torque, and the propeller feathering valve operates to dump the oil (from the propeller dome), inducing propeller feathering as in the manual feathering operation. As soon as the negative torque is eliminated, the propeller feathering valve automatically moves back to the normal position and stops dumping oil. Thus, the propeller windmilling drag will remain very low, with no serious effect on airplane maneuvers, even during sudden engine failure. The NTS system is a drag reduction system only; it is not an automatic feathering system. The propeller on the affected engine must be manually feathered for minimum drag.Fuel SystemThe airplane was equipped with five fuel tanks: a main (center) tank with a capacity of 159 gallons total, 156 gallons usable; left and right outer wing tanks with a capacity of 15 gallons each, 15 gallons usable each; and left and right tip tanks with a capacity of 93 gallons each, 90 gallons usable each. Total usable fuel is 366 gallons. Within the main tank is a fuel manifold that supplies fuel to each engine's fuel system through a left and right airframe fuel shutoff valve (main valve).The airframe fuel system is controlled by four switches on the instrument panel: left and right main valve switches, located on the lower right side of the pilot's instrument panel, to control the fuel shutoff valve in the fuel supply line to each engine, and the left and right tip tank/outer tank switches, located just below the main valve switches.Main Valve Fuel SwitchesThe main valve fuel switches are two-position toggles used to open and close the respective fuel valves between the main fuel tank and left and right engines. The switches have a doghouse-shaped gate between the OPEN and CLOSED positions. The OPEN position is on the upper side of the doghouse-shaped gate, and the CLOSED position is on the lower side of the gate. The fuel switch is typically left in the OPEN position. According to the MU-2B-25 checklist shutdown procedures, all cockpit switches should be turned off except for the main fuel switches. According to Mitsubishi, the fuel switches are used by maintenance personnel to turn off the fuel and should not typically be used by the pilot during a flight.Tip Tank/Outer Tank Fuel SwitchesThe tip tank/outer tank switches control the air shutoff valve in the pressurized air line to each tip tank, the two fuel shutoff valves in the fuel transfer line from each tip tank to center tank, and the electric transfer pump in the outer wing tank. The fuel transfer system allows fuel to be transferred from each wing tip tank to its respective outer tank or from its outer wing tank to the center tank. In the TIP TANK position, fuel is transferred from the tip tank into the outer tank by air pressure. When the switch is in the OUTER TANK position, fuel from the outer wing tank is transferred into the center tank. The center fuel tank will be maintained near a full level throughout the transfer process, as all fuel is fed into the center tank.Fuel ServicingThe airplane was refueled with 180 gallons of Jet A fuel before the accident flight, for a total of 279 gallons. According to the fixed based operator, the airplane was serviced with a \"standard PFT MU-2 fuel load,\" which was 45 gallons in each tip tank and top off of the outer wing tanks and main fuel tank.Fuel Shutoff Valve (FSOV)The engine-mounted FSOV is a two-position solenoid valve that must be electrically powered to be in the OPEN state. It is normally electrically powered in the CLOSED state by the direct circuit from the STOP position of the run-crank-stop (RCS) switch to the close side of the solenoid valve. When the engine is not operating, two electrical solenoids in the valve extend a ball valve (which is a rod with a ball on the end) so that the ball closes the orifice and prevents the flow of fuel to the engine. When the engine is operating, the ball valve is retracted, creating an opening for the fuel to pass through to the engine. A Belleville washer (spring) holds the ball valve in the commanded position, either OPEN or CLOSED.The FSOV can also be closed mechanically by selecting the condition lever to the EMERGENCY STOP position. While the condition lever is in EMERGENCY STOP, the valve cannot be electrically actuated. The valve cannot be opened mechanically; it can only be closed mechanically.By selecting the RCS switch to the STOP position, the fuel valve will close and shut off fuel to the engine, and the engine will begin to spool down immediately. If the RCS switch is returned to the RUN position, the valve will open, but the engine will not relight unless the autoignition switch is in either the AUTO or ON positions, or the pilot depresses the engine start switch and the unfeather switch per the Airplane Flight Manual (AFM) Airstart procedure. In addition, the speed switch must sense an engine rpm of 10 percent or greater, or the speed switch will not open the FSOV and initiate ignition. Run-Crank-Stop (RCS) SwitchThe RCS switch for each engine, located on the center pedestal between the power and condition levers, is used on the ground for normal engine start and shutdown. The switches electrically open and close the FSOVs, thereby turning the fuel flow to the engines on and off, respectively. Each switch is a three-position gated switch with a single gate between the RUN (forward) and CRANK (center) positions. The switch is spring loaded to move from the STOP (aft) to the CRANK position. During normal operations, the switch is moved to the RUN position for engine start and not moved from the RUN position until the engine is shut down on the ground (with the exception of an NTS in-flight check).When the airplane is secured on the ground, the RCS switch toggle is spring loaded in the CRANK position. For engine start, the RCS switch toggle is lifted and moved forward to the RUN position. When the RCS switch is positioned to RUN, and if the engine rpm is greater than 10 percent, the FSOV open solenoid is momentarily powered and allows fuel to flow to the engine fuel nozzles. For normal engine shutdown on the ground, the toggle must be lifted up, moved back, and held in the STOP position.According to the MU-2B-25 engine shutdown checklist, the RCS switch must be held in the STOP position until the engine rpm has decreased below 50 percent. When the toggle is held in the STOP position, the FSOV close solenoid cuts off the flow of fuel to the engine, thereby shutting it down. In addition, when the toggle switch is held in the STOP position, it powers the fuel nozzle purge solenoid open, which vents stored compressor discharge pressure air out through the fuel nozzles. This action clears any residual fuel from the lines to prevent it from back-draining into the combustor, as well as prevents the build-up of partially burned fuel residue in the fuel nozzles' internal passages.According to the instructor, the pilot was knowledgeable of the RCS switch locations and their function within the systems of the MU-2B-25. During flight training, the instructor shut down each engine in flight on separate occasions using the RCS switch. As mentioned earlier, the pilot performed at least one in-flight shutdown using the RCS switch to demonstrate proficiency in performing an airborne NTS check. Other Cockpit SwitchesSwitches similar to and near the RCS switch are two gated engine power auto limit switches (ENG PWR LIMIT) and two gated ignition switches. The engine power auto limit switches are two-position switches with a single gate. These switches are located to the left of the center pedestal and behind and to the right the pilot's control wheel. The ignition switches are three-position switches with two gates to select CONTINUOUS, OFF, or AUTO IGNITION. These switches are located to the right of the center pedestal.METEOROLOGICAL INFORMATIONAt 1553, the TUL automated surface observing system, located 5 miles south of the accident site, reported the wind from 140 degrees at 6 knots, visibility 10 miles, scattered clouds at 9,000 feet, temperature 19 degrees Celsius (C), dew point 6 degrees C, and an altimeter setting of 30.26 inches of mercury.COMMUNICATIONSNo problems with communications equipment were reported. AIRPORT INFORMATIONThe Tulsa International Airport, TUL, is a public, controlled airport located about 5 miles northeast of Tulsa, Oklahoma, at a surveyed elevation of 677.5 feet. The airport features two concrete runways, runway 18L/36R, which is 9,999 feet by 150 feet, and runway 8/26, which is 7,376 feet by 150 feet. Runway 18R/36L is asphalt and 6,101 feet by 150 feet. The runway 18L threshold is at an elevation of 626.5 feet, and the runway slopes upward at a 0.4-percent gradient. The runway contains a four-light precision approach path indicator (PAPI) on its left side with a 2.75 -degree glidepath. The listed obstruction to the runway is a 41-foot tree, which is located 1,894 feet from the runway and requires a 41:1 slope to clear.According to the instrument landing system (ILS) approach plate for runway 18L, the outer marker, identified as OWASO, is 5.6 nautical miles (nm) from the end of runway 18L. The glideslope/glidepath crossing altitude at OWASO is 2,346 feet msl.FLIGHT RECORDERSThe airplane was not equipped, and was not required to be equipped, with a cockpit voice recorder, flight data recorder, or cockpit image recorder.WRECKAGE AND IMPACT INFORMATIONThe accident site was located in wooded terrain about 5 miles north of TUL at a GPS elevation of about 650 feet. The airplane came to rest upright on a measured magnetic heading of 109 degrees. Several small trees displayed breaks and fractures that were consistent with the airplane impact sequence. The main wreckage area consisted of all major airplane structures and components. Postimpact fire consumed a majority of the fuselage and wing structure. The airplane impacted terrain in a slightly nose-down, left-wing-down attitude which was consistent with the crush damage to the forward fuselage, wings, and wing-tip fuel tanks relative to ground level.The main wreckage consisted of the cockpit, fuselage, left and right wings, left and right engines, and empennage. All of the flight control surfaces were located in the wreckage debris. The cockpit, including the instrument panel, windscreen, and flight crew seats, was destroyed by postimpact fire. No instrument readings or navigation/communication radio settings were discernible due to thermal damage. The cockpit throttle quadrant was removed for further examination. The cabin area was destroyed by postimpact fire. Charred remains of airplane manuals, pilot logbooks, airplane logbooks, and other miscellaneous papers were located throughout the fuselage structure.The flight control cables and linkage system were examined for continuity. The elevator and rudder push-pull rods and cables exhibited continuity from the flight controls to the control surfaces. The wing spoiler cables exhibited continuity from the control yokes to the mixing unit located in the center wing section. The push-pull tubes from the mixing unit to the spoilers were destroyed by thermal damage. The attach points of the push-pull tubes to the spoiler bell cranks exhibited continuity. The rudder trim was found in the neutral position, and the elevator trim was found in the 2-3 degrees nose-up position. The left seat right rudder pedal was found in the full-forward position.The left engine propeller blades were found in a feathered position, and the propeller assembly remained attached to the engine. The right propeller blades exhibited bending, twisting, and leading edge gouge damage. An approximately 4-inch piece of one propeller blade tip was separated and was not located. The blade tip separation fracture surfaces were consistent with an overload failure. The right propeller assembly remained attached to the engine. The left and right engines remained partially attached to the airframe. The landing gear and landing gear jackscrew were found in the extended position. The flap actuator jackscrew measurement corresponded with the flaps being in the 20-degree position.On November 12, 2013, the NTSB completed the on-scene examination/wreckage documentation, and a recovery company removed all remaining airplane wreckage from the accident site. The engines, propellers, and miscellaneous airframe structure surrounding the engines were transported to a facility in Tulsa to prepare for shipment for further examination. Details of the engine and propeller examinations are found later in this report.MEDICAL AND PATHOLOGICAL INFORMATIONAn autopsy was performed on the pilot by the Office of the Chief Medical Examiner, Oklahoma City, Oklahoma. The autopsy ruled the cause of death as the result of multiple blunt force injuries and the manner of death as an accident. No unusual findings were discovered during the autopsy.Biological specimens from the pilot's body were forwarded to the FAA's Civil Aerospace Medical Institute for toxicological testing. These specimens tested negative for ethanol and detected the presence of ibuprofen. Ibuprofen is a nonnarcotic analgesic and anti-inflammatory agent used to treat aches and pains, and as an antipyretic to reduce fever.TESTS AND RESEARCHAircraft Performance Radar StudyThe aircraft performance radar study used Airport Surveillance Radar (ASR) data to calculate the position and orientation (pitch, yaw, and roll angles) of the airplane in the minutes preceding the accident. This information was then used to estimate various performance parameters of interest, including horizontal and vertical speeds, terrain clearance, AOA and proximity to stall, and required engine power.The ASR-9 radar at TUL received returns from the airplane starting at 15:30:13, when the airplane was 60 nm northwest of the TUL runway 18L threshold and descending through 14,500 feet msl. The TUL ASR continued to track the airplane throughout its approach to TUL, including the last minutes of the flight.From 15:43:37 to 15:44:04, as the airplane was on final approach between 6.1 and 5.1 nm from runway 18L, there was a 27-second gap in the ASR secondary data (corresponding to five missing radar returns). However, during this time, three primary returns consistent with the position of the airplane were received by the ASR. In addition, the Chelsea/Afton, Oklahoma ATCBI-6 (QAF) radar received secondary returns from the airplane. The QAF secondary returns indicate that the gap in the TUL secondary returns was not due to a problem with the airplane's transponder but to some other unknown cause.The data indicated that at 15:42:50, the airplane was descending on a southeasterly heading through 2,500 feet msl about 8 nm north of the TUL runway 18L threshold. About 15:43:00, the airplane leveled off briefly at 2,200 feet msl and started a right turn toward the runway. At this time, the airplane was already below the PAPI glidepath for TUL runway 18L. The airplane crossed the extended runway centerline at 15:43:19 and continued the right turn to correct back to the centerline. When the airplane resumed its descent at 15:43:25, the PAPI would have displayed four red lights, indicating that the airplane was below the PAPI centerline.About 15:44:00, as the airplane was descending through 1,400 feet msl, it started a left turn that continued to the end of the radar data, with the airplane almost completing a full 360-degree turn. During this turn, the pilot reported to air traffic control (ATC) that \"I've got a control problem\" (at 15:44:51) and that \" I've got a left engine shutdown\" (at 15:45:06). The airplane crashed less than 0.05 nm southwest of the last radar return, about 5 nm north of the runway threshold, and about 0.05 nm left (east) of the extended runway centerline. The airspeed data presented in the study indicated that the airplane was operating close to the 20 -degrees flaps, one-engine inoperative minimum controllable airspeed (Vmc, 20) of 93 knots calibrated airspeed (KCAS) during the time that the pilot reported control and engine problems. In addition, the calculations indicated that shortly before the end of the radar data, the airplane's lift coefficient (CL) reached the maximum CL (CLmax) for the flaps 20 configuration, which suggested that the final descent of the airplane into the ground followed an aerodynamic stall of the wing. This finding was consistent with the condition of the wreckage, its location very close to the last radar point, and witness statements.The CL and airspeed data computed from the radar returns indicated that the flaps must have been deployed at some time before 15:44:18, because the airplane's calculated CL exceeded the CLmax for 0-degrees flaps beyond this time, but the airplane continued flying. Consideration of the power requirements computed from the radar data suggested that the flaps may have been deployed to 20 degrees around 15:43:30, shortly after the airplane decelerated below the speed at which flaps 20 could be extended (140 KCAS).The roll angle computed from the radar data indicated that the airplane required about 13 degrees of roll during the right turn between 15:42:55 and 15:43:50, as the airplane maneuvered to line up with the extended runway centerline. The roll angle required during the final 360 -degree left turn was about 15 to 25 degrees, with the roll angle increasing from about 5 degrees left to 22 degrees left between 15:44:20 and 15:44:30. This increase in roll angle corresponded to the time that the airplane arrested its deceleration and descent (that is, the energy began to decay) and leveled at about 95 KCAS and 1,100 feet msl, or about 400 feet agl. Associated with this level-off was an increase in required horsepower. The power increased to about the maximum available from one engine for the corresponding flight conditions. Because, as suggested by the pilot's reports of an engine problem, the increase in horsepower was only available from one engine, then any thrust asymmetry between the two engines would also increase and would increase the rudder deflection and/or sideslip angle required to compensate for the asymmetry. Consequently, the increase in roll angle at this time may reflect these changing parameters affecting the trim of the airplane.Also, by 15:44:15, the airspeed had already decayed to around 95 KCAS, close to the Vmc, 20 of 93 KCAS. Consequently, with full power on the operating engine, and at this speed, the airplane was close to the limit of controllability. The airplane may have been easier to control at lower power settings on the operating engine but may still have presented a challenging situation to the pilot, given the low energy state of the airplane and its proximity to the ground.During the final 360-degree left turn, the highest priority to ensure the safety of the flight would have been to increase the control margin by increasing the airspeed further above the 93 KCAS Vmc, 20 speed. However, to increase the speed, a pilot would have to increase power on the operating engine (thereby exacerbating the thrust asymmetry and control problem at low speed, even if additional power were available), trade altitude for airspeed (which a pilot may be reluctant to do if the airplane is already at a low altitude), or perform some combination of these actions. A pilot could also increase the speed and margin from Vmc, 20, by retracting the landing gear, thereby lowering the airplane's drag. Hence, at the time the power was increased between 15:44:10 and 15:44:30, the airplane was already in a difficult situation because of the combination of low altitude, low airspeed, and the reported problem with the left engine.Engine ExaminationThe engines were disassembled at Honeywell's facilities in Phoenix, Arizona, under the supervision of the NTSB. Disassembly and examination of the engines did not reveal evidence of preimpact malfunctions. Disassembly of the right engine revealed the compressor section 1st stage impeller shroud inner diameter was coated with dirt. After the dirt was removed, there was a continuous rub on the rear of the shroud from about the 8- to 12 -o'clock position and an intermittent rub from about 1- to 3 -o'clock. The rub marks on the shroud corresponded to the rub marks and displaced material on the first stage impeller. One 1st stage impeller blade leading edge was bent opposite the direction of rotation. The impeller was covered with dirt. The edges of the impeller blades had circumferential rub marks and material displaced opposite the direction of rotation that corresponded to the rub marks on the shroud. Dirt and organic material was found at the rear of the combustion chamber on the inside of the liner. The 1st-, 2nd-, and 3rd-stage turbine stators had a slight amount of metal spray on the suction side of the airfoils. The 1st-, 2nd-, and 3rd-stage turbine rotors were intact and did not have any apparent damage to the respective airfoils that were all full length and straight. The turbine blades had a slight amount of metal spray on the suction side of the airfoils, and the blades did not have any circumferential rub marks on the tips. Disassembly of the left engine revealed the compressor section 1st- and 2nd-stage impeller shroud inner diameters did not have any circumferential scoring or rub marks. The 1st-, 2nd-, and 3rd-stage turbine rotors were intact and did not have any apparent damage to the respective airfoils, which were all full length and straight. The blade tips did not have any circumferential rub marks, and the blades did not have any metal spray materials on the airfoils.The left engine's FSOV was removed from the engine during the engine disassembly and was flow-checked with air. No air flowed through the valve even though the manual close lever was in the OPEN position. Subsequent testing of the left engine FSOV at three different facilities confirmed the valve operated normally. The disassembly of the left engine FSOV confirmed the latch assembly was intact. When the right engine FSOV was flow-checked after it was removed from the engine, air flowed through the valve. The right engine FSOV could not be tested due to fire damage. All of the external components related to the generation or control of engine power, including the fuel controls and propeller governors, were removed from both of the engines and tested, with no significant abnormalities noted.Propeller ExaminationThe propellers were disassembled at Ottosen Propellers facility in Phoenix, Arizona, under the supervision of the NTSB. Disassembly and examination of the propellers did not reveal evidence of a preimpact malfunction. Disassembly and examination of the left propeller assembly revealed that all three blades remained attached to the hub. The propeller hub with the propeller blades still attached was mounted on a fixture. When air was supplied to the propeller, the piston unit moved upward and the blades moved symmetrically from the feather position to the start lock position. When the air was disconnected and the start lock pins were unlocked, the piston went down and the blades moved symmetrically back to the feathered position. There were imprints on the blade butts of all three blades that corresponded to the base of the spindle, with the blades being in the feathered position.Disassembly and examination of the right propeller assembly revealed that all three blades remained attached to the hub. All three blades were bent and twisted. Two blades were missing their blade tips, and the fracture surfaces had shear lips for the full length of the fractures. The pitch change link arms were intact; however, they were found disconnected at the propeller clamp studs. When air was supplied to the propeller, the piston unit moved upwards, and when the air was disconnected, the piston went down. Blade butt imprints corresponded to the base of the spindle, with the blades being in the middle of the operating range.Cockpit SwitchesThe airplane wreckage and miscellaneous debris were examined at the wreckage storage facility to locate any cockpit switches. Several cockpit switches were found during the examination and displayed significant thermal damage. The switches were retained for further examination in an attempt to identify specific switches and the switch position at the time of the accident.The switches were examined at the NTSB Material Laboratory in Washington DC. The remains of the RCS switches were located, including the toggle and switch body of one of the RCS switches. The toggle of this switch was found in the RUN position. The other RCS switch consisted of only the toggle, and it was not possible to determine its position. It was also not possible to determine which switches corresponded to the left or right engines.The two tip tank/outer tank switches were missing their bottoms and the internal wiring. One tip tank/outer tank switch toggle was centered, corresponding to the OFF position, and one tip tank/outer tank switch toggle was in the up position, corresponding to the TIP TANK position. It was not possible to determine which switches corresponded to the left or right fuel tanks.Several toggle switches with rounded point-shaped toggles and doghouse-shaped gates were recovered. The examination of an MU-2B-25 cockpit revealed there were several toggle switches with dog house-shaped gates and round point toggles installed in the instrument panel, so it was not possible to identify what these particular switches represented from the accident airplane. In addition, because the shape of the switch bodies is symmetrical, it was not possible to determine the position of any of the switches.Throttle QuadrantThe throttle quadrant sustained extensive fire and thermal damage. The power levers, condition levers, and condition lever bell cranks were missing. The upper part of each power lever bell crank, to which the power levers are attached, was missing; but, on the bottom of the bell crank, the lug to which the linkage is attached was bent and folded over to the right. The connecting link with the nut and bolt was still attached to the left engine's power lever bell crank lower lug.When viewing an exemplar throttle quadrant, the cross-shaft spindle that passes through the bell cranks for the power and condition levers has two screws at what appear to be top dead center. When the power levers on the exemplar throttle quadrant were positioned to the maximum power position, the upper part of the bell crank was slightly forward of vertical, and the lower part of the bell crank to which the connecting link was attached is slightly aft of vertical. When the accident airplane's throttle quadrant was positioned so that the two screws were at top dead center, the two bent and folded lower lugs of the bell cranks appeared to be slightly aft of vertical. The lower lugs of the bell cranks still had the connecting links with the nuts and bolts attached.Engine Shutdown TestingOn February 12, 2014, members of the Powerplants Group convened at Turbine Aircraft Services, Addison, Texas, to conduct engine shutdown tests on a MU-2B airplane using the RCS switch. For Test 1, both engines were started and allowed to idle for 5 minutes. The engine ignition was then set to its off position. The interturbine temperature (ITT) on both engines was about 530 degrees C. The left engine was shut down first followed by the right engine. The RCS switch was moved from the RUN position to the STOP position, where it was held for 3 seconds, then returned to the RUN position. It took the left and right engines ITT to reach 300 degrees C in 3.16 and 4.44 seconds, respectively. The engines continued to spool down until they stopped. White smoke was observed from both engines' tailpipes.For Test 2, after the engines had stopped per Test 1, the ITT slowly increased so that it was about 350 degrees C. Because of the ITT and the white smoke coming from the engines' tailpipes, both of the engines were dry motored with the starter (that is, they were run on the starter with the fuel and ignition turned off) and the RCS switch in the CRANK position to get the ITT below 300 degrees C. Both engines were started, the engine ignition was set to auto, and the engines were allowed to idle for 3 minutes. The ITT on both engines was about 530 degrees C. The left engine was shut down first followed by the right engine by moving the respective RCS switch from the RUN position to the STOP position, where it was held for 3 seconds, then returned to RUN. The time for the left and right engines ITT to reach 300 degrees C was 3.87 and 3.54 seconds, respectively. The ignition lights flashed on, the engines spooled down until rpm was 75 percent, ITT increased to about 700 degrees C, and rpm slowly increased to about 95 percent. ITT then decreased to about 530 degrees C.Following the two shutdown tests, the engines were shut down normally by just moving the RCS switch to stop. These shutdowns were not timed, and the engines did not smoke after they were shut down and stopped.Airplane Flight Manual Checklist Emergency ProceduresSection 3 of the MU-2B-25 AFM provides information regarding airplane emergencies, the warning or alerts associated with a particular emergency, and the procedures to follow once the emergency has been identified. Some of those procedures are listed as follows.Engine Failure After Liftoff – Continued Climb (in part)1. Landing Gear – Up2. Airspeed – Vxse Minimum for Flap Configuration3. Condition Lever (Failed Engine) – Emergency Stop4. Power Lever (Failed Engine) – TakeoffWARNING – If an engine failure occurs after liftoff, continued climb is not assured unless operating engine is producing power in accordance with the power assurance chart and the airplane flight manual procedures are followed.WARNING – Identify failed engine by power asymmetry and engine instruments. Do not retard failed engine power lever. Place failed engine power lever to takeoff position during feathering of the propeller and leave there for the remainder of the flight.CAUTION – Run-Crank-Stop Switch must remain in RUN position.5. Landing light – Retract6. Airspeed – Vyse Minimum for Flap Configuration7. Flaps – 5 degrees8. Airspeed – 140 KCAS minimum or 135 KCAS minimum (if not modified by S/R 010)NOTE – For airplanes not modified by S/R 010, do not exceed 140 KCAS until flaps are Up.9. Flaps – Up10. Airspeed – 150 KCAS11. Engine Power Limit Switches – ManualCAUTION – Prior to placing the engine power limit switches to the manual position, the operating engine's power lever should be positioned so that the engine will not exceed the Torque/ITT limits.12. Power (Operating Engine) – As requiredWARNING – Air conditioning and pressurization system must remain off to attain full climb capability.13. Engine Shutdown Procedure (Failed Engine) – AccomplishNOTE – Single engine climb rates are best attained with wings level by use of rudder to correct for yawing tendency and using the minimum amount of spoiler necessary to maintain lateral control.Engine Shutdown ProcedureIf engine failure occurs, or if a sudden loss or significant fluctuation (plus/minus 7.5 percent) of indicated torque pressure occurs, as indicated by airplane yaw, promptly shut down the affected engine and determine the cause prior to further operation.1. Failed Engine Condition Lever - EMERGENCY STOP2. Failed Engine Power Lever - TAKEOFFWARNING - Identify failed engine by power asymmetry and engine instruments. Do not retard failed engine power lever. Place failed engine power lever to takeoff position during the feathering of propeller and leave there for the remainder of the flight.CAUTION - Run-crank-stop switch must remain in \"run\" position3. Trim – Set4. Power - As required5. Failed Engine DC Generator Switch – Off5A. Ignition Switch - Off (Affected Engine)6. Air Conditioning and Pressurization System - Select operating engine bleed air or ram air (if thrust critical)NOTE - Ram air position will depressurize cabin. Oxygen may be required.7. Engine Power Limit Switches - ManualCAUTION - Prior to placing the engine power limit switches to the [manual] position, the operating engine's power lever should be positioned so that the engine will not exceed the torque/ITT limits.8. Operating Engine Power Level - Set as required8A. Voltammeters - CheckNOTE - Both voltammeters should indicate between 27 and 29.5 volts. Amperage on the side of the operating engine should be less than 200 amps.9. Operating Engine DC Generator Load - Reduce to essential items (if necessary)10. Prop Synchronizer (if installed) - OffSingle Engine Landing ProcedureCAUTION - The use of 40 degrees flaps with an engine inoperative is not recommended. Always maintain airspeed above Vxse for flap settings being used until landing is assured.Before Landing Checklist - Use normal procedures except as follows:1. Inoperative Engine - Secured (Use Engine Shutdown Procedure)2. Fuel Quantity and Balance - Check within limitations3. Cabin Air Selector Switch - Off or Ram4. Condition Lever (Operating Engine) - Takeoff Land5. Power Lever (Operating Engine) - Set as required to maintain airspeed and desired flight path6. Landing Gear - Up7. Flaps - Up (Vxse = 135 KCAS)8. Airspeed - 150 KCASBeginning Final Approach Descent or Base Leg (approximately 1,000 feet agl):9. Flaps - 5 degrees (Vxse = 130 KCAS)10 Airspeed - 140 KCAS (modified by S/R 010); 130 KCAS (not modified by S/R 010)When Landing is Assured:11. Landing Gear - Down12. Power Lever (Operating Engine) - As required to maintain airspeed and desired flight path13. Flaps - 20 degrees (Vxse = 125 KCAS)14. Airspeed - 105 KCAS when over runwayWARNING - Do not attempt a go around below 400 feet agl or after 20 degrees of flaps are selected. Altitude loss may approach 400 feet, during transition from approach to climb configuration (Gear down, flaps 20 degrees to Gear up, flaps up).CAUTION - Up to 20 percent additional runway may be required using this procedure when compared to the normal two engine landing distance.After Touchdown:15. Reverse Thrust - As required to maintain directional controlCAUTION - On other than dry, hard surface runways, it is possible to apply more reverse thrust than can be counteracted by rudder, brakes, and nosewheel steering.Airstart ProcedureCAUTION - Ensure engine stoppage was not the result of malfunction which might make it dangerous to attempt a restart1. Airspeed - 100 to 180 KCAS (150 KCAS Recommended)2. Altitude - Below 15,000 feet pressure altitude3. Interstage Turbine Temperature - Below 200 degrees C (if feasible)4. Prop Synchronizer (if installed) – Off5. Condition Lever – Taxi6. Power Lever - Middle of flight idle and takeoffNOTE - If possible, perform equalizing cooling of engine rotor assembly by wind milling in using unfeather switch intermittently before airstart. If ITT drops during standing of propeller followed after equalizing cooling, perform equalizing cooling again if possible by wind milling about one minute in using unfeather switch intermittently just before airstart even if ITT is below 200 degrees C because thermal distortion of engine rotor assembly may occur.7. Start Selector Switch - Air Start and Safe8. Ignition Switch – Off9. Run-Crank-Stop Switch – Run10. Engine Start Switch - Press Momentarily (Start Indicator Light Illuminates)11. Unfeather Switch - Press and Hold to 30 percent rpm minimum12. Fuel Enrichment Switch - Press and Hold Up to Light Offa. ITT - Monitor (Maximum 1149 degrees C)b. Within 15 seconds past 10 percent rpm or by 25 percent rpm - Indicated combustion or abort start (Place Condition Lever to EMERGENCY STOP)c. Above 25 percent rpm with Slow Acceleration - Use fuel enrichment switchd. If Acceleration stagnates and ITT continues to riseCondition Lever - EMERGENCY STOPNOTE - If abort was caused by high ITT, reduce altitude and increase airspeed, if possible, before attempting restart. If abort was caused by no combustion, reduce altitude and reduce airspeed, if possible before attempting a restart.CAUTION - Do not allow engine to windmill in the 18 percent to 28 percent rpm range.13. Condition Lever - As required14. Power Lever - As required15. DC Generator Switch - On/Reset if necessary15A. Ignition Switch - Auto (Ignition Annunciator Light extinguished if Auto-Ignition System installed)16. Air Conditioning and Pressurization System - BothMU-2B-25 (A2PC) Pilot Checklist Normal ProceduresSection 5 of the MU-2B-25 A2PC pilot checklist provides information regarding airplane normal procedures. Some of those procedures are listed as follows.Descent Procedures1. Cabin Altitude – SetSet Cabin Pressure Controller pointer to field elevation plus 1,000 feet. Adjust rate control knob so that the airplane will be fully depressurized prior to landing. Generally, a 300 to 500 fpm cabin descent rate will be comfortable and ensure proper depressurization.2. Tip Tank/Outer Tank Switch – Off3. Altimeters – Set4. Windshield Defog – As required5. Ignition Switches – As requiredSelect CONT (auto ignition installed) or ON (manual ignition installed) in icing conditions or heavy participation. Observe duty cycle limitations. In other than these conditions, select AUTO (auto ignition installed) or OFF (manual ignition installed).CAUTION – Ignition shall be selected to CONT (if auto ignition installed) or ON (if manual ignition installed) during approach and landing while in or shortly following flight in actual or potential icing condition.6. Anti-ice/De-ice – As required (Add 10 percent KIAS in icing)a. Pitot Anti-ice – Oni. Pitot and Static Anti-ice (if installed) – Onb. Windshield Heat (if installed) – LowIf descent through icing conditions is anticipated, turn on all anti-ice and de-ice equipment.7. Taxi Lights (if installed) – As requiredRecommended on for descentApproach Procedures (in part)1. Landing Data – Computed2. Fuel Quantity/Balance – Check In-LimitsTip fuel must be below 65 gallons or an overweight landing inspection will be required. Balance within 22 gallons.3. Propeller Synchronizer (if installed) – Off4. Differential Pressure – ZeroConfirm cabin will be depressurized prior to landing.5. Condition Levers – Takeoff landProvides maximum thrust in the event of a go-around.6. Power – As required7. Airspeed – 140 KCAS minimum (modified by S/R 010); 130 KCAS minimum (not modified by S/R 010)8. Cabin Sign – OnBrief Passengers9. Anti-ice System – As required (add 10 percent KIAS in icing)10. Engine Power Limit Switches – Auto11. Landing Lights – As required (below 175 KCAS)12. Flaps – 5 degrees (below 175 KCAS)Professional Flight Training, L.C. Checklist Normal Procedures (****For Training Purposes Only****)As stated earlier in this report, the instructor provided the pilot a checklist for training purposes only during his MU-2B-25 SFAR training program. Some of the normal checklist procedures are listed as follows.Descent1. Cabin Altitude Selector – Set2. Fuel Transfer Switches – Tips Manual or Off3. Altimeters – Set4. Anti/De-ice Systems – As required5. Lights – As requiredApproach and Landing1. Cabin Altitude Diff Pressure – Check for Zero2. Anti/De-ice Systems – As required3. Lights – As required4. Cabin Signs – On5. Windshield Heat – As required6. Auto Ignition – Auto or continuous7. Landing Gear – Down8. Prop Sync – Off9. Flaps – 5 degrees10. Auto Pilot/Yaw Damper – Off11. Fuel Transfer Switches – Balanced/Off12. Landing Gear – Check 3 Green13. Power – 20 percent [torque] or greater14. Flaps – 20 degrees15. Airspeed (computed) - CheckADDITIONAL INFORMATIONFlight Recorder SystemsThe NTSB notes that the airplane was not required to have any type of crash-resistant recorder installed. Previous NTSB recommendations have addressed the need for recording information on airplane types such as the one involved in this accident. Recorders can help investigators identify safety issues that might otherwise be undetectable, which is critical to the prevention of future accidents.On May 6, 2013, the NTSB issued Safety Recommendation A-13-13 and asked the FAA to do the following:Require all existing turbine-powered, nonexperimental, nonrestricted-category aircraft that are not equipped with a flight data recorder or cockpit voice recorder and are operating under 14 Code of Federal Regulations Parts 91, 121, or 135 to be retrofitted with a crash-resistant flight recorder system. The crash-resistant flight recorder system should record cockpit audio and images with a view of the cockpit environment to include as much of the outside view as possible, and parametric data per aircraft and system installation, all as specified in Technical Standard Order C197, \"Information Collection and Monitoring Systems.\"On December 10, 2013, the NTSB classified Safety Recommendation A-13-13 \"Open—Unacceptable Response\" because the FAA stated that it had not found any compelling evidence to require installation of cockpit recording systems as recommended. Accordingly, the FAA reiterated that it planned no further action to mandate flight deck recording systems and considered its actions complete. Despite the FAA's position, the lack of recording systems on aircraft remains an important safety issue, and the NTSB therefore believes that it would be premature to close the recommendation.\n"
     ]
    },
    {
     "name": "stdout",
     "output_type": "stream",
     "text": [
      "------------------------------------------The result 2-----------------------------------------\n",
      "NTSB has released their factual report on this accident (appended below). Also, lots of material in the public information docket.\n",
      " \n",
      "\n",
      "NTSB Identification: ERA11FA41414 CFR Part 91: General AviationAccident occurred Saturday, July 23, 2011 in Palm Bay, FLAircraft: CIRRUS DESIGN CORP SR22, registration: N122HBInjuries: 2 Fatal,1 Minor.\n",
      "\n",
      "\n",
      " \n",
      "NTSB investigators either traveled in support of this investigation or conducted a significant amount of investigative work without any travel, and used data obtained from various sources to prepare this aircraft accident report.\n",
      " \n",
      "HISTORY OF FLIGHT\n"
     ]
    },
    {
     "name": "stdout",
     "output_type": "stream",
     "text": [
      "On July 23, 2011, about 1233 eastern daylight time, a Cirrus Design Corporation SR22, N122HB, registered to N122HB LLC, and operated by a private individual, experienced a loss of engine power and sustained substantial damage during an attempted forced landing to an open field near Palm Bay, Florida. Visual meteorological conditions prevailed at the time and an instrument flight rules (IFR) flight plan was filed for the 14 Code of Federal Regulations (CFR) Part 91 personal flight from Albert Whitted Airport (SPG), St. Petersburg, Florida, to Melbourne International Airport (MLB), Melbourne, Florida. The private pilot and one passenger were fatally injured, and one passenger sustained minor injuries. The flight originated from SPG about 1145.The rear seat passenger stated that before takeoff, the pilot, “…checked the airplane on the outside as well as all the instruments inside the airplane.” She reported the takeoff was perfect and was very smooth and she felt very safe.According to a chronological summary of flight communications, at 1146, or approximately 1 minute after takeoff, the pilot established contact with Tampa Air Traffic Control Tower (Tampa ATCT), and advised the controller that the flight was at 700 feet climbing to 1,600 feet. The controller vectored the pilot to overfly Tampa International Airport runway 28, and air traffic control communications were transferred to a different sector of the Tampa ATCT. The pilot established contact with that sector and at 1201, he advised the controller that his new destination was Valkaria Airport (X59) in order to make a fuel stop. Communications were then transferred to Central Florida Terminal Radar Approach Control Facility (Orlando Approach Control).The transcription of communications with Orlando Approach Control indicates the pilot established contact while proceeding towards the destination airport. At 1227:13, the controller directed the pilot to descend and maintain 1,500 feet which he acknowledged. The flight continued and at 1231:16, the pilot declared “mayday mayday mayday” followed by a declaration, “…with smoke coming from out of the engine and engine flutter.” The controller advised the pilot that Melbourne International Airport was located at his 9 o’clock position and about 9 miles and his destination airport (X59) was located at his 12 o’clock position and 7 miles. The pilot acknowledged the communication but advised the controller that he could not make either airport and he was looking for an off airport site. As the flight proceeded the controller advised the pilot the location and distance from MLB, but at 1232:12, he advised the controller, “we got fire we doing an off site landing.” The controller acknowledged the comment from the pilot and at 1233:27, broadcast on the frequency for the pilot that radar contact was lost. The pilot did not respond and there were no further recorded transmissions from the pilot.The rear seat passenger later stated that shortly after turning to the south she felt the airplane shudder, then it became quite. After hearing the pilot tell the right front seat passenger to get into a position, she ducked to make herself as small as possible.Three witnesses who were located about ½ nautical mile northwest from the crash site reported the airplane flew over their position about 400 to 500 feet in a direction that was determined to be about 100 degrees magnetic. They reported that the engine was sputtering and “coughing”, but they did not see any smoke trailing the airplane. The airplane kept descending, and at the last minute banked hard to the right with the wings reported to be vertical. The nose pitched down, and they lost sight behind trees. They heard an impact, saw white colored smoke, called 911, and proceeded to the site where they rendered assistance until first responders arrived.The rear seat passenger also stated that the airplane bounced twice then began to flip. When the airplane came to rest, she unbuckled herself and ran away from the airplane to begin looking for help, but noted “…miles and miles of field….”The pilot and passenger were removed from the wreckage, and all occupants were transported to a hospital for medical intervention.The airplane crashed during daylight conditions.PERSONNEL INFORMATIONThe pilot, age 65, held a private pilot certificate with rating(s) airplane single engine land, instrument airplane, and held a third class medical certificate issued June 5, 2011, with a limitation to have available glasses for near vision.Review of the pilot’s logbook which was designated as being Logbook Number “3”, revealed the first entry was dated January 12, 2004, and the last entry was dated July 19, 2011. The carry forward time was 1,606.8 hours, of which all were in “Airplane SEL” column. The pilot-in-command (PIC) carry forward time was recorded to be 1,517.7 hours. He recorded time in a Cessna 182 airplane (N228JA) beginning January 12, 2004, through November 27, 2006, a LC-42 (Colombia N358DM) beginning December 5, 2006, through March 30, 2010, a Piper PA-28 (N3035D) beginning June 2, 2010, through July 25, 2010, and the accident airplane exclusively from October 28, 2010, through the last logged flight. His logged total time was 3,043.4 hours. His last logged flight review in accordance with 14 CFR Part 61.56 (a) occurred on May 21, 2010. His total logged flight time in the accident airplane from the No. 3 logbook was 153.4 hours. His total time in the last 90 days was recorded to be 63.6 hours all as PIC in the accident airplane. His total time in the last 30 days was recorded to be 14.2 hours all as PIC in the accident airplane.The No. 3 logbook total time as PIC was recorded to be 2,744.6 hours. All of the hours listed for the make and model airplane were recorded to be as PIC, with 3 entries dated October 31, 2010, November 1, 2011, and November 3, 2010, also listed as dual received.Safety Board interview with a friend of the accident pilot revealed that with respect to the CAPS, he and the pilot had a conversation. The accident pilot advised that he would try to fly the airplane to the ground and would only deploy the CAPS in the event of structural failure or if there was an issue of inability to control the airplane.AIRCRAFT INFORMATIONThe airplane was manufactured by Cirrus Design Corporation in 2003, as model SR22, and was designated serial number 0517. It was powered by a 310 horsepower Continental Motors IO-550-N engine and equipped with a single acting constant speed three-bladed Hartzell propeller.Engine rpm, oil pressure, oil temperature, manifold pressure, fuel flow, voltage, and amperage were displayed on analog instruments located on the right side of the instrument panel. The combination analog gauge for the oil temperature and oil pressure depicted the green arc (normal) range, red line maximum for oil temperature, and also red line minimum and maximum oil pressure. The analog oil pressure indicator receives a pressure signal from an oil pressure sensor mounted at the aft end of the engine below the oil cooler. Discoloration of the markings on the analog oil pressure gauge faceplate were noted during the postaccident investigation; however, the markings for the caution range, and red line maximum and minimum oil pressure were in the location as depicted in Section 2 of the Pilot’s Operating Handbook and FAA Approved Flight Manual (POH/AFM).Engine indications were also displayed on the “MAP” or “ENGINE” pages of the Avidyne multi-function display (MFD), which was installed to the right of the primary flight display (PFD), or about the center of the instrument panel. The engine parameters displayed on the MFD’s “ENGINE” or “MAP” pages are derived from analog signals from sensors for cylinder head temperature (CHT), exhaust gas temperature (EGT), manifold pressure (MAP), oil pressure, oil temperature, and rpm which are converted to digital units by a data acquisition unit (DAU). The oil pressure display on the MFD depicts the red line minimum value of 10 psi, green arc (normal) range of 30 to 60 psi, yellow arcs (caution) range for 10 to 30 psi and 60 to 100 psi, and red line maximum limit of 100 psi (cold). The oil temperature display on the MFD depicted the green arc (normal) range of 100 to 240 degrees Fahrenheit, and a maximum (red line) value of 240 degrees Fahrenheit.A representative of the MFD manufacturer reports that the MFD installed in the airplane at the time of the accident based on the installed software would not display a text alert message on the MFD when engine parameters go into the yellow (caution) or red (maximum) range(s); however, the digits on the “ENGINE” or “MAP” pages instrument displays for the parameters would turn yellow or red as appropriate when the recorded values are in the yellow (caution) or red line (minimum or maximum) range(s). Additionally, engine data is only displayed when the “MAP” or “ENGINE” pages are selected, and the single value for EGT and CHT displayed on the “MAP” page depicts the maximum value from any of the six cylinders. No determination can be made as to what page is selected at the time of an accident or incident.Flight parameters display on the PFD installed on the pilot’s instrument panel. The POH/AFM indicates that the PFD provides the functions of the attitude indicator, heading indicator, airspeed indicator, altimeter, vertical speed indicator (VSI), directional gyro, course deviation indicator, and altitude pre-select controller in a single display. In addition, the PFD communicates with the GPS1, GPS2, NAV1, NAV2, multi-function display, and autopilot system. The POH/AFM also indicates that CHT and EGT indications are not required by certification standards, and there is no limitation for EGT or CHT. Rather, the engine limitations are specified to be maximum rpm (2,700), maximum oil temperature (240 degrees Fahrenheit), minimum oil pressure (10 psi), and maximum oil pressure (100 psi).The airplane was also equipped with a light emitting diode (LED) illuminated annunciator panel located to the left of the PFD, which consist of lights and 6 separate annunciators. One of the six annunciators is a red colored “OIL” warning light which illuminates to indicate either high oil temperature or low oil pressure. The light is illuminated by a switch in the oil temperature gauge/data acquisition unit (DAU) if the oil temperature reaches 240 degrees Fahrenheit or if the oil pressure drops to 10 PSI or less. If the oil light illuminates in-flight, the systems description section of the POH/AFM indicates to refer to the oil temperature and pressure gauges to determine the cause.The POH/AFM was located in the pilot’s hangar during a postaccident inspection of it; however, a spiral bound excerpts of the POH/AFM was found in the wreckage.Review of the engine logbook revealed the engine installed at the time of manufacture by serial number was the same engine installed at the time of the accident; there was no record that it had been removed. The engine was manufactured on February 26, 2003, and the first entry dated March 13, 2003, indicated the engine was serviced with 8 quarts of Phillips 20W 50 straight mineral oil. An entry in the engine logbook dated May 27, 2011, at airplane hour meter 1234.9, engine total time 1234.9, indicates an “annual inspection” was performed. The same entry indicates that new cylinder assemblies kit P/N 655465-A4, #1 S/N AC10LA424, #2 S/N AC10JB625, #3 S/N AC10JB633, #4 S/N AC10JB623, #5 S/N AC10LA395, #6 S/N AC11AB077” were installed. The entry also indicates that new piston pin and plug assemblies P/N 630046 were installed in accordance with (IAW) TCM overhaul maintenance manual and TCM maintenance manual. The engine was serviced with 9 quarts AeroShell 100 mineral oil. New induction boots were installed on the Nos. 3 and 4 cylinders. The work was performed by Santa Fe Aero Services, and signed off by an A&P/IA.Review of paperwork provided by Santa Fe Aero Services dated May 26, 2011, associated with the annual inspection and work performed revealed discrepancy 1.18 indicating, “Cylinder Piston Pins Sheared.” The resolution or corrective action indicates, “Installed New Piston Pins P/N 630046 On all Cylinders as Required.” Additional paperwork from Santa Fe Aero Services indicates discrepancy 1.1 in which the, “…Avidyne EX5000 MFD Shut Down.” The resolution indicates that the MFD was removed and sent to the manufacturer for warranty replacement. The MFD they received from the manufacturer was defective out of the box and was returned to the manufacturer. The 2nd MFD received was installed into the airplane and was operational.Correspondence from Sante Fe Aero Services to the pilot in response to a reported e-mail from him indicates that their inspection of the engine while at their facility discovered, “…three cracked cylinder heads, a very serious matter….” Following removal of the cylinders they found, “…three severed piston rods, which is typically the type of internal damage caused by extended incorrect operation.” The correspondence also indicated that after the defective MFD was removed from the airplane it was sent to the manufacturer; however, no data could be retrieved from the unit. Also, the correspondence reiterates a comment from the pilot in which he reportedly indicates that the defective MFD had just been installed 2 weeks earlier, and, “had never worked since installation.” Postaccident review of the airframe logbook revealed the previous entry specifying the MFD was dated February 2, 2011, which indicates that software release 7 was installed into MFD per Avidyne Service Bulletin (SB) 10, and the functional check was satisfactory.Postaccident follow-up with Sante Fe Aero Services confirmed that the 3 cracked cylinders each had cracked piston pin plugs and not three severed piston pins as reported in the paperwork.Calculations revealed that based on the hour meter reading at the time of the accident (1281.6), the engine had accumulated 46.7 hours since the new cylinder assemblies were installed.METEOROLOGICAL INFORMATIONA surface aviation observation taken at Lakeland Linder Regional Airport at 1150, or approximately 15 minutes before the MFD recorded the oil pressure to be below the lower end of the normal operating range, indicates the wind was from 140 degrees at 5 knots, the visibility was 15 statute miles, broken clouds existed at 2,700 feet, and 25,000 feet. The temperature and dew point were 32 and 23 degrees Celsius, respectively, and the altimeter setting was 30.19 inches of Mercury.A surface aviation observation taken at Melbourne International Airport (MLB), Melbourne, Florida, at 1214, or approximately 18 minutes before the accident indicates the wind was from 090 degrees at 9 knots, the visibility was 10 statute miles with thunderstorms in the vicinity. Scattered clouds existed at 1,700 feet, the temperature and dew point were 32 and 24 degrees Celsius respectively, and the altimeter setting was 30.16 InHg. The crash site was located about 10 nautical miles and 200 degrees from MLB.A center weather advisory from Jacksonville Air Route Traffic Control Center valid for the day of the accident until 1320 hours local, indicated that from Ormond Beach Municipal Airport (OMN) to Vero Beach Municipal Airport (VRB), a line 25 nautical miles wide of widely scattered thunderstorms with heavy precipitation moving little. The maximum tops were at 38,000 feet, and expect gradual increase in coverage and intensity in eastern Florida thru the period.COMMUNICATIONSThe pilot was last in contact with the Central Florida Terminal Radar Approach Control facility. There were no reported communication difficulties.FLIGHT RECORDERSThe airplane was not equipped nor was it required to be equipped with a cockpit voice recorder (CVR) or flight data recorder (FDR). The airplane however was equipped with components that record and retain non-volatile memory (NVM) associated with flight. The components that retained NVM consisted of the PFD, MFD, and also the autopilot digital flight control (DFC). All components were manufactured by Avidyne.Personnel from the NTSB Vehicle Recorders Division successfully downloaded the NVM for each of the retained components, and prepared a Specialist’s Factual Report. According to the report, all retained components recorded data from the accident flight. Parameters available from multiple sources (PFD, MFD, or DFC 90) were plotted from one source only. The report contains in part a Google Earth Plot overlaying the entire accident flight path, and also tabular data downloaded from the components. The tabular data indicates that the engine rpm remained set to about 2,400 from about 1150, to about 1231:32, although between these times slight variation of engine rpm was noted. The autopilot was engaged about 1147, and remained engaged until about 1 minute before the accident, or 1232. The tabular data also indicates that from 1231:32, to the last recorded data at 1232:44, the rpm steadily decreased from 2,400 to 1,700.Plotting of the data downloaded from the components onto the Google Earth Plot indicates that about 1202, or approximately 17 minutes after takeoff, the oil pressure began to decrease from 45 psi. The airplane at that time was located about 10 nautical miles and 265 degrees from the approach end of runway 09 at Lakeland Linder Regional Airport (LAL), Lakeland, Florida. Data downloaded from the MFD indicates that about 1206, the oil pressure dropped and remained below 30 psi for the remainder of the flight. The airplane at that time was located about over the center of LAL. At no point during the flight did the oil temperature increase above red line (240 degrees Fahrenheit); the highest recorded oil temperature was 227 degrees. The oil pressure decreased below 10 psi at 1222:06, and remained below that value for the remainder of the recorded data.Further review of the factual report from the Vehicle Recorders Division revealed that with respect to the EGT recordings for all cylinders, the values for the No. 4 cylinder were consistently greater than the other five cylinders for nearly the entire flight until about 1231:14. At that time the EGT temperature for the No. 4 cylinder was the lowest of all cylinders and remained the lowest recording temperature of the other cylinders for the remainder of the flight. At 1231:44, the EGT reading for the No. 4 cylinder was recorded to be 0, and remained that value for the duration of the recorded data, which occurred at 1233:03.Non-volatile memory downloaded from the primary flight display, multi-function display, and autopilot controller revealed that about the end of recorded data, the airspeed was about 74 knots and the bank angle was about 55 degrees.WRECKAGE AND IMPACT INFORMATIONExamination of the accident site revealed the area was in a large open unoccupied area with paved roads oriented on north/south and east/west headings. The main wreckage was located at 27 degrees 56.227 minutes North latitude and 080 degrees 42.156 minutes West longitude.Further examination of the accident site revealed a ground scar on a road with nearby green colored glass lens oriented on a magnetic heading of 314 degrees. Airplane debris along an energy path of 314 degrees was documented for location, which consisted in part of the separated propeller which was located adjacent to a crater in the grass/ground about 42 feet from the road ground scar location, and the engine assembly which was located in an inverted position approximately 108 feet from the road ground scar and 24 feet north of the energy path centerline. Additional debris along the energy path consisted of a fractured connecting rod with piston pin which was found adjacent to the crater in the grass/ground, and the oil gauge rod and cap assembly which was found in the grass adjacent to the lower engine cowling, or forward of the crater created by the propeller impact. The airplane came to rest 115 feet from the road ground scar as measured to the firewall.Examination of the airplane wreckage which came to rest on a magnetic heading of 100 degrees as determined by the wing and firewall resting position revealed the cockpit and firewall were upright and were displaced to the right while the empennage was resting on its left side. Oil residue (fresh) was noted on the left side of the fuselage/empennage from the firewall to the tailcone. All components necessary to sustain flight remained attached or in close proximity to the main wreckage. The aft fuselage structure mostly separated just aft of the front crew seats and came to rest oriented 90 degrees to the left remaining attached only by control cables and wiring. The empennage mostly separated from the fuselage just forward of the horizontal stabilizer (FS 289 bulkhead) but remained attached by control cables and wiring. Flight control cable continuity was confirmed for all primary flight controls. The flaps were fully extended, and the pitch trim was full airplane nose up.Inspection of the Cirrus Airframe Parachute System (CAPS) revealed the safety pin was out (normal for flight), and the activation handle was stowed; the CAPS system was not deployed. The activation handle holder bracket was bent downwards approximately 15-20 degrees; activation cable continuity was confirmed. Postaccident, the rocket motor solid propellant grains were burned and no anomalies were noted. The igniter assembly & base were fired as an assembly and no anomalies were noted. Testing of the reefing line cutters was performed. Timing using an analog watch revealed one fired in approximately 7 seconds, and the second fired in approximately 8 seconds (specification is 8 seconds).Examination of the cockpit revealed both seats remained attached to their respective seat tracks. The airplane was not equipped with inflatable restraints. Postaccident operational testing of the pilot and co-pilots seat restraints revealed no discrepancies noted. The data storage card from the MFD, the PFD, and the autopilot DFC were retained for readout. Further examination of the cockpit revealed a spiral bound version of the POH/AFM was located. The combination analog oil temperature and oil pressure gauge was separated from the instrument panel but remained electrically connected. Inspection of the instrument revealed the oil pressure needle was missing, and the oil temperature reading was off scale low. The annunciator panel located to the left of the PFD was located; however, the illumination is from LED’s; therefore, no determination could be made whether the “OIL” annunciation was illuminated at the time of the accident. A digital camera located in the wreckage was retained for further examination.The engine was rolled upright by hand and cursory examination revealed the crankshaft was fractured near the crankcase; the forward portion of the crankshaft flange remained attached to the propeller hub. Initial inspection of the engine revealed holes in the top portion of the crankcase halves above the Nos. 4, 5, and 6 cylinder positions, and the connecting rods for cylinder Nos. 4, 5, and 6 were detached from the crankshaft. The oil gauge rod and cap assembly cap was not attached to the oil filler tube. The induction tube for the No. 4 cylinder which is immediately adjacent to the oil filler breather tube exhibited an impact mark on the aft portion of the tube. The upper surface of the oil filler breather tube was positioned below the upper portion of the induction tubes for the Nos. 4 and 6 cylinders. Inspection of the No. 4 cylinder air induction tube adjacent to the oil filler breather assembly opening revealed no evidence of substantial contact mark. Visual inspection of the oil filler breather assembly revealed oil and debris adhering to the circumference of the sealing surface, and scratches 180 degrees apart on each of the lock tabs. The scratches on each lock tab were located 90 degrees from the cap insertion location. Inspection of the oil gauge rod and cap assembly revealed dark discoloration on the upper portion of the dipstick. The discoloration was consistent with the distance to the smaller diameter hole inside the oil filler breather tube. Also, debris was noted adhering to the horizontal and vertical surfaces with the top part of the oil gauge rod and cap assembly as viewed with it installed in the normal position. An air/oil separator was installed, and a scat hose that vents the air from the air/oil separator overboard is mounted on the left lower engine mount and exits the lower cowl in the same location as the left exhaust pipe; the scat hose interior was oil soaked along its length. The air/oil filter housing was impact damaged. Oil was present on the interior surfaces of the upper and lower engine cowlings, and also present over the top of the cylinders and covered the forward side of the vertical baffling behind the Nos. 1 and 2 cylinders. Oil spray was also present on the engine weldments and nose landing gear assembly. The oil filter was in-place. Inspection of the engine cowlings revealed evidence of fire damage. The engine was retained for further examination at the manufacturer’s facility.Examination of the engine at the manufacturer’s facility with Safety Board oversight revealed approximately 1.25 quarts of oil remained in the oil sump. The crankshaft was fractured aft of the crankshaft flange. The connecting rods for cylinder Nos. 3, 4, 5, and 6 were fractured and separated from the crankshaft, while the connecting rods for cylinder Nos. 1 and 2 remained connected to the crankshaft. The camshaft was not fractured, and the crankshaft to camshaft timing was verified. The oil sump contained ferrous debris, and the oil pump housing contained scratches consistent with hard particle passage. The oil pressure relief valve and seat contained no obstructions and exhibited signatures of proper seating. Inspection of the oil filter revealed flakes and slivers consistent from the damaged internal components. The air/oil separator was disassembled which revealed no evidence of preimpact failure or malfunction. Inspection of the spark plugs revealed none exhibited damage consistent with detonation. No damage was noted to the left magneto ignition harness, while the right magneto ignition harness was fire and impact damaged. Both magnetos were placed on a test bench and noted to produce a spark across a 7mm gap through the full range of test bench rpm. Bench testing of the throttle and fuel control metering assembly, engine-driven fuel pump, fuel manifold valve, fuel injector lines, and fuel injector nozzles was performed. Calibrated testing of all fuel system components revealed no evidence of preimpact failure or malfunction. Prior to removal of all cylinder assemblies, tightening and loosening torque check of each deck stud and cylinder through-bolt was performed. The results were recorded and contained in the manufacturers report. Following removal of the cylinder assemblies, the No. 4 cylinder piston, part number (P/N) 654857, was noted to be fractured.Inspection of the crankcase nose seal revealed impact damage. The crankcase halves were then split and inspection of the main bearing support mating surfaces revealed no signs of fretting or bearing tang lock-slot elongation. The main bearing support diameters were intact and exhibited no signs of bearing movement or elongation. The oil galleys and passages in both crankcase halves were clear and unrestricted. The crankshaft main bearings exhibited normal operating signatures. There were slight signs of lubrication distress, and the bearings exhibited contamination imbedded in the surface layer. Some of the bearings had worn through the Babbitt layer into the copper layer. The pieces of No. 4 cylinder piston, oil filler breather assembly, and oil gauge rod and cap assembly were retained for further examination. A copy of the report from the engine manufacturer is contained in the NTSB Public Docket for this case.Examination of the propeller revealed one blade exhibited slight smooth radius aft bend and exhibited chordwise scratches on the cambered side of the blade. The second blade was bent aft just outboard of the de-ice boot and exhibited chordwise scratches on the cambered side of the blade, and the third blade did not have any apparent damage. Rotational scarring was noted on the propeller hub forward of the crankshaft flange associated with contact by the TKS tube.MEDICAL AND PATHOLOGICAL INFORMATIONAll three occupants were transported to the Holmes Regional Medical Center, located in Melbourne, Florida. The pilot and right front seat passenger died while hospitalized the following day. The right rear seat occupant was treated and released.Postmortem examinations were performed on the pilot and right front seat passenger by the District Eighteen Medical Examiner’s Office, Rockledge, Florida. The cause of death for both was listed as multiple blunt force injuries.The M.E.’s office obtained admittance blood specimens of the pilot and right front seat passenger from the Holmes Regional Medical Center. Forensic toxicology was performed on the admittance specimens of the pilot and passenger by the FAA Bioaeronautical Sciences Research Laboratory, Oklahoma City, Oklahoma, and also by Wuesthoff Reference Laboratory. The FAA toxicology report for testing of the pilot admittance specimens stated the results were negative for carbon monoxide, cyanide, and volatiles. Unquantified amounts of Etomidate and Lidocaine were detected in the liver and blood specimens, while an unquantified amount of morphine was detected in the blood specimen. Morphine was detected in the kidney (0.161 ug/ml), and also in the liver (0.043 ug/ml). The Wuesthoff toxicology report for testing of the pilot admittance specimens stated the results were negative for the immunoassay screen and volatiles.The FAA toxicology report for testing of the passenger admittance specimens stated the results were negative for carbon monoxide, and cyanide. Testing for volatiles and drug screen were not performed. The Wuesthoff toxicology report for testing of the passenger admittance specimens stated the results were negative for the blood drug screen, immunoassay screen, and volatiles.FIREThe top forward portion of the engine, and forward portion of the engine cowling exhibited heat damage consistent with a short duration in-flight fire. Additionally, electrical wiring of the alternator mounted on the front portion of the engine exhibited heat damage.TEST AND RESEARCHAccording to a pilot who flew the accident airplane on June 21, 2011, he departed MLB about 1600 hours with a passenger on-board for a planned flight to New Smyrna Beach Municipal Airport, New Smyrna Beach, Florida. Before departure the engine oil was checked and found to register between 6.0 and 6.5 quarts on the dipstick. After takeoff while in a climb at 110 knots indicated airspeed, the mixture leaned to 16 gallons-per-hour per the MFD, flaps retracted, and at 3,000 feet over Lake Washington climbing to 4,500 feet, he noticed the oil temperature rise to 220 degrees. Although he reported the oil temperature red line as being 230 degrees Fahrenheit, it is in fact 240 degrees Fahrenheit. He noticed the oil annunciator light flicker, and both the MFD and analog oil temperature indications were the same. He lowered the nose and accelerated to 170 knots and turned to return to MLB. When he lowered the nose and began accelerating, the oil temperature decreased and before he landed at MLB it was in the normal range. He landed uneventfully, and reported the whole flight lasted approximately 10 minutes. He did not recall the hour meter reading at the start or completion of the flight, and reported the oil temperature was the only issue during that flight; the oil pressure was within limits. After landing, the airplane was pushed into the hangar, where the oil level was checked and found to be the same as it was noted during the preflight inspection. After landing the pilot and passenger immediately called the airplane owner and advised him of the oil temperature issue. The owner advised that he had noticed that before, and in their (pilot and passenger) opinions, the owner did not seem surprised by the issue.According to data retained in the MFD pertaining to the flight on June 21, 2011, the oil temperature steadily increased to a maximum value of 234 degrees, or 6 degrees below maximum red line, but the oil temperature decreased and remained within normal parameters for the remainder of the flight. The oil pressure for the entire flight was noted to be in the normal green arc range of between 30 and 60 psi. Additionally, the No. 4 cylinder EGT was recorded to be 1,503 at one point during the flight, while the lowest reading for the remaining five cylinders at that time was 1,403, which was attributed to be from the No. 1 cylinder. Further, the EGT reading for the No. 4 cylinder was consistently greater than any of the other five cylinders during the entire flight.Review of the engine maintenance records revealed no entry indicating any kind of trouble shooting or maintenance to determine the reason for the high oil temperature. Further, the maintenance records did not reflect installation of the air/oil separator, and a representative of the airplane manufacturer reported the air/oil separator was not installed when the airplane was manufactured.Data downloaded from the MFD pertaining to the flight earlier that day from MLB to SPG which lasted about 56 minutes, revealed a maximum oil temperature of about 228 degrees which was correlated with engine rpm of approximately 2,440 and oil pressure reading of about 44 psi. The oil temperature decreased below that value and remained in the normal operating range for the flight, while the oil pressure was in the normal green arc range (30 to 60 psi) for the entire flight. Further, the EGT reading for the No. 4 cylinder was consistently greater than any of the other five cylinders during the entire flight. Readings from the No. 4 cylinder EGT were above 1,500 degrees at three separate points along the flight. For example, at 0945:54, the EGT readings for the Nos. 1 thru 6 cylinders were recorded to be 1,410, 1,425, 1,448, 1,502, 1,432, and 1,439 degrees Fahrenheit, respectively.Inspection of the pilot’s hangar several days after the accident revealed a plastic bucket containing a dark colored liquid was noted on a stand. The liquid was presented by friends of the pilot to be oil from the last oil change. Additionally, an oil filter was also presented by friends of the pilot to be from the last oil change. Further inspection of the pilot’s hangar revealed an unopened case of AeroShell SAE 50 100W oil, several unopened bottles of AeroShell SAE 50 Oil 100W, and several pint sized bottles of oil additive.A friend of the pilot who helped the airplane owner change the engine oil last reported that during that process, a hole was punctured in the top of the oil filter and a rubber tipped air nozzle was pressed into the hole and shop air pressure was applied into the oil filter. The friend reported air was blown into the filter in an attempt to push the oil into the engine to prevent leakage onto the engine during removal of the oil filter.Visual inspection of the oil filter presented to NTSB as being from the last oil change revealed it was not cut open. The top of the oil filter contained a hole that was consistent with being made by a number 2 or 3 phillips screwdriver. The oil filter was marked as being “AA48109”,“TEMPEST”, and “The Original Aviation Spin-On Oil Filter.”Review of the engine logbook revealed an entry dated July 6, 2011, indicating the oil and oil filter were changed by the owner. The entry does not indicate that the oil filter was cut open and checked for ferrous materials. The oil change entry further indicates that the hour meter reading was 1265, and 7 quarts Aeroshell 100 and 1 quart Cam Guard were added.The oil filter presented to NTSB to be from the last oil change was cut open during the postaccident examination of the engine and the filter element did not contain ferrous particles.The normal procedures section of the POH/AFM lists steps to be checked during preflight inspection of the airplane. The steps include in part a check of the engine oil quantity, to look for leaks, and to verify that the oil gauge rod and cap assembly and oil access door are secured. The emergency procedures section of the POH/AFM lists steps to follow in the event of low oil pressure. A warning indicates that prolonged use of high power settings after loss of oil pressure will lead to engine mechanical damage and total engine failure, which could be catastrophic. A note indicates that if low oil pressure is accompanied by normal oil temperature, it is possible that the oil pressure sensor, gauge, or relief valve is malfunctioning. In any case, land as soon as practical and determine cause.The steps for low oil pressure in the POH/AFM are:1. Power Lever ................................................MINIMUM REQUIRED2. Land as soon as possible.Inspection of an oil filler breather tube and oil gauge rod and cap assembly from an engine returned to the engine manufacturer for core credit revealed scratches on each lock tab of the oil filler breather tube similar in location and length to the scratches of each lock tab of the oil filler breather tube from the accident engine.Examination of the No. 4 cylinder piston, oil filler breather tube, and oil gauge rod and cap assembly was performed by the NTSB Materials Laboratory located in Washington, D.C. The NTSB Materials Laboratory Factual Report indicates that the results of the examination of the piston revealed it was comprised primarily of the crown and piston ring belt and one region between the oil control and scraper ring grooves. The topside of the crown exhibited tan/yellow colored deposits over much of the surface. No pitting or pockmarking of the piston crown was noted. The upper and lower surface of the piston exhibited dark brown coloration consistent with exposure to elevated temperatures, and the area beneath the piston pin boss exhibited mechanical damage. The majority of the fracture surfaces of the piston had a rough appearance with widely spaced crack propagation marks, consistent with progressive crack growth under cyclic stresses. One vertical fracture in the skirt exhibited a comparatively flat and smooth appearance. Cyclic crack growth marks and radiating lines were observed at different locations along the skirt. Mechanical exposure of the fractured faces of the vertical cracks revealed cyclic crack growth marks and radiating lines consistent with the crack originating near the oil scraper ring groove on the inside surface of the skirt wall. Examination of the two vertical cracks using a scanning electron microscope (SEM) revealed features occasional regions that exhibited features consistent with quasi-cleavage fracture consistent with progressive crack growth under cyclic stresses.The NTSB Materials Laboratory Factual Report indicates that the oil filler breather tube, and oil gauge rod and cap assembly were examined which revealed light scratches on each of the lock tabs of the oil filler breather tube. The cap portion of the oil gauge rod and cap assembly was examined for impact marks or indications of mechanical deformation but none were found. The examination of the oil gauge rod and cap assembly revealed an approximately 8 degree bend near the top of the oil gauge rod and cap assembly. When the oil gauge rod and cap assembly was inserted into the oil filler breather tube, but not secured, the bend near the top of the stick caused the oil gauge rod and cap assembly to rest at an angle on the top of the tube, leaving an opening on one side of the tube. In that condition, when the oil filler breather tube and oil gauge rod and cap assembly was turned upside-down, the oil gauge rod and cap assembly fell out of the oil filler breather tube under its own weight. The oil gauge cap and rod assembly was then inserted into the tube and the cap was quarter-turned back and forth by hand; it could be secured and unsecured without difficulty. When the oil gauge cap and rod assembly was secured to the oil filler tube, the oil gauge rod and cap assembly laid flat against the top of the oil filler breather tube and a rubber gasket on the oil gauge rod and cap assembly formed a seal against the top of the oil filler breather tube. The NTSB Materials Laboratory Factual Report is contained in the NTSB public docket for this case.According to the NTSB Vehicle Recorder Division Image Device Factual Report, the digital camera located with the wreckage (Canon PC1249 Powershot Camera) is an 8 Megapixel “point and shoot” type digital camera. Upon arrival at the audio laboratory the camera appeared to have minor damage. The picture files were downloaded from the Kingston 4 gigabyte Secure Digital (SD) formatted memory card normally and without difficulty. There were 127 still photographs and 9 movies files stored on the memory card. Of these, two photographs were taken on the day of the accident, and the date stamp was correct, though the time stamp was incorrect. Both of the pictures were of a sign inside a restaurant at the Albert Whitted Airport in St. Petersburg Florida Further review of the pictures taken during a flight in the accident airplane on July 22, 2011, depict the instrument panel or portions of it. One picture which clearly shows the analog oil pressure and temperature gauge depict both needles in the green arc range.As previously reported, the flaps were found fully extended during the postaccident investigation and about the end of recorded data, the airspeed was about 74 knots and the bank angle was about 55 degrees. A stall speed chart located in the POH/AFM indicates that at maximum gross weight, most forward center of gravity, flaps fully extended, and bank angle of 45 degrees, the stall speed in terms of knots indicated airspeed (KIAS) is 73, while the stall speed at 60 degrees of bank is 87 KIAS. Interpolation revealed that about 52 degrees of bank, the stall speed is 80 KIAS.Research of NTSB investigated airplane accidents and incidents from 2007 through 2013, in which oil was listed as a cause, factor, or finding revealed 1 investigation (NTSB Case # WPR09LA197) of a Beech A36 airplane equipped with a Continental Motors, Inc., IO-550 series engine. The NTSB Brief of Accident for this investigation indicates that during cruise portion of a 14 CFR Part 91 flight, the propeller/engine rpm increased despite attempts by the pilot to reduce it. Subsequently the pilot heard a loud bang and loss of engine power with white smoke coming onto the windscreen, which resulted in a forced landing and subsequent substantial damage. Postaccident inspection of the engine by the FAA revealed the oil gauge rod and cap assembly was not secured to the oil filler breather tube; neither exhibited any damage. Oil residue was along the left side of the airframe and engine cowling. Also, 2 nuts used to secure the propeller governor to the propeller governor mounting pad on the engine crankcase were loose; residual oil was noted in the surrounding area of the propeller governor. Disassembly inspection of the engine revealed separation of the Nos. 2, 3, and 4 cylinder connecting rods from the crankshaft, and about 1 quart of oil remained in the oil sump. Ferrous debris was noted inside the oil sump and also adhering to the oil filter element.Continental Motors, Inc., (formerly Teledyne Continental) prepared Service Bulletin (SB) M89-9, titled, “Excessive Crankcase Pressures.” It states in part that excessive crankcase pressure in flight can be induced by ram air entering through an improper fitting oil cap seal and or defective crankshaft nose seal. The SB lists procedures of the ground that can be performed to determine the crankcase pressure using an airspeed indicator plumbed into specified components of the engine. The SB also indicates that the maximum crankcase pressure is 4.0 psi. Although the SB does not mention it, additional ways to pressurize the crankcase is to have blow-by past the piston rings and/or piston of a cylinder due to ring gap alignment, or erosion of a piston.\n"
     ]
    },
    {
     "name": "stdout",
     "output_type": "stream",
     "text": [
      "------------------------------------------The result 3-----------------------------------------\n",
      "[quote user=\"Brian Rose\"]Did you do any short(er) 3500ft ish runways?  Their test/demo pilot refused to even attempt for us :([/quote]No, Santa Barbara, 6000 feet long.\n",
      "------------------------------------------The result 4-----------------------------------------\n",
      "Scott, where do I begin? I can only sit here so long on the sidelines are listen to you whine defensively and spout the same old BS you always prattle on about. You personify the reason I never considered a (then) Lancair aircraft when I was in the market. Arrogance is not a good quality in sales or management, as you and your mark have so aptly demonstrated to the GA community. You say the 400 is a superior aircraft to the G3 Turbo but I just don't see it. On what basis?  Please don't trot out the tired old refrain about Utility category. Please. Are you inferring that an aircraft certified under the new Part 23 in the Normal category is unsafe? Do you have any evidence showing this? Any accident or incident showing any deficiency here? I don't exactly quake in my boots getting on a commercial jet, although they, heavens, are also all Normal category aircraft. The Utility category certification is nothing more than a \"dick thing\" in terms of any practical benefit. And you pay for it in extra weight. Is the extra weight of the 400 justified? Yes, the 400 is overweight compared to the G3 turbo, weighing more even though the G3 has the parachute that you so despise. What exactly do I get for that extra weight and the Utility category? Chandelles and lazy eights? That's worth all the extra pounds? I think not. You guys have been dishing out mud on the spin / certification issue since day one, so let's talk about that. The Col 350 was certified under the same conditions as the Cirrus: Equivalent Level of Safety, where spin recovery demonstration was not required for certification. (The Col 350's elevator travel was hindered greatly to meet this.)  But not so for the Col 400. It couldn't meet that ELS standard, so it had to be spun for certification. And we know that it wasn't easy even to get that right, having lost an airplane in the process (thank goodness not the pilot), and you finally had to stick vortex generators and enlarge the tail feathers to get it certified. Then you guys had the arrogance to tout the 400's spin certification as a feature instead of what it really meant: Poorer stall characteristics than the SR22 and even the Col 350.  Care to show us the Col 400's spin testing reports?I do think it was honest of Columbia to name the 400 for the CHT temperatures that it readily exceeds in normal cruise at altitude. So for once they advertised a number that related to normal operation of the airplane. Do I need to post links to all the LOPA posts complaining about the utter impracticality of high speed cruise at altitude due to CHT's way north of 400? And then there was the thread on LOPA where you stated flatly that the Cirrus SR22 Turbo had not undergone any high-altitude certification testing. George Braly, having actually been in the aircraft during the certification, rightly ripped you a new one, and you still persisted in your false statements about this.So how some the Col 400 had to revert to spin certification, have its tail feathers enlarged, and be festooned with VG's to get certified while the SR22 had no airframe modifications necessary to get certified at FL250? Maybe Cirrus got it right the first time, eh?And they got it extremely right in the G3. That airplane has the most incredible low speed handling and spin resistance of anything I have ever flown in 33 years. Unlike hollow claims based on Utility category, the G3's handling means something - real safety benefits. That, Scott, is called innovation.  Far removed from the Col 400's inability to meet the Equivalent Level of Safety guidelines. But the most telling thing to me was the LOPA reaction to the accident at Kern Valley airport (Lake Isabella) a few months back (the one where they had six souls on board).  The accident occurred not long after a LOPA thread with posts stating in all seriousness that Columbia pilots were far superior to Cirrus pilots, and that really only \"serious\" pilots flew Columbias, and that Columbia pilots were not prone to \"stupid pilot tricks.\" The first reactions to the post of the accident were that it probably wasn't a Columbia. Then, when it was confirmed that it was a Col 400 and the accident was egregious pilot error, silence. Nothing. The thread ended right there. No soul searching. No discussion of the lessons to be learned. Not even sympathy for the family! Once it didn't meet the macho Columbia pilot superiority fantasy you guys had in your heads it was banished from further discussion like it couldn't have happened!That was so telling. Safety clearly took a back seat to arrogance. Superior pilots? Hardly. Arrogance is a very poor quality in a pilot, IMHO.Arrogance, and misplaced arrogance at that. Arrogantly advertising speeds in MPH instead of knots. Boy, that fooled a lot of people, Scott. And arrogantly claiming that the 400 was the \"undisputed\" speed king. Well, Aviation Consumer rightly called you guys on that lie as well. Not only did the Mooney beat you, but to even stay close you had to run ROP at unsustainable CHT's. And quite frankly your arrogance in trashing Cirrus on our own Forums is pitiful. Have you EVER seen any COPA members post the kind of stuff on LOPA that you do here?  So why not just ride off into the sunset with your 400+ CHT's and spin the 400 all you like and claim it's superior.  It just ain't so, buddy. It just ain't so.   \n",
      "------------------------------------------The result 5-----------------------------------------\n",
      "[quote user=\"Gabriele Cioffi\"]You are correct that  power source switching is not automatic, plugging in disables Battery power. However, I believe you are more likely to lose battery power than ship power and I do carry spare batteries in this unlikely event. [/quote]True, which is why I proactively replace batteries used for essential equipment on a schedule rather than waiting for them to get low.  I stand by my recommendation to use batteries instead of ship's power, because although it may be a rare emergency to lose ship's power, it may very well be a time when you really do not want to have your O2 cut off. E.g., smoke in the cockpit that has you turning off the electrics.  And in that scenario it is highly unlikely you will remember to fish out the O2D2 and unplug it, much less fumble with installing a battery into it. \n",
      "This is from someone who did use ship's power. \n",
      "time: 424 ms\n"
     ]
    }
   ],
   "source": [
    "# First weight combination1\n",
    "df_withALLScore['TotalScore1'] = df_withALLScore['RecencyRate']*(1/10) + df_withALLScore['AuthorScore']*(4/10)  + df_withALLScore['ContentScore']*(5/10)\n",
    "combination1 = df_withALLScore.sort_values(\"TotalScore1\", inplace = False,ascending=False).head(5)\n",
    "for index in range(5):\n",
    "    print(\"------------------------------------------The result %d-----------------------------------------\"%(index+1))\n",
    "    print(list(combination1.FormattedBody)[index])"
   ]
  },
  {
   "cell_type": "code",
   "execution_count": 39,
   "metadata": {
    "scrolled": true
   },
   "outputs": [
    {
     "name": "stdout",
     "output_type": "stream",
     "text": [
      "------------------------------------------The result 1-----------------------------------------\n",
      "[quote user=\"Brian Rose\"]Did you do any short(er) 3500ft ish runways?  Their test/demo pilot refused to even attempt for us :([/quote]No, Santa Barbara, 6000 feet long.\n",
      "------------------------------------------The result 2-----------------------------------------\n",
      "We all know Dennis using that to help his \"stick and rudder\"!\n",
      "------------------------------------------The result 3-----------------------------------------\n",
      "[quote user=\"Jim Grace\"]I took a few photos of my setup and I'll walk through each one.[/quote]This is a great post and will be a go-to referral for future questions on how to do this. Thanks for making it!\n",
      "[quote user=\"Jim Grace\"]At the supply port, I purchased a 90 degree metal CPC connector from Mountain High. [/quote]The only comment I have here is that I would not get the metal one but rather the plastic one. It probably doesn't make much practical difference, it's just that I didn't like a square metal thing sticking into the cabin in the unlikely case of an accident where a stray head bouncing around the cabin could come in contact with it. \n",
      "------------------------------------------The result 4-----------------------------------------\n",
      "[quote user=\"Gabriele Cioffi\"]You are correct that  power source switching is not automatic, plugging in disables Battery power. However, I believe you are more likely to lose battery power than ship power and I do carry spare batteries in this unlikely event. [/quote]True, which is why I proactively replace batteries used for essential equipment on a schedule rather than waiting for them to get low.  I stand by my recommendation to use batteries instead of ship's power, because although it may be a rare emergency to lose ship's power, it may very well be a time when you really do not want to have your O2 cut off. E.g., smoke in the cockpit that has you turning off the electrics.  And in that scenario it is highly unlikely you will remember to fish out the O2D2 and unplug it, much less fumble with installing a battery into it. \n",
      "This is from someone who did use ship's power. \n",
      "------------------------------------------The result 5-----------------------------------------\n",
      "[quote user=\"Craig Albright\"]William, if the controller actually said \"at or above 3000\" as your text indicates (my emphasis above), then you were OK flying at either 3100' (as published) as 3000' (as directed). [/quote]A caveat, though, that once you have descended as per a clearance, you can't climb back up without specific clearance to do so.  So let's say you had previously been cleared to 3000 and have descended to 3000. Even though the controller may have said \"maintain 3000 or above until established,\" you could not arbitrarily climb up to, say, 3500 (or even 3100) to capture the glide slope. Once you have vacated an altitude, you cannot return to that altitude without specific clearance to do so.\n",
      "time: 339 ms\n"
     ]
    }
   ],
   "source": [
    "# First weight combination2\n",
    "df_withALLScore['TotalScore2'] = df_withALLScore['RecencyRate']*(3/10) + df_withALLScore['AuthorScore']*(3/10)  + df_withALLScore['ContentScore']*(4/10)\n",
    "combination2 =df_withALLScore.sort_values(\"TotalScore2\", inplace = False,ascending=False).head(5)\n",
    "for index in range(5):\n",
    "    print(\"------------------------------------------The result %d-----------------------------------------\"%(index+1))\n",
    "    print(list(combination2.FormattedBody)[index])"
   ]
  },
  {
   "cell_type": "code",
   "execution_count": 40,
   "metadata": {},
   "outputs": [
    {
     "name": "stdout",
     "output_type": "stream",
     "text": [
      "------------------------------------------The result 1-----------------------------------------\n",
      "[quote user=\"Jim Grace\"]I took a few photos of my setup and I'll walk through each one.[/quote]This is a great post and will be a go-to referral for future questions on how to do this. Thanks for making it!\n",
      "[quote user=\"Jim Grace\"]At the supply port, I purchased a 90 degree metal CPC connector from Mountain High. [/quote]The only comment I have here is that I would not get the metal one but rather the plastic one. It probably doesn't make much practical difference, it's just that I didn't like a square metal thing sticking into the cabin in the unlikely case of an accident where a stray head bouncing around the cabin could come in contact with it. \n",
      "------------------------------------------The result 2-----------------------------------------\n",
      "We all know Dennis using that to help his \"stick and rudder\"!\n",
      "------------------------------------------The result 3-----------------------------------------\n",
      "[quote user=\"Craig Albright\"]William, if the controller actually said \"at or above 3000\" as your text indicates (my emphasis above), then you were OK flying at either 3100' (as published) as 3000' (as directed). [/quote]A caveat, though, that once you have descended as per a clearance, you can't climb back up without specific clearance to do so.  So let's say you had previously been cleared to 3000 and have descended to 3000. Even though the controller may have said \"maintain 3000 or above until established,\" you could not arbitrarily climb up to, say, 3500 (or even 3100) to capture the glide slope. Once you have vacated an altitude, you cannot return to that altitude without specific clearance to do so.\n",
      "------------------------------------------The result 4-----------------------------------------\n",
      "[quote user=\"Craig Cole\"]In absence of any ground reference, how could a pilot have properly entered a hold except for relying solely upon instruments? Would that not qualify as a hold?[/quote]No, not if it wasn't done in actual instrument conditions or simulated instrument conditions (=under the hood with a safety pilot or CFI or in an approved ground simulator). Anything you are logging as \"instrument time\" or anything you are logging for the purposes of instrument currency must be in actual or simulated conditions. Just being on an instrument flight plan and/or using instruments while in VMC does not constitute \"instrument time.\"\n",
      "See 61.51 (g):\n",
      "\n",
      "and 61.57 (c)(1):\n",
      "\n",
      "------------------------------------------The result 5-----------------------------------------\n",
      "[quote user=\"Tony Sobczak\"]He doesn't want log \"instrument time\", just the hold (which I assume he did correctly).  Perhaps you can find another reference that would clarify this better? [/quote]I was in the middle of adding citations to the post when you posted this. Take a look at it again and the chapter and verse re logging flight time for the purposes of currency has been added. \n",
      "time: 390 ms\n"
     ]
    }
   ],
   "source": [
    "# First weight combination3\n",
    "df_withALLScore['TotalScore3'] = df_withALLScore['RecencyRate']*(1/3) + df_withALLScore['AuthorScore']*(1/3)  + df_withALLScore['ContentScore']*(1/3)\n",
    "combination3 =df_withALLScore.sort_values(\"TotalScore3\", inplace = False,ascending=False).head(5)\n",
    "for index in range(5):\n",
    "    print(\"------------------------------------------The result %d-----------------------------------------\"%(index+1))\n",
    "    print(list(combination3.FormattedBody)[index])"
   ]
  },
  {
   "cell_type": "code",
   "execution_count": null,
   "metadata": {},
   "outputs": [],
   "source": []
  },
  {
   "cell_type": "markdown",
   "metadata": {},
   "source": [
    "# Compare keyword vector with reference vector"
   ]
  },
  {
   "cell_type": "markdown",
   "metadata": {},
   "source": [
    "__Match replies with searching terms by topic only__"
   ]
  },
  {
   "cell_type": "code",
   "execution_count": 297,
   "metadata": {},
   "outputs": [
    {
     "name": "stdout",
     "output_type": "stream",
     "text": [
      "time: 1.98 ms\n"
     ]
    }
   ],
   "source": [
    "def topic_match(search_query):\n",
    "    '''\n",
    "    Extract the topic of searching query by LDA model trained by forum posts.\n",
    "    '''\n",
    "    texts1 = [[word for word in doc.lower().split() if word not in stop_words] for doc in [search_query]]\n",
    "    corpus1 = [id2word.doc2bow(t) for t in texts1]\n",
    "    result = lda_model.get_document_topics(corpus1)\n",
    "    LDA_topic = max(result[0], key=lambda x: x[1])[0]\n",
    "    return LDA_topic"
   ]
  },
  {
   "cell_type": "code",
   "execution_count": 298,
   "metadata": {},
   "outputs": [
    {
     "name": "stdout",
     "output_type": "stream",
     "text": [
      "time: 22 ms\n"
     ]
    }
   ],
   "source": [
    "reference_vector = topic_match('Cirrus Parachute First Responders')\n",
    "matched_index = [key for key, value in topic_dict.items() if value == reference_vector]\n",
    "reply_match_search = forum.iloc[matched_index]"
   ]
  },
  {
   "cell_type": "code",
   "execution_count": 55,
   "metadata": {},
   "outputs": [
    {
     "data": {
      "text/plain": [
       "(13,\n",
       " '0.100*\"pilot\" + 0.034*\"fly\" + 0.030*\"training\" + 0.024*\"accident\" + 0.022*\"cap\" + 0.021*\"airplane\" + 0.020*\"cirrus\" + 0.017*\"flight\" + 0.017*\"plane\" + 0.014*\"safety\"')"
      ]
     },
     "execution_count": 55,
     "metadata": {},
     "output_type": "execute_result"
    }
   ],
   "source": [
    "reference_vector, lda_model.print_topics(num_words = 10)[reference_vector][1]"
   ]
  },
  {
   "cell_type": "code",
   "execution_count": 60,
   "metadata": {},
   "outputs": [
    {
     "name": "stdout",
     "output_type": "stream",
     "text": [
      "In reply to:Even if CO doesn't turn out to be the cause I am beating myself up mercilessly over NOT having CO detection in my cockpit. What is the best one out there?I have from Sporty's the silver colored industrial electronic CO2 detector that sells for $295. (They have several listed in their catalog).  When I took delivery of my SR 20 three years ago, serial # 1604, while taking the factory transition training the CO2 detector went off when it was in a flight bag in the luggage compartment.  It turned out that the exhaust manifold was damaged.  There was no odor in the cockpit - the CO2 detector triggered during a long cross country flight.  The factory was surprised the detector went off.  The factory ended up replacing the exhaust manifold and there has been no problem since.  I currently put the C02 detector in the little \"glove box\" hole above the heating controls of my SR 20 where I also keep the checklist, a pad, and pencils.SR20 Cirrus N356JP, Serial # 1604 \n",
      "\n",
      "Same battery your BIOS runs on with yr computer motherboard. \n",
      "\n",
      "In reply to:MikeMaybe not carbon MONoxide (CO), but wouldn't the carbon DIoxide (CO2) be a problem, and cause death in sufficient quantities?I think only to the extent that it displaced oxygen.\n",
      "\n",
      "Thanks for the update. Do you recall the total time on those mags? Not since OH, but since new so we have a sense of the age of the nylon gears. Thanks in advance. \n",
      "\n"
     ]
    }
   ],
   "source": [
    "result = reply_match_search['FormattedBody'].reset_index(drop = True)\n",
    "for i in range(len(result)):\n",
    "    print (result[i] + '\\n')"
   ]
  },
  {
   "cell_type": "markdown",
   "metadata": {},
   "source": [
    "__Match replies with searching terms by comparing keywords vector and reference vector__"
   ]
  },
  {
   "cell_type": "code",
   "execution_count": 331,
   "metadata": {},
   "outputs": [],
   "source": [
    "r = re.compile(r'([.0-9]+)\\*\\\"([a-zA-Z]+)\\\"')\n",
    "keyword_vector = {}\n",
    "for i in range(20):\n",
    "    keyword_vector[i] = {}\n",
    "    word_weight = r.findall(lda_model.print_topics(num_words = 10)[i][1])\n",
    "    for weight, word in word_weight:\n",
    "        keyword_vector[i][word] = weight"
   ]
  },
  {
   "cell_type": "code",
   "execution_count": 332,
   "metadata": {},
   "outputs": [],
   "source": [
    "# Compare query to each leaf node, if the partial match score is higher than the threshold, then return a combination vector\n",
    "# that contains all words in those leaf nodes.\n",
    "def fuzzywuzzy_match(query,threshold):\n",
    "    \n",
    "    # Generate a list contains all leaf nodes, each sublist contains all words in that leaf node.\n",
    "    leaf_node = list()\n",
    "    for item in topic_vector:\n",
    "        if len(topic_vector[item]) == 1:\n",
    "            leaf_node.append(topic_vector[item][0].split())\n",
    "            \n",
    "    reference_vector = list()\n",
    "    \n",
    "    for node in leaf_node:\n",
    "        query_len = len(query)\n",
    "        node_len = len(node)\n",
    "        \n",
    "        if query_len >= node_len: # If query is longer\n",
    "            for i in range(node_len):\n",
    "                score = fuzz.partial_ratio(node[i],query)\n",
    "                if score > threshold:\n",
    "                    reference_vector.append(node) \n",
    "                    \n",
    "        else: # If leaf node is longer\n",
    "            for j in range(query_len):\n",
    "                score = fuzz.partial_ratio(query[j],node)\n",
    "                if score > threshold:\n",
    "                    reference_vector.append(node)\n",
    "    \n",
    "    reference_vector = list(list(i) for i in set(map(tuple, reference_vector))) # Deduplication\n",
    "    \n",
    "    return reference_vector"
   ]
  },
  {
   "cell_type": "code",
   "execution_count": 333,
   "metadata": {},
   "outputs": [],
   "source": [
    "threshold = 80\n",
    "query = \"Cirrus Parachute First Responders\"\n",
    "reference_vector = fuzzywuzzy_match(query,threshold)\n",
    "reference_vector_sim = []\n",
    "for vectors in reference_vector:\n",
    "    for words in vectors:\n",
    "        reference_vector_sim.append(words.lower())\n",
    "        \n",
    "reference_vector_sim = list(set(reference_vector_sim))"
   ]
  },
  {
   "cell_type": "code",
   "execution_count": 334,
   "metadata": {},
   "outputs": [],
   "source": [
    "temp = 0\n",
    "for i in range(19):\n",
    "    match = set(keyword_vector[i].keys()) & set(reference_vector_sim)\n",
    "    if len(match) >= 1:\n",
    "        weight = keyword_vector[i][list(match)[0]]\n",
    "        if float(weight) >= float(temp):\n",
    "            temp = weight\n",
    "            relevant_topic = i"
   ]
  },
  {
   "cell_type": "code",
   "execution_count": 335,
   "metadata": {},
   "outputs": [],
   "source": [
    "topic_match = [key for key, value in topic_dict.items() if value == relevant_topic]\n",
    "reply_match_search = forum.iloc[topic_match]"
   ]
  },
  {
   "cell_type": "code",
   "execution_count": 336,
   "metadata": {},
   "outputs": [
    {
     "data": {
      "text/plain": [
       "(0,\n",
       " '0.026*\"system\" + 0.022*\"work\" + 0.022*\"update\" + 0.019*\"use\" + 0.018*\"mfd\" + 0.018*\"datum\" + 0.018*\"display\" + 0.017*\"software\" + 0.014*\"avidyne\" + 0.013*\"avionic\"')"
      ]
     },
     "execution_count": 336,
     "metadata": {},
     "output_type": "execute_result"
    }
   ],
   "source": [
    "relevant_topic, lda_model.print_topics(num_words = 10)[relevant_topic][1]"
   ]
  },
  {
   "cell_type": "code",
   "execution_count": 337,
   "metadata": {
    "scrolled": true
   },
   "outputs": [
    {
     "name": "stdout",
     "output_type": "stream",
     "text": [
      "If I come over Tuesday do I get to play Igor the lowly apprentice? Since your so conservative, I'll make the one's for the Left sideTrip\n",
      "\n",
      "In reply to:Usual disclaimers:For display use only!No express or implied warranty of fitness for purpose!May or may not work!Use at you own risk!Do not ingest - for external use only!etc. etc. (don't say you weren't warned!)Fast Eddie:I enjoyed your legal disclaimers.  Last night while watching the LA Clippers play Phoenix I LMAO when I saw the legal disclaimer at the bottom of this ad Click Here.I hope Dennis can give us some legal expertise on the disclaimer in this ad.[;)]\n",
      "\n",
      "Set going out today to Mike Danko.BTW, the reason I post this here is:1) to bump the thread to the top for newbies, and,2) to keep a record of who I've sent them to and whenEnjoy!\n",
      "\n",
      "Fast Eddie,I made two of these up when you first introduced them. That was quite a while ago. Home here in Vermont, I have the plane hangered, But when I go to Florida I use them. I also use them when I wash the plane. They work GREAT.\n",
      "\n",
      "Going out in today's mail:Donald Thompson, Jr.Keith LambDave BushmanClarke Broadcasting?Enjoy!\n",
      "\n",
      "Sets going out today to:Andrew BarnardGeorge Griffithand some attorney in Miami [;)].Remember, Dennis, they're for display use only!\n",
      "\n",
      "Sets going out in today's mail to:Lars HelgesenTom TillmanFor those who sent \"contributions\", much thanks. It's not required, or even requested, but it does help me cover the modest costs involved.Fly safe!\n",
      "\n",
      "Know you have many responses but would gladly purchase a set of covers for my SR22.  Never posted before - if able thanks! if not thanks!Strate960 CR 4779Sulphur Springs, TX 75482\n",
      "\n",
      "Thanks Ed, I'm sending you an envelope.\n",
      "\n"
     ]
    }
   ],
   "source": [
    "result = reply_match_search['FormattedBody'].reset_index(drop = True)\n",
    "for i in range(9):\n",
    "    print (result[i] + '\\n')"
   ]
  },
  {
   "cell_type": "markdown",
   "metadata": {},
   "source": [
    "__Save the model__"
   ]
  },
  {
   "cell_type": "code",
   "execution_count": 90,
   "metadata": {},
   "outputs": [],
   "source": [
    "# Save model to disk.\n",
    "temp_file = datapath(\"lda.model\")\n",
    "lda_model.save(temp_file)\n",
    "\n",
    "# Load lda.model\n",
    "lda = gensim.models.ldamodel.LdaModel.load(temp_file)"
   ]
  },
  {
   "cell_type": "code",
   "execution_count": 22,
   "metadata": {},
   "outputs": [],
   "source": [
    "# pd.DataFrame(lda_model.print_topics(num_words = 10), columns = ['Topic', 'Keywords']).to_csv('LDA_vector.csv')"
   ]
  },
  {
   "cell_type": "code",
   "execution_count": 11,
   "metadata": {},
   "outputs": [
    {
     "data": {
      "text/html": [
       "<div>\n",
       "<style scoped>\n",
       "    .dataframe tbody tr th:only-of-type {\n",
       "        vertical-align: middle;\n",
       "    }\n",
       "\n",
       "    .dataframe tbody tr th {\n",
       "        vertical-align: top;\n",
       "    }\n",
       "\n",
       "    .dataframe thead th {\n",
       "        text-align: right;\n",
       "    }\n",
       "</style>\n",
       "<table border=\"1\" class=\"dataframe\">\n",
       "  <thead>\n",
       "    <tr style=\"text-align: right;\">\n",
       "      <th></th>\n",
       "      <th>Date</th>\n",
       "      <th>Title</th>\n",
       "      <th>Content</th>\n",
       "      <th>Author</th>\n",
       "      <th>Like</th>\n",
       "      <th>Comment</th>\n",
       "      <th>Resource</th>\n",
       "      <th>SourceScore</th>\n",
       "      <th>RecencyRate</th>\n",
       "      <th>AuthorScore</th>\n",
       "    </tr>\n",
       "  </thead>\n",
       "  <tbody>\n",
       "    <tr>\n",
       "      <th>0</th>\n",
       "      <td>2015-01-01</td>\n",
       "      <td>President's Column</td>\n",
       "      <td>JANUARY FEBRUARY 20154CIRRUS PILOTAs this is b...</td>\n",
       "      <td>NaN</td>\n",
       "      <td>0</td>\n",
       "      <td>0</td>\n",
       "      <td>Magazine</td>\n",
       "      <td>3</td>\n",
       "      <td>-0.465959</td>\n",
       "      <td>-1.209951</td>\n",
       "    </tr>\n",
       "    <tr>\n",
       "      <th>1</th>\n",
       "      <td>2015-01-01</td>\n",
       "      <td>COPA News</td>\n",
       "      <td>JANUARY FEBRUARY 20156CIRRUS PILOTWith this is...</td>\n",
       "      <td>NaN</td>\n",
       "      <td>0</td>\n",
       "      <td>0</td>\n",
       "      <td>Magazine</td>\n",
       "      <td>3</td>\n",
       "      <td>-0.465959</td>\n",
       "      <td>-1.209951</td>\n",
       "    </tr>\n",
       "    <tr>\n",
       "      <th>2</th>\n",
       "      <td>2015-01-01</td>\n",
       "      <td>Regional News</td>\n",
       "      <td>JANUARY FEBRUARY 201512CIRRUS PILOTby GIL WILL...</td>\n",
       "      <td>GIL WILLIAMSON</td>\n",
       "      <td>0</td>\n",
       "      <td>0</td>\n",
       "      <td>Magazine</td>\n",
       "      <td>3</td>\n",
       "      <td>-0.465959</td>\n",
       "      <td>0.211050</td>\n",
       "    </tr>\n",
       "    <tr>\n",
       "      <th>3</th>\n",
       "      <td>2015-01-01</td>\n",
       "      <td>Cirrus Perspective</td>\n",
       "      <td>JANUARY FEBRUARY 201518CIRRUS PILOTIts hard to...</td>\n",
       "      <td>NaN</td>\n",
       "      <td>0</td>\n",
       "      <td>0</td>\n",
       "      <td>Magazine</td>\n",
       "      <td>3</td>\n",
       "      <td>-0.465959</td>\n",
       "      <td>-1.209951</td>\n",
       "    </tr>\n",
       "    <tr>\n",
       "      <th>4</th>\n",
       "      <td>2015-01-01</td>\n",
       "      <td>Member Spotlight</td>\n",
       "      <td>JANUARY FEBRUARY 201522CIRRUS PILOTCirrus Pilo...</td>\n",
       "      <td>KIM BLONIGEN</td>\n",
       "      <td>0</td>\n",
       "      <td>0</td>\n",
       "      <td>Magazine</td>\n",
       "      <td>3</td>\n",
       "      <td>-0.465959</td>\n",
       "      <td>0.211050</td>\n",
       "    </tr>\n",
       "  </tbody>\n",
       "</table>\n",
       "</div>"
      ],
      "text/plain": [
       "         Date               Title  \\\n",
       "0  2015-01-01  President's Column   \n",
       "1  2015-01-01           COPA News   \n",
       "2  2015-01-01       Regional News   \n",
       "3  2015-01-01  Cirrus Perspective   \n",
       "4  2015-01-01    Member Spotlight   \n",
       "\n",
       "                                             Content          Author  Like  \\\n",
       "0  JANUARY FEBRUARY 20154CIRRUS PILOTAs this is b...             NaN     0   \n",
       "1  JANUARY FEBRUARY 20156CIRRUS PILOTWith this is...             NaN     0   \n",
       "2  JANUARY FEBRUARY 201512CIRRUS PILOTby GIL WILL...  GIL WILLIAMSON     0   \n",
       "3  JANUARY FEBRUARY 201518CIRRUS PILOTIts hard to...             NaN     0   \n",
       "4  JANUARY FEBRUARY 201522CIRRUS PILOTCirrus Pilo...    KIM BLONIGEN     0   \n",
       "\n",
       "   Comment  Resource  SourceScore  RecencyRate  AuthorScore  \n",
       "0        0  Magazine            3    -0.465959    -1.209951  \n",
       "1        0  Magazine            3    -0.465959    -1.209951  \n",
       "2        0  Magazine            3    -0.465959     0.211050  \n",
       "3        0  Magazine            3    -0.465959    -1.209951  \n",
       "4        0  Magazine            3    -0.465959     0.211050  "
      ]
     },
     "execution_count": 11,
     "metadata": {},
     "output_type": "execute_result"
    }
   ],
   "source": [
    "df.head()"
   ]
  },
  {
   "cell_type": "markdown",
   "metadata": {},
   "source": [
    "__Input Searching query__"
   ]
  },
  {
   "cell_type": "markdown",
   "metadata": {},
   "source": [
    "For Search Results Ranking\n",
    "\n",
    "- \"Cirrus Parachute First Responders\"\n",
    "- \"Different between AATD and FTD\"\n",
    "- \"Activate vector to final\"\n",
    "- \"Turbo normalize vs turbo charge\"\n",
    "- \"Shooting ILS approach\""
   ]
  },
  {
   "cell_type": "code",
   "execution_count": 19,
   "metadata": {},
   "outputs": [],
   "source": [
    "def extract_keywords(search_query):\n",
    "    '''\n",
    "    Get the most important keyword from searching query \n",
    "    '''\n",
    "    stop_words = stopwords.words('english')\n",
    "    stop_words.append('vs')\n",
    "    r = Rake(stopwords = stop_words)\n",
    "    \n",
    "    r.extract_keywords_from_text(search_query)\n",
    "    rank = r.get_ranked_phrases_with_scores()\n",
    "    itemMaxValue = max(rank, key=lambda x: x[0])[0]\n",
    "    \n",
    "    # Find the most important keyword\n",
    "    listOfKeys = list()\n",
    "    for value, key in rank:\n",
    "        if value == itemMaxValue:\n",
    "            listOfKeys.append(key.lower())\n",
    "    \n",
    "    return listOfKeys"
   ]
  },
  {
   "cell_type": "code",
   "execution_count": 20,
   "metadata": {},
   "outputs": [],
   "source": [
    "# search_query = [\"Cirrus Parachute First Responders\", \"Difference between AATD and FTD\", \"Activate vector to final\", \"Turbo normalize vs turbo charge\", \"Shooting ILS approach\"]\n",
    "# extract_keywords(\"Difference between AATD and FTD\")"
   ]
  },
  {
   "cell_type": "code",
   "execution_count": 118,
   "metadata": {},
   "outputs": [],
   "source": [
    "taxonomy_terms = [tree['Title'] for tree in taxonomy_data['data'][1:]]\n",
    "\n",
    "topic_vector = {}\n",
    "for i in range(len(taxonomy_terms)):\n",
    "    topic_info = taxonomy_data['data'][1:][i] # Sub level of all terms other than COPA\n",
    "    title = re.findall(r'Title\\': \\'(.*?)\\'', str(topic_info)) # Extract all children titles under specific term\n",
    "    if len(title) > 1: # If the term is among the bottom level, then just assign itself to the term\n",
    "        topic_vector[taxonomy_terms[i].lower()] = title[1:]\n",
    "    else:\n",
    "        topic_vector[taxonomy_terms[i].lower()] = [taxonomy_terms[i]]"
   ]
  },
  {
   "cell_type": "markdown",
   "metadata": {},
   "source": [
    "Think about which fuzzywuzzy method we should use:\n",
    "For each vector in topic_vector: which level we should match to.\n",
    "What kind of vector we want to get in the end? \n",
    "Current version: Combine all the match vectors together.\n"
   ]
  },
  {
   "cell_type": "code",
   "execution_count": 119,
   "metadata": {},
   "outputs": [],
   "source": [
    "threshold = 80  # Maybe adjusted to improve performance"
   ]
  },
  {
   "cell_type": "code",
   "execution_count": 125,
   "metadata": {},
   "outputs": [],
   "source": [
    "# Compare query to each leaf node, if the partial match score is higher than the threshold, then return a combination vector\n",
    "# that contains all words in those leaf nodes.\n",
    "def fuzzywuzzy_match(query,threshold):\n",
    "    \n",
    "    # Generate a list contains all leaf nodes, each sublist contains all words in that leaf node.\n",
    "    leaf_node = list()\n",
    "    for item in topic_vector:\n",
    "        if len(topic_vector[item]) == 1:\n",
    "            leaf_node.append(topic_vector[item][0].split())\n",
    "            \n",
    "    reference_vector = list()\n",
    "    \n",
    "    for node in leaf_node:\n",
    "        query_len = len(query)\n",
    "        node_len = len(node)\n",
    "        \n",
    "        if query_len >= node_len: # If query is longer\n",
    "            for i in range(node_len):\n",
    "                score = fuzz.partial_ratio(node[i],query)\n",
    "                if score > threshold:\n",
    "                    reference_vector.append(node) \n",
    "                    \n",
    "        else: # If leaf node is longer\n",
    "            for j in range(query_len):\n",
    "                score = fuzz.partial_ratio(query[j],node)\n",
    "                if score > threshold:\n",
    "                    reference_vector.append(node)\n",
    "    \n",
    "    reference_vector = list(list(i) for i in set(map(tuple, reference_vector))) # Deduplication\n",
    "    \n",
    "    return reference_vector"
   ]
  },
  {
   "cell_type": "code",
   "execution_count": 183,
   "metadata": {},
   "outputs": [
    {
     "data": {
      "text/plain": [
       "[['Parachute'],\n",
       " ['Cirrus', 'Airframe', 'Parachute', 'System'],\n",
       " ['Cirrus', 'Approach'],\n",
       " ['Parachute', 'Disreef'],\n",
       " ['Over', 'a', 'Runaway'],\n",
       " ['Reefed', 'Parachute'],\n",
       " ['Rocket', 'and', 'Parachute', 'Extraction'],\n",
       " ['Not', 'Over', 'a', 'Runaway']]"
      ]
     },
     "execution_count": 183,
     "metadata": {},
     "output_type": "execute_result"
    }
   ],
   "source": [
    "query = \"Cirrus Parachute First Responders\"\n",
    "fuzzywuzzy_match(query,threshold)"
   ]
  },
  {
   "cell_type": "code",
   "execution_count": 97,
   "metadata": {},
   "outputs": [],
   "source": [
    "def exact_match(search_query):\n",
    "    '''\n",
    "    The searching query can be exact matched by taxonomy tree.\n",
    "    '''\n",
    "    if search_query in taxonomy_terms:\n",
    "        taxonomy_vector = topic_vector[search_query.lower()]\n",
    "    return taxonomy_vector"
   ]
  },
  {
   "cell_type": "code",
   "execution_count": 101,
   "metadata": {},
   "outputs": [
    {
     "data": {
      "text/plain": [
       "['Goodyear', 'Michelin', 'Aero Classic', 'STA']"
      ]
     },
     "execution_count": 101,
     "metadata": {},
     "output_type": "execute_result"
    }
   ],
   "source": [
    "# exact_match('Tire Brands')"
   ]
  },
  {
   "cell_type": "code",
   "execution_count": 99,
   "metadata": {},
   "outputs": [],
   "source": [
    "# Create a vector that stores all the phrases(more than one word) that should be \n",
    "# token as a whole.\n",
    "def generate_phrases_tokenizer(topic_vector): # Return a list of tuples containing phrases.\n",
    "    all_multiword_tokens = list()\n",
    "    for item in topic_vector: \n",
    "        for phrase in topic_vector[item]:\n",
    "            phrase = phrase.replace('(','') # Eliminate '(' and ')' in the phrase\n",
    "            phrase = phrase.replace(')','')\n",
    "           #phrase = re.sub(r'( \\(.*\\))','',phrase) #exclude all contents in '()'\n",
    "            phrase_lower = phrase.lower() # Convert all characters into lower case.\n",
    "            #phrase_lower.replace('-', ' ')\n",
    "            word_lst = phrase_lower.split()\n",
    "            if len(word_lst) >= 2: \n",
    "                word_tuple = tuple(word_lst)\n",
    "                all_multiword_tokens.append(word_tuple)  \n",
    "    all_multiword_tokens = list(set(all_multiword_tokens)) # Deduplication\n",
    "    tokenizer = MWETokenizer(all_multiword_tokens,separator=' ')\n",
    "    return tokenizer"
   ]
  },
  {
   "cell_type": "code",
   "execution_count": 100,
   "metadata": {},
   "outputs": [],
   "source": [
    "def any_match(search_query,tokenizer):\n",
    "    '''\n",
    "    Any words in searching query can be exact matched by taxonomy tree.\n",
    "    '''\n",
    "    # Split input string into words or phrases according to taxonomy tree.\n",
    "    words = tokenizer.tokenize(search_query.split())\n",
    "    taxonomy_vector = []\n",
    "    for word in words:\n",
    "        try:\n",
    "            taxonomy_vector.append(topic_vector[word])\n",
    "        except:\n",
    "            continue\n",
    "    return taxonomy_vector"
   ]
  },
  {
   "cell_type": "code",
   "execution_count": 84,
   "metadata": {},
   "outputs": [
    {
     "data": {
      "text/plain": [
       "[['Turbo']]"
      ]
     },
     "execution_count": 84,
     "metadata": {},
     "output_type": "execute_result"
    }
   ],
   "source": [
    "phrase_tokenizer = generate_phrases_tokenizer(topic_vector)\n",
    "any_match(\"Turbo normalize vs turbo charge\", phrase_tokenizer)"
   ]
  },
  {
   "cell_type": "code",
   "execution_count": 191,
   "metadata": {},
   "outputs": [],
   "source": [
    "def keyword_match(keywords):\n",
    "    '''\n",
    "    The most important keyword of searching query can be matched by taxonomy tree.\n",
    "    '''\n",
    "    taxonomy_vector = []\n",
    "    for keyword in keywords:\n",
    "        try:\n",
    "            taxonomy_vector.append(topic_vector[keyword])\n",
    "        except:\n",
    "            continue\n",
    "    return taxonomy_vector"
   ]
  },
  {
   "cell_type": "code",
   "execution_count": 229,
   "metadata": {},
   "outputs": [
    {
     "data": {
      "text/plain": [
       "([['Engine']], ['work', 'engine'])"
      ]
     },
     "execution_count": 229,
     "metadata": {},
     "output_type": "execute_result"
    }
   ],
   "source": [
    "# keywords = extract_keywords(\"Engine doesn't work.\")\n",
    "# keyword_match(keywords), keywords"
   ]
  },
  {
   "cell_type": "code",
   "execution_count": 95,
   "metadata": {},
   "outputs": [],
   "source": [
    "def topic_match(search_query):\n",
    "    '''\n",
    "    Extract the topic of searching query by LDA model trained by forum posts.\n",
    "    '''\n",
    "    texts1 = [[word for word in doc.lower().split() if word not in stop_words] for doc in [search_query]]\n",
    "    corpus1 = [id2word.doc2bow(t) for t in texts1]\n",
    "    result = lda_model.get_document_topics(corpus1)\n",
    "    LDA_topic = max(result[0], key=lambda x: x[1])[0]\n",
    "    return LDA_topic"
   ]
  },
  {
   "cell_type": "code",
   "execution_count": 82,
   "metadata": {},
   "outputs": [
    {
     "data": {
      "text/plain": [
       "(12,\n",
       " (12,\n",
       "  '0.101*\"altitude\" + 0.083*\"high\" + 0.065*\"climb\" + 0.041*\"low\" + 0.034*\"performance\" + 0.032*\"gun\" + 0.030*\"turbo\" + 0.028*\"level\" + 0.028*\"foot\" + 0.027*\"rate\"'))"
      ]
     },
     "execution_count": 82,
     "metadata": {},
     "output_type": "execute_result"
    }
   ],
   "source": [
    "# topic_match('Turbo normalize vs turbo charge'), lda_model.print_topics(num_words = 10)[12]"
   ]
  },
  {
   "cell_type": "code",
   "execution_count": null,
   "metadata": {},
   "outputs": [],
   "source": []
  }
 ],
 "metadata": {
  "kernelspec": {
   "display_name": "Python 3",
   "language": "python",
   "name": "python3"
  },
  "language_info": {
   "codemirror_mode": {
    "name": "ipython",
    "version": 3
   },
   "file_extension": ".py",
   "mimetype": "text/x-python",
   "name": "python",
   "nbconvert_exporter": "python",
   "pygments_lexer": "ipython3",
   "version": "3.7.4"
  },
  "toc": {
   "base_numbering": 1,
   "nav_menu": {},
   "number_sections": true,
   "sideBar": true,
   "skip_h1_title": false,
   "title_cell": "Table of Contents",
   "title_sidebar": "Contents",
   "toc_cell": false,
   "toc_position": {},
   "toc_section_display": true,
   "toc_window_display": false
  },
  "varInspector": {
   "cols": {
    "lenName": 16,
    "lenType": 16,
    "lenVar": 40
   },
   "kernels_config": {
    "python": {
     "delete_cmd_postfix": "",
     "delete_cmd_prefix": "del ",
     "library": "var_list.py",
     "varRefreshCmd": "print(var_dic_list())"
    },
    "r": {
     "delete_cmd_postfix": ") ",
     "delete_cmd_prefix": "rm(",
     "library": "var_list.r",
     "varRefreshCmd": "cat(var_dic_list()) "
    }
   },
   "types_to_exclude": [
    "module",
    "function",
    "builtin_function_or_method",
    "instance",
    "_Feature"
   ],
   "window_display": true
  }
 },
 "nbformat": 4,
 "nbformat_minor": 2
}
