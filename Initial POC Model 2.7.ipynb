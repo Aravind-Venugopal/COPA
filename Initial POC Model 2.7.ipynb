{
 "cells": [
  {
   "cell_type": "markdown",
   "metadata": {},
   "source": [
    "# POC Model"
   ]
  },
  {
   "cell_type": "markdown",
   "metadata": {},
   "source": [
    "__Install packages__"
   ]
  },
  {
   "cell_type": "code",
   "execution_count": 1,
   "metadata": {},
   "outputs": [
    {
     "name": "stderr",
     "output_type": "stream",
     "text": [
      "C:\\Users\\lzzse\\Anaconda3\\lib\\site-packages\\nltk\\decorators.py:68: DeprecationWarning: `formatargspec` is deprecated since Python 3.5. Use `signature` and the `Signature` object directly\n",
      "  regargs, varargs, varkwargs, defaults, formatvalue=lambda value: \"\"\n",
      "C:\\Users\\lzzse\\Anaconda3\\lib\\site-packages\\nltk\\lm\\counter.py:15: DeprecationWarning: Using or importing the ABCs from 'collections' instead of from 'collections.abc' is deprecated, and in 3.8 it will stop working\n",
      "  from collections import Sequence, defaultdict\n",
      "C:\\Users\\lzzse\\Anaconda3\\lib\\site-packages\\fuzzywuzzy\\fuzz.py:11: UserWarning: Using slow pure-python SequenceMatcher. Install python-Levenshtein to remove this warning\n",
      "  warnings.warn('Using slow pure-python SequenceMatcher. Install python-Levenshtein to remove this warning')\n"
     ]
    }
   ],
   "source": [
    "import re\n",
    "import numpy as np\n",
    "import pandas as pd\n",
    "from pprint import pprint\n",
    "import gensim\n",
    "import gensim.corpora as corpora\n",
    "from gensim.utils import simple_preprocess\n",
    "from gensim.models import CoherenceModel\n",
    "import spacy\n",
    "import pyLDAvis\n",
    "import pyLDAvis.gensim\n",
    "from nltk.corpus import stopwords\n",
    "import glob\n",
    "from datetime import datetime\n",
    "import statistics \n",
    "import jmespath\n",
    "import json\n",
    "from rake_nltk import Rake\n",
    "from nltk.tokenize import word_tokenize\n",
    "from nltk.tokenize import MWETokenizer\n",
    "from gensim.test.utils import datapath\n",
    "from fuzzywuzzy import fuzz \n",
    "from fuzzywuzzy import process"
   ]
  },
  {
   "cell_type": "markdown",
   "metadata": {},
   "source": [
    "### Converting Tree to JSON format"
   ]
  },
  {
   "cell_type": "code",
   "execution_count": 2,
   "metadata": {},
   "outputs": [],
   "source": [
    "# Please run this code cell once only as multiple runs will affect the same file \n",
    "with open('Clean_mind_map.json') as json_file:\n",
    "    data = json.load(json_file)\n",
    "    \n",
    "itemsKeyedById = {i[\"ID\"]: i for i in data}\n",
    "\n",
    "#iterate through each item in the `myJson` list.\n",
    "for item in data[1:]:\n",
    "    #does the item have a parent?\n",
    "    if \"Parent\" in item:\n",
    "        #get the parent item\n",
    "        parent = itemsKeyedById[item['Parent']]\n",
    "        #if the parent item doesn't have a \"children\" member, \n",
    "        #we must create one.\n",
    "        if \"children\" not in parent:\n",
    "            parent[\"children\"] = []\n",
    "        #add the item to its parent's \"children\" list.\n",
    "        parent[\"children\"].append(item)\n",
    "topLevelItems = [item for item in data if \"Parent\" not in item]\n",
    "taxonomy_data = {'data': data}"
   ]
  },
  {
   "cell_type": "code",
   "execution_count": 3,
   "metadata": {},
   "outputs": [],
   "source": [
    "with open('data.json', 'w') as outfile:\n",
    "    json.dump(taxonomy_data, outfile)"
   ]
  },
  {
   "cell_type": "markdown",
   "metadata": {},
   "source": [
    "Examples are found on this link: http://jmespath.org/tutorial.html"
   ]
  },
  {
   "cell_type": "code",
   "execution_count": 4,
   "metadata": {},
   "outputs": [],
   "source": [
    "expression = jmespath.compile(\"data[?Title =='Lean of Peak'].children[].Title\")\n",
    "expression.search(data)"
   ]
  },
  {
   "cell_type": "markdown",
   "metadata": {},
   "source": [
    "### Data Sources Integration"
   ]
  },
  {
   "cell_type": "code",
   "execution_count": 5,
   "metadata": {},
   "outputs": [
    {
     "data": {
      "text/plain": [
       "['COPA_blog.csv',\n",
       " 'COPA_forum_replies.csv',\n",
       " 'COPA_forum_threads.csv',\n",
       " 'COPA_Wiki.csv']"
      ]
     },
     "execution_count": 5,
     "metadata": {},
     "output_type": "execute_result"
    }
   ],
   "source": [
    "data = []\n",
    "for filename in glob.glob('*.csv'):\n",
    "    data.append(filename)\n",
    "data"
   ]
  },
  {
   "cell_type": "code",
   "execution_count": 81,
   "metadata": {},
   "outputs": [],
   "source": [
    "# magazine = pd.read_csv(data[])\n",
    "# magazine_date_list = list(magazine['Magazine'].unique())\n",
    "# # Get the month of magazine from its name\n",
    "# # Since the the COPA magazines are released monthly, so it only has year and month\n",
    "# # in its date column. In this case we just assume all magazines were released on the \n",
    "# # first day of that month.\n",
    "# magazine_date_dict = {magazine_date_list[0]: '2015-01-01', magazine_date_list[1]: '2019-01-01',\n",
    "#                       magazine_date_list[2]: '2015-07-01', magazine_date_list[3]: '2019-04-01',\n",
    "#                       magazine_date_list[4]: '2019-06-01', magazine_date_list[5]: '2018-01-01',\n",
    "#                       magazine_date_list[6]: '2017-09-01', magazine_date_list[7]: '2016-09-01',\n",
    "#                       magazine_date_list[8]: '2017-11-01', magazine_date_list[9]: '2015-05-01',\n",
    "#                       magazine_date_list[10]: '2015-09-01', magazine_date_list[11]: '2006-09-01', \n",
    "#                       magazine_date_list[12]: '2018-06-01', magazine_date_list[13]: '2019-07-01',\n",
    "#                       magazine_date_list[14]: '2017-04-01', magazine_date_list[15]: '2016-04-01',\n",
    "#                       magazine_date_list[16]: '2018-11-01', magazine_date_list[17]: '2015-09-01',\n",
    "#                       magazine_date_list[18]: '2019-03-01', magazine_date_list[19]: '2006-11-01',\n",
    "#                       magazine_date_list[20]: '2016-01-01', magazine_date_list[21]: '2019-05-01',\n",
    "#                       magazine_date_list[22]: '2016-03-01', magazine_date_list[23]: '2016-05-01',\n",
    "#                       magazine_date_list[24]: '2006-07-01', magazine_date_list[25]: '2017-06-01',\n",
    "#                       magazine_date_list[26]: '2018-07-01', magazine_date_list[27]: '2018-09-01',\n",
    "#                       magazine_date_list[28]: '2017-01-01', magazine_date_list[29]: '2012-11-01'}\n",
    "# magazine['Magazine'] = magazine['Magazine'].map(magazine_date_dict)\n",
    "# magazine.columns = ['Date', 'Title', 'Content', 'Author']\n",
    "# magazine['Like'] = 0\n",
    "# magazine['Comment'] = 0\n",
    "# magazine['Resource'] = 'Magazine'"
   ]
  },
  {
   "cell_type": "code",
   "execution_count": 82,
   "metadata": {},
   "outputs": [],
   "source": [
    "blog = pd.read_csv(data[2], encoding = 'unicode_escape')\n",
    "blog = blog[['Date', 'Title', 'Body', 'Author', 'Like','Comment']]\n",
    "blog.columns = ['Date', 'Title', 'Content', 'Author', 'Like','Comment']\n",
    "blog['Date'] = [d.split(' ')[0].split('/')[2] + '-' + d.split(' ')[0].split('/')[0] for d in blog['Date']]\n",
    "blog['Date'] = blog['Date'].map(lambda x: x + '-01')\n",
    "blog['Resource'] = 'Blog'"
   ]
  },
  {
   "cell_type": "code",
   "execution_count": 6,
   "metadata": {},
   "outputs": [],
   "source": [
    "pdList = [magazine, wiki, blog]\n",
    "# Combine three datasets together\n",
    "df = pd.concat(pdList)\n",
    "df.reset_index(drop = True, inplace = True)"
   ]
  },
  {
   "cell_type": "code",
   "execution_count": 7,
   "metadata": {},
   "outputs": [],
   "source": [
    "#Ranking the source, blog is the most important source so have 3\n",
    "raw_data = {'Resource': ['Wiki','Blog','Magazine'], 'SourceScore': [1, 2, 3]}\n",
    "Source_tb = pd.DataFrame(raw_data, columns = ['Resource', 'SourceScore'])\n",
    "#add source score to the main table\n",
    "df = pd.merge(df, Source_tb, left_on = 'Resource', right_on = 'Resource')"
   ]
  },
  {
   "cell_type": "markdown",
   "metadata": {},
   "source": [
    "# Generate Attributes"
   ]
  },
  {
   "cell_type": "markdown",
   "metadata": {},
   "source": [
    "__Generate Recency Score__"
   ]
  },
  {
   "cell_type": "code",
   "execution_count": 8,
   "metadata": {},
   "outputs": [],
   "source": [
    "def  Calculate_RecencyScore(date):\n",
    "    '''\n",
    "    Recency Rate = log( 1 + 1/(days between the post date and current date + 1))\n",
    "    '''\n",
    "    date_datetime = datetime.strptime(date, '%Y-%m-%d').date()\n",
    "    rececncy_rate = math.log10(1/(((datetime.date(datetime.now()))-date_datetime).days+1)+1)\n",
    "    return rececncy_rate\n",
    "    \n",
    "\n",
    "df['RecencyRate'] = df['Date'].map(lambda y: Calculate_RecencyScore(y))"
   ]
  },
  {
   "cell_type": "markdown",
   "metadata": {},
   "source": [
    "__Generate Author Score__"
   ]
  },
  {
   "cell_type": "code",
   "execution_count": 9,
   "metadata": {},
   "outputs": [],
   "source": [
    "def Calculate_AuthorScore(author):\n",
    "    '''\n",
    "    AuthorScore = Number of posts of specified content source * pre-determined weight\n",
    "    '''\n",
    "    author_score = df[df['Author'] == author]['SourceScore'].sum()\n",
    "    return author_score\n",
    "\n",
    "author_list = list(df['Author'].unique())\n",
    "df['AuthorScore'] = df['Author'].map(lambda x: Calculate_AuthorScore(x), author_list)"
   ]
  },
  {
   "cell_type": "markdown",
   "metadata": {},
   "source": [
    "__Generate Content Score__"
   ]
  },
  {
   "cell_type": "code",
   "execution_count": 7,
   "metadata": {},
   "outputs": [
    {
     "name": "stdout",
     "output_type": "stream",
     "text": [
      "[(0,\n",
      "  '0.047*\"car\" + 0.038*\"com\" + 0.036*\"drive\" + 0.023*\"love\" + 0.021*\"family\" + '\n",
      "  '0.021*\"kid\" + 0.019*\"wife\" + 0.018*\"live\" + 0.018*\"eat\" + 0.017*\"home\"'),\n",
      " (1,\n",
      "  '0.018*\"turn\" + 0.018*\"video\" + 0.016*\"approach\" + 0.014*\"set\" + '\n",
      "  '0.013*\"mode\" + 0.013*\"switch\" + 0.012*\"course\" + 0.011*\"hold\" + '\n",
      "  '0.011*\"head\" + 0.010*\"autopilot\"'),\n",
      " (2,\n",
      "  '0.015*\"state\" + 0.013*\"report\" + 0.011*\"require\" + 0.011*\"say\" + '\n",
      "  '0.011*\"rule\" + 0.009*\"case\" + 0.009*\"may\" + 0.009*\"provide\" + 0.009*\"claim\" '\n",
      "  '+ 0.008*\"legal\"'),\n",
      " (3,\n",
      "  '0.066*\"pilot\" + 0.025*\"fly\" + 0.019*\"training\" + 0.016*\"accident\" + '\n",
      "  '0.015*\"flight\" + 0.013*\"cirrus\" + 0.013*\"cap\" + 0.012*\"airplane\" + '\n",
      "  '0.011*\"plane\" + 0.011*\"aircraft\"'),\n",
      " (4,\n",
      "  '0.052*\"fly\" + 0.025*\"get\" + 0.023*\"go\" + 0.018*\"time\" + 0.014*\"take\" + '\n",
      "  '0.014*\"good\" + 0.013*\"plane\" + 0.013*\"much\" + 0.013*\"ice\" + 0.013*\"really\"'),\n",
      " (5,\n",
      "  '0.072*\"cirrus\" + 0.047*\"aircraft\" + 0.043*\"sell\" + 0.041*\"jet\" + '\n",
      "  '0.041*\"owner\" + 0.038*\"buy\" + 0.032*\"new\" + 0.024*\"market\" + 0.021*\"price\" '\n",
      "  '+ 0.020*\"sale\"'),\n",
      " (6,\n",
      "  '0.045*\"would\" + 0.031*\"know\" + 0.030*\"think\" + 0.028*\"user\" + 0.028*\"say\" + '\n",
      "  '0.028*\"go\" + 0.019*\"get\" + 0.016*\"make\" + 0.015*\"quote\" + 0.015*\"could\"'),\n",
      " (7,\n",
      "  '0.233*\"follow\" + 0.228*\"write\" + 0.149*\"user\" + 0.030*\"update\" + '\n",
      "  '0.015*\"chart\" + 0.012*\"card\" + 0.012*\"page\" + 0.011*\"list\" + 0.010*\"datum\" '\n",
      "  '+ 0.010*\"may\"'),\n",
      " (8,\n",
      "  '0.031*\"work\" + 0.028*\"issue\" + 0.026*\"problem\" + 0.022*\"shop\" + '\n",
      "  '0.021*\"send\" + 0.016*\"replace\" + 0.015*\"get\" + 0.014*\"part\" + '\n",
      "  '0.014*\"service\" + 0.014*\"fix\"'),\n",
      " (9,\n",
      "  '0.060*\"engine\" + 0.031*\"fuel\" + 0.025*\"power\" + 0.021*\"oil\" + '\n",
      "  '0.017*\"battery\" + 0.017*\"run\" + 0.010*\"would\" + 0.009*\"cylinder\" + '\n",
      "  '0.009*\"flow\" + 0.009*\"pressure\"'),\n",
      " (10,\n",
      "  '0.040*\"flight\" + 0.034*\"approach\" + 0.033*\"airport\" + 0.021*\"fly\" + '\n",
      "  '0.021*\"plan\" + 0.014*\"route\" + 0.012*\"clearance\" + 0.012*\"vfr\" + '\n",
      "  '0.012*\"runway\" + 0.012*\"clear\"'),\n",
      " (11,\n",
      "  '0.143*\"post\" + 0.050*\"thread\" + 0.048*\"read\" + 0.042*\"see\" + '\n",
      "  '0.032*\"picture\" + 0.027*\"link\" + 0.023*\"site\" + 0.023*\"find\" + '\n",
      "  '0.022*\"article\" + 0.021*\"photo\"'),\n",
      " (12,\n",
      "  '0.101*\"altitude\" + 0.083*\"high\" + 0.065*\"climb\" + 0.041*\"low\" + '\n",
      "  '0.034*\"performance\" + 0.032*\"gun\" + 0.030*\"turbo\" + 0.028*\"level\" + '\n",
      "  '0.028*\"foot\" + 0.027*\"rate\"'),\n",
      " (13,\n",
      "  '0.025*\"speed\" + 0.017*\"wing\" + 0.017*\"landing\" + 0.015*\"land\" + '\n",
      "  '0.015*\"plane\" + 0.012*\"flap\" + 0.012*\"runway\" + 0.011*\"power\" + '\n",
      "  '0.011*\"stall\" + 0.011*\"wind\"'),\n",
      " (14,\n",
      "  '0.217*\"thank\" + 0.077*\"look\" + 0.056*\"great\" + 0.026*\"forward\" + '\n",
      "  '0.023*\"share\" + 0.021*\"good\" + 0.020*\"help\" + 0.014*\"profile\" + '\n",
      "  '0.014*\"color\" + 0.014*\"see\"'),\n",
      " (15,\n",
      "  '0.032*\"seat\" + 0.021*\"open\" + 0.019*\"leave\" + 0.018*\"door\" + 0.017*\"side\" + '\n",
      "  '0.016*\"right\" + 0.015*\"woman\" + 0.015*\"black\" + 0.013*\"white\" + '\n",
      "  '0.013*\"energy\"'),\n",
      " (16,\n",
      "  '0.033*\"cost\" + 0.028*\"pay\" + 0.018*\"would\" + 0.017*\"money\" + '\n",
      "  '0.013*\"insurance\" + 0.012*\"year\" + 0.012*\"business\" + 0.011*\"price\" + '\n",
      "  '0.010*\"tax\" + 0.009*\"much\"'),\n",
      " (17,\n",
      "  '0.076*\"year\" + 0.037*\"plane\" + 0.035*\"time\" + 0.028*\"hour\" + 0.025*\"last\" + '\n",
      "  '0.023*\"week\" + 0.023*\"new\" + 0.021*\"ago\" + 0.021*\"month\" + 0.020*\"get\"'),\n",
      " (18,\n",
      "  '0.022*\"system\" + 0.021*\"would\" + 0.018*\"ad\" + 0.013*\"avionic\" + 0.013*\"new\" '\n",
      "  '+ 0.012*\"upgrade\" + 0.012*\"use\" + 0.011*\"traffic\" + 0.011*\"perspective\" + '\n",
      "  '0.011*\"need\"'),\n",
      " (19,\n",
      "  '0.017*\"people\" + 0.015*\"make\" + 0.015*\"user\" + 0.012*\"copa\" + 0.011*\"many\" '\n",
      "  '+ 0.011*\"think\" + 0.010*\"say\" + 0.009*\"would\" + 0.009*\"member\" + '\n",
      "  '0.009*\"point\"')]\n"
     ]
    }
   ],
   "source": [
    "forum = pd.read_csv(data[1])\n",
    "data = forum.FormattedBody.values.tolist()\n",
    "\n",
    "# Create a model for topic classification based on the dataset we have \n",
    "# (It may cause some problems because the model will be applied to the dataset later to give each content a topic.)\n",
    "# (The problem can be solved when we get the entire dataset since we can take part of the contents as corpus.)\n",
    "\n",
    "# Get some stop words\n",
    "stop_words = stopwords.words('english')\n",
    "stop_words.extend(['from', 'subject', 're', 'edu', 'use'])\n",
    "\n",
    "def sent_to_words(sentences):\n",
    "    for sentence in sentences:\n",
    "        yield(gensim.utils.simple_preprocess(str(sentence), deacc=True))  # deacc=True removes punctuations\n",
    "\n",
    "data_words = list(sent_to_words(data))\n",
    "\n",
    "# Build the bigram and trigram models\n",
    "bigram = gensim.models.Phrases(data_words, min_count=5, threshold=100) # higher threshold fewer phrases.\n",
    "trigram = gensim.models.Phrases(bigram[data_words], threshold=100)  \n",
    "\n",
    "# Faster way to get a sentence clubbed as a trigram/bigram\n",
    "bigram_mod = gensim.models.phrases.Phraser(bigram)\n",
    "trigram_mod = gensim.models.phrases.Phraser(trigram)\n",
    "\n",
    "# Define functions for stopwords, bigrams, trigrams and lemmatization\n",
    "def remove_stopwords(texts):\n",
    "    return [[word for word in simple_preprocess(str(doc)) if word not in stop_words] for doc in texts]\n",
    "\n",
    "def make_bigrams(texts):\n",
    "    return [bigram_mod[doc] for doc in texts]\n",
    "\n",
    "def make_trigrams(texts):\n",
    "    return [trigram_mod[bigram_mod[doc]] for doc in texts]\n",
    "\n",
    "def lemmatization(texts, allowed_postags=['NOUN', 'ADJ', 'VERB', 'ADV']):\n",
    "    texts_out = []\n",
    "    for sent in texts:\n",
    "        doc = nlp(\" \".join(sent)) \n",
    "        texts_out.append([token.lemma_ for token in doc if token.pos_ in allowed_postags])\n",
    "    return texts_out\n",
    "\n",
    "# Remove Stop Words\n",
    "data_words_nostops = remove_stopwords(data_words)\n",
    "\n",
    "# Form Bigrams\n",
    "data_words_bigrams = make_bigrams(data_words_nostops)\n",
    "\n",
    "# Initialize spacy 'en' model, keeping only tagger component (for efficiency)\n",
    "# python3 -m spacy download en\n",
    "nlp = spacy.load('en', disable=['parser', 'ner'])\n",
    "\n",
    "# Do lemmatization keeping only noun, adj, vb, adv\n",
    "data_lemmatized = lemmatization(data_words_bigrams, allowed_postags=['NOUN', 'ADJ', 'VERB', 'ADV'])\n",
    "\n",
    "# Create Dictionary\n",
    "id2word = corpora.Dictionary(data_lemmatized)\n",
    "\n",
    "# Create Corpus\n",
    "texts = data_lemmatized\n",
    "\n",
    "# Term Document Frequency\n",
    "corpus = [id2word.doc2bow(text) for text in texts]\n",
    "\n",
    "lda_model = gensim.models.ldamodel.LdaModel(corpus=corpus,\n",
    "                                           id2word=id2word,\n",
    "                                           num_topics=20, \n",
    "                                           passes=10)\n",
    "\n",
    "pprint(lda_model.print_topics(num_words = 10))\n",
    "# Get 20 related topics\n",
    "doc_lda = lda_model[corpus]"
   ]
  },
  {
   "cell_type": "code",
   "execution_count": 90,
   "metadata": {},
   "outputs": [],
   "source": [
    "# Save model to disk.\n",
    "temp_file = datapath(\"lda.model\")\n",
    "lda_model.save(temp_file)\n",
    "\n",
    "# Load lda.model\n",
    "lda = gensim.models.ldamodel.LdaModel.load(temp_file)"
   ]
  },
  {
   "cell_type": "code",
   "execution_count": 14,
   "metadata": {},
   "outputs": [],
   "source": [
    "# pd.DataFrame(lda_model.print_topics(num_words = 10), columns = ['Topic', 'Keywords']).to_csv('LDA_vector.csv')"
   ]
  },
  {
   "cell_type": "markdown",
   "metadata": {},
   "source": [
    "__Normalization__"
   ]
  },
  {
   "cell_type": "code",
   "execution_count": 10,
   "metadata": {},
   "outputs": [],
   "source": [
    "def Normalization(col):\n",
    "    nomolized_col = (df[col] - df[col].mean()) / df.loc[:, col].std()\n",
    "    return nomolized_col\n",
    "\n",
    "df['RecencyRate'] = Normalization('RecencyRate')\n",
    "df['AuthorScore'] = Normalization('AuthorScore')"
   ]
  },
  {
   "cell_type": "code",
   "execution_count": 11,
   "metadata": {},
   "outputs": [
    {
     "data": {
      "text/html": [
       "<div>\n",
       "<style scoped>\n",
       "    .dataframe tbody tr th:only-of-type {\n",
       "        vertical-align: middle;\n",
       "    }\n",
       "\n",
       "    .dataframe tbody tr th {\n",
       "        vertical-align: top;\n",
       "    }\n",
       "\n",
       "    .dataframe thead th {\n",
       "        text-align: right;\n",
       "    }\n",
       "</style>\n",
       "<table border=\"1\" class=\"dataframe\">\n",
       "  <thead>\n",
       "    <tr style=\"text-align: right;\">\n",
       "      <th></th>\n",
       "      <th>Date</th>\n",
       "      <th>Title</th>\n",
       "      <th>Content</th>\n",
       "      <th>Author</th>\n",
       "      <th>Like</th>\n",
       "      <th>Comment</th>\n",
       "      <th>Resource</th>\n",
       "      <th>SourceScore</th>\n",
       "      <th>RecencyRate</th>\n",
       "      <th>AuthorScore</th>\n",
       "    </tr>\n",
       "  </thead>\n",
       "  <tbody>\n",
       "    <tr>\n",
       "      <th>0</th>\n",
       "      <td>2015-01-01</td>\n",
       "      <td>President's Column</td>\n",
       "      <td>JANUARY FEBRUARY 20154CIRRUS PILOTAs this is b...</td>\n",
       "      <td>NaN</td>\n",
       "      <td>0</td>\n",
       "      <td>0</td>\n",
       "      <td>Magazine</td>\n",
       "      <td>3</td>\n",
       "      <td>-0.465959</td>\n",
       "      <td>-1.209951</td>\n",
       "    </tr>\n",
       "    <tr>\n",
       "      <th>1</th>\n",
       "      <td>2015-01-01</td>\n",
       "      <td>COPA News</td>\n",
       "      <td>JANUARY FEBRUARY 20156CIRRUS PILOTWith this is...</td>\n",
       "      <td>NaN</td>\n",
       "      <td>0</td>\n",
       "      <td>0</td>\n",
       "      <td>Magazine</td>\n",
       "      <td>3</td>\n",
       "      <td>-0.465959</td>\n",
       "      <td>-1.209951</td>\n",
       "    </tr>\n",
       "    <tr>\n",
       "      <th>2</th>\n",
       "      <td>2015-01-01</td>\n",
       "      <td>Regional News</td>\n",
       "      <td>JANUARY FEBRUARY 201512CIRRUS PILOTby GIL WILL...</td>\n",
       "      <td>GIL WILLIAMSON</td>\n",
       "      <td>0</td>\n",
       "      <td>0</td>\n",
       "      <td>Magazine</td>\n",
       "      <td>3</td>\n",
       "      <td>-0.465959</td>\n",
       "      <td>0.211050</td>\n",
       "    </tr>\n",
       "    <tr>\n",
       "      <th>3</th>\n",
       "      <td>2015-01-01</td>\n",
       "      <td>Cirrus Perspective</td>\n",
       "      <td>JANUARY FEBRUARY 201518CIRRUS PILOTIts hard to...</td>\n",
       "      <td>NaN</td>\n",
       "      <td>0</td>\n",
       "      <td>0</td>\n",
       "      <td>Magazine</td>\n",
       "      <td>3</td>\n",
       "      <td>-0.465959</td>\n",
       "      <td>-1.209951</td>\n",
       "    </tr>\n",
       "    <tr>\n",
       "      <th>4</th>\n",
       "      <td>2015-01-01</td>\n",
       "      <td>Member Spotlight</td>\n",
       "      <td>JANUARY FEBRUARY 201522CIRRUS PILOTCirrus Pilo...</td>\n",
       "      <td>KIM BLONIGEN</td>\n",
       "      <td>0</td>\n",
       "      <td>0</td>\n",
       "      <td>Magazine</td>\n",
       "      <td>3</td>\n",
       "      <td>-0.465959</td>\n",
       "      <td>0.211050</td>\n",
       "    </tr>\n",
       "  </tbody>\n",
       "</table>\n",
       "</div>"
      ],
      "text/plain": [
       "         Date               Title  \\\n",
       "0  2015-01-01  President's Column   \n",
       "1  2015-01-01           COPA News   \n",
       "2  2015-01-01       Regional News   \n",
       "3  2015-01-01  Cirrus Perspective   \n",
       "4  2015-01-01    Member Spotlight   \n",
       "\n",
       "                                             Content          Author  Like  \\\n",
       "0  JANUARY FEBRUARY 20154CIRRUS PILOTAs this is b...             NaN     0   \n",
       "1  JANUARY FEBRUARY 20156CIRRUS PILOTWith this is...             NaN     0   \n",
       "2  JANUARY FEBRUARY 201512CIRRUS PILOTby GIL WILL...  GIL WILLIAMSON     0   \n",
       "3  JANUARY FEBRUARY 201518CIRRUS PILOTIts hard to...             NaN     0   \n",
       "4  JANUARY FEBRUARY 201522CIRRUS PILOTCirrus Pilo...    KIM BLONIGEN     0   \n",
       "\n",
       "   Comment  Resource  SourceScore  RecencyRate  AuthorScore  \n",
       "0        0  Magazine            3    -0.465959    -1.209951  \n",
       "1        0  Magazine            3    -0.465959    -1.209951  \n",
       "2        0  Magazine            3    -0.465959     0.211050  \n",
       "3        0  Magazine            3    -0.465959    -1.209951  \n",
       "4        0  Magazine            3    -0.465959     0.211050  "
      ]
     },
     "execution_count": 11,
     "metadata": {},
     "output_type": "execute_result"
    }
   ],
   "source": [
    "df.head()"
   ]
  },
  {
   "cell_type": "markdown",
   "metadata": {},
   "source": [
    "__Input Searching query__"
   ]
  },
  {
   "cell_type": "markdown",
   "metadata": {},
   "source": [
    "For Search Results Ranking\n",
    "\n",
    "- \"Cirrus Parachute First Responders\"\n",
    "- \"Different between AATD and FTD\"\n",
    "- \"Activate vector to final\"\n",
    "- \"Turbo normalize vs turbo charge\"\n",
    "- \"Shooting ILS approach\""
   ]
  },
  {
   "cell_type": "code",
   "execution_count": 10,
   "metadata": {},
   "outputs": [],
   "source": [
    "taxonomy_terms = [tree['Title'] for tree in taxonomy_data['data'][1:]]\n",
    "\n",
    "topic_vector = {}\n",
    "for i in range(len(taxonomy_terms)):\n",
    "    topic_info = taxonomy_data['data'][1:][i] # Sub level of all terms other than COPA\n",
    "    title = re.findall(r'Title\\': \\'(.*?)\\'', str(topic_info)) # Extract all children titles under specific term\n",
    "    if len(title) > 1: # If the term is among the bottom level, then just assign itself to the term\n",
    "        topic_vector[taxonomy_terms[i].lower()] = title[1:]\n",
    "    else:\n",
    "        topic_vector[taxonomy_terms[i].lower()] = [taxonomy_terms[i]]"
   ]
  },
  {
   "cell_type": "markdown",
   "metadata": {},
   "source": [
    "Think about which fuzzywuzzy method we should use:\n",
    "For each vector in topic_vector: which level we should match to.\n",
    "What kind of vector we want to get in the end? \n",
    "Current version: Combine all the match vectors together.\n"
   ]
  },
  {
   "cell_type": "code",
   "execution_count": 11,
   "metadata": {},
   "outputs": [],
   "source": [
    "query = \"Shooting ILS approach\""
   ]
  },
  {
   "cell_type": "code",
   "execution_count": 12,
   "metadata": {},
   "outputs": [],
   "source": [
    "threshold = 80  # Maybe adjusted to improve performance"
   ]
  },
  {
   "cell_type": "code",
   "execution_count": 13,
   "metadata": {},
   "outputs": [],
   "source": [
    "# Compare query to each leaf node, if the partial match score is higher than the threshold, then return a combination vector\n",
    "# that contains all words in those leaf nodes.\n",
    "def fuzzywuzzy_match(query,threshold):\n",
    "    \n",
    "    # Generate a list contains all leaf nodes, each sublist contains all words in that leaf node.\n",
    "    leaf_node = list()\n",
    "    for item in topic_vector:\n",
    "        if len(topic_vector[item]) == 1:\n",
    "            leaf_node.append(topic_vector[item][0].split())\n",
    "            \n",
    "    reference_vector = list()\n",
    "    \n",
    "    for node in leaf_node:\n",
    "        query_len = len(query)\n",
    "        node_len = len(node)\n",
    "        \n",
    "        if query_len >= node_len: # If query is longer\n",
    "            for i in range(node_len):\n",
    "                score = fuzz.partial_ratio(node[i],query)\n",
    "                if score > threshold:\n",
    "                    reference_vector.append(node) \n",
    "                    \n",
    "        else: # If leaf node is longer\n",
    "            for j in range(query_len):\n",
    "                score = fuzz.partial_ratio(query[j],node)\n",
    "                if score > threshold:\n",
    "                    reference_vector.append(node)\n",
    "    \n",
    "    reference_vector = list(list(i) for i in set(map(tuple, reference_vector))) # Deduplication\n",
    "    \n",
    "    return reference_vector"
   ]
  },
  {
   "cell_type": "code",
   "execution_count": 14,
   "metadata": {},
   "outputs": [
    {
     "data": {
      "text/plain": [
       "[['Not', 'Over', 'a', 'Runaway'],\n",
       " ['Ground', 'controlled', 'approach', '(GCA)'],\n",
       " ['LOC', 'Approach'],\n",
       " ['Terminal', 'Radar', 'Approach', 'Control', '(TRACON)'],\n",
       " ['Instrument', 'Approach', 'Procedures', 'Charts', '(IAPs)'],\n",
       " ['GPSS', 'Approach'],\n",
       " ['Precision', 'approach', 'radar', '(PAR)'],\n",
       " ['Straight-In', 'ILS', 'Approach'],\n",
       " ['Straight-In', 'Back', 'Course', 'Approach'],\n",
       " ['Over', 'a', 'Runaway'],\n",
       " ['approach', 'with', 'vertical', 'guidance', '(APV)'],\n",
       " ['LNAV/VNAV', 'approaches'],\n",
       " ['ILS', 'Approach'],\n",
       " ['Joint', 'Precision', 'Approach', 'and', 'Landing', 'System', '(JPALS)'],\n",
       " ['Experience', 'in', 'type'],\n",
       " ['Straight-In', 'VOR', 'Approach'],\n",
       " ['Surveillance', 'radar', 'approach', '(SRA)'],\n",
       " ['Straight-In', 'LOC', 'Approach'],\n",
       " ['Cirrus', 'Approach'],\n",
       " ['Back', 'Course', 'Approach']]"
      ]
     },
     "execution_count": 14,
     "metadata": {},
     "output_type": "execute_result"
    }
   ],
   "source": [
    "fuzzywuzzy_match(query,threshold)"
   ]
  },
  {
   "cell_type": "code",
   "execution_count": 9,
   "metadata": {},
   "outputs": [],
   "source": [
    "def extract_keywords(search_query):\n",
    "    '''\n",
    "    Get the most important keyword from searching query \n",
    "    '''\n",
    "    stop_words = stopwords.words('english')\n",
    "    stop_words.append('vs')\n",
    "    r = Rake(stopwords = stop_words)\n",
    "    \n",
    "    r.extract_keywords_from_text(search_query)\n",
    "    rank = r.get_ranked_phrases_with_scores()\n",
    "    itemMaxValue = max(rank, key=lambda x: x[0])[0]\n",
    "    \n",
    "    # Find the most important keyword\n",
    "    listOfKeys = list()\n",
    "    for value, key in rank:\n",
    "        if value == itemMaxValue:\n",
    "            listOfKeys.append(key.lower())\n",
    "    \n",
    "    return listOfKeys"
   ]
  },
  {
   "cell_type": "code",
   "execution_count": 10,
   "metadata": {},
   "outputs": [],
   "source": [
    "# search_query = [\"Cirrus Parachute First Responders\", \"Difference between AATD and FTD\", \"Activate vector to final\", \"Turbo normalize vs turbo charge\", \"Shooting ILS approach\"]\n",
    "# extract_keywords(\"Difference between AATD and FTD\")"
   ]
  },
  {
   "cell_type": "code",
   "execution_count": 11,
   "metadata": {},
   "outputs": [],
   "source": []
  },
  {
   "cell_type": "code",
   "execution_count": 12,
   "metadata": {},
   "outputs": [],
   "source": [
    "def exact_match(search_query):\n",
    "    '''\n",
    "    The searching query can be exact matched by taxonomy tree.\n",
    "    '''\n",
    "    if search_query in taxonomy_terms:\n",
    "        taxonomy_vector = topic_vector[search_query.lower()]\n",
    "    return taxonomy_vector"
   ]
  },
  {
   "cell_type": "code",
   "execution_count": 13,
   "metadata": {},
   "outputs": [],
   "source": [
    "# exact_match('Tire Brands')"
   ]
  },
  {
   "cell_type": "code",
   "execution_count": 14,
   "metadata": {},
   "outputs": [],
   "source": [
    "# Create a vector that stores all the phrases(more than one word) that should be \n",
    "# token as a whole.\n",
    "def generate_phrases_tokenizer(topic_vector): # Return a list of tuples containing phrases.\n",
    "    all_multiword_tokens = list()\n",
    "    for item in topic_vector: \n",
    "        for phrase in topic_vector[item]:\n",
    "            phrase = phrase.replace('(','') # Eliminate '(' and ')' in the phrase\n",
    "            phrase = phrase.replace(')','')\n",
    "           #phrase = re.sub(r'( \\(.*\\))','',phrase) #exclude all contents in '()'\n",
    "            phrase_lower = phrase.lower() # Convert all characters into lower case.\n",
    "            #phrase_lower.replace('-', ' ')\n",
    "            word_lst = phrase_lower.split()\n",
    "            if len(word_lst) >= 2: \n",
    "                word_tuple = tuple(word_lst)\n",
    "                all_multiword_tokens.append(word_tuple)  \n",
    "    all_multiword_tokens = list(set(all_multiword_tokens)) # Deduplication\n",
    "    tokenizer = MWETokenizer(all_multiword_tokens,separator=' ')\n",
    "    return tokenizer"
   ]
  },
  {
   "cell_type": "code",
   "execution_count": 15,
   "metadata": {},
   "outputs": [],
   "source": [
    "def any_match(search_query,tokenizer):\n",
    "    '''\n",
    "    Any words in searching query can be exact matched by taxonomy tree.\n",
    "    '''\n",
    "    # Split input string into words or phrases according to taxonomy tree.\n",
    "    words = tokenizer.tokenize(search_query.split())\n",
    "    taxonomy_vector = []\n",
    "    for word in words:\n",
    "        try:\n",
    "            taxonomy_vector.append(topic_vector[word])\n",
    "        except:\n",
    "            continue\n",
    "    return taxonomy_vector"
   ]
  },
  {
   "cell_type": "code",
   "execution_count": 16,
   "metadata": {},
   "outputs": [
    {
     "data": {
      "text/plain": [
       "[['Turbo']]"
      ]
     },
     "execution_count": 16,
     "metadata": {},
     "output_type": "execute_result"
    }
   ],
   "source": [
    "phrase_tokenizer = generate_phrases_tokenizer(topic_vector)\n",
    "any_match(\"Turbo normalize vs turbo charge\", phrase_tokenizer)"
   ]
  },
  {
   "cell_type": "code",
   "execution_count": 17,
   "metadata": {},
   "outputs": [],
   "source": [
    "def keyword_match(keywords):\n",
    "    '''\n",
    "    The most important keyword of searching query can be matched by taxonomy tree.\n",
    "    '''\n",
    "    taxonomy_vector = []\n",
    "    for keyword in keywords:\n",
    "        try:\n",
    "            taxonomy_vector.append(topic_vector[keyword])\n",
    "        except:\n",
    "            continue\n",
    "    return taxonomy_vector"
   ]
  },
  {
   "cell_type": "code",
   "execution_count": 18,
   "metadata": {},
   "outputs": [],
   "source": [
    "# keywords = extract_keywords(\"Engine doesn't work.\")\n",
    "# keyword_match(keywords), keywords"
   ]
  },
  {
   "cell_type": "code",
   "execution_count": 19,
   "metadata": {},
   "outputs": [],
   "source": [
    "def topic_match(search_query):\n",
    "    '''\n",
    "    Extract the topic of searching query by LDA model trained by forum posts.\n",
    "    '''\n",
    "    texts1 = [[word for word in doc.lower().split() if word not in stop_words] for doc in [search_query]]\n",
    "    corpus1 = [id2word.doc2bow(t) for t in texts1]\n",
    "    result = lda_model.get_document_topics(corpus1)\n",
    "    LDA_topic = max(result[0], key=lambda x: x[1])[0]\n",
    "    return LDA_topic"
   ]
  },
  {
   "cell_type": "code",
   "execution_count": 82,
   "metadata": {},
   "outputs": [
    {
     "data": {
      "text/plain": [
       "(12,\n",
       " (12,\n",
       "  '0.101*\"altitude\" + 0.083*\"high\" + 0.065*\"climb\" + 0.041*\"low\" + 0.034*\"performance\" + 0.032*\"gun\" + 0.030*\"turbo\" + 0.028*\"level\" + 0.028*\"foot\" + 0.027*\"rate\"'))"
      ]
     },
     "execution_count": 82,
     "metadata": {},
     "output_type": "execute_result"
    }
   ],
   "source": [
    "# topic_match('Turbo normalize vs turbo charge'), lda_model.print_topics(num_words = 10)[12]"
   ]
  },
  {
   "cell_type": "code",
   "execution_count": null,
   "metadata": {},
   "outputs": [],
   "source": []
  }
 ],
 "metadata": {
  "kernelspec": {
   "display_name": "Python 3",
   "language": "python",
   "name": "python3"
  },
  "language_info": {
   "codemirror_mode": {
    "name": "ipython",
    "version": 3
   },
   "file_extension": ".py",
   "mimetype": "text/x-python",
   "name": "python",
   "nbconvert_exporter": "python",
   "pygments_lexer": "ipython3",
   "version": "3.7.4"
  },
  "toc": {
   "base_numbering": 1,
   "nav_menu": {},
   "number_sections": true,
   "sideBar": true,
   "skip_h1_title": false,
   "title_cell": "Table of Contents",
   "title_sidebar": "Contents",
   "toc_cell": false,
   "toc_position": {},
   "toc_section_display": true,
   "toc_window_display": false
  },
  "varInspector": {
   "cols": {
    "lenName": 16,
    "lenType": 16,
    "lenVar": 40
   },
   "kernels_config": {
    "python": {
     "delete_cmd_postfix": "",
     "delete_cmd_prefix": "del ",
     "library": "var_list.py",
     "varRefreshCmd": "print(var_dic_list())"
    },
    "r": {
     "delete_cmd_postfix": ") ",
     "delete_cmd_prefix": "rm(",
     "library": "var_list.r",
     "varRefreshCmd": "cat(var_dic_list()) "
    }
   },
   "types_to_exclude": [
    "module",
    "function",
    "builtin_function_or_method",
    "instance",
    "_Feature"
   ],
   "window_display": true
  }
 },
 "nbformat": 4,
 "nbformat_minor": 2
}
